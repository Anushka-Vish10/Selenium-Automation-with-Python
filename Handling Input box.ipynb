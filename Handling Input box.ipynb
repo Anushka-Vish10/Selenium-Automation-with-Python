{
 "cells": [
  {
   "cell_type": "markdown",
   "id": "1140b520",
   "metadata": {},
   "source": [
    "Input boxes\n",
    "1. Printing text in text box:\n",
    "> send_keys()\n",
    "2. Clear text\n",
    "> clear()\n",
    "    "
   ]
  },
  {
   "cell_type": "code",
   "execution_count": 7,
   "id": "da4589c3",
   "metadata": {},
   "outputs": [],
   "source": [
    "# Importing required library\n",
    "from selenium import webdriver\n",
    "import time\n"
   ]
  },
  {
   "cell_type": "code",
   "execution_count": 4,
   "id": "eed8f3a1",
   "metadata": {},
   "outputs": [
    {
     "name": "stderr",
     "output_type": "stream",
     "text": [
      "<ipython-input-4-d4fb528d6ed9>:1: DeprecationWarning: executable_path has been deprecated, please pass in a Service object\n",
      "  driver = webdriver.Chrome(executable_path=r\"C:\\Users\\Celebal\\Documents\\chromedriver_win32\\chromedriver.exe\")\n"
     ]
    }
   ],
   "source": [
    "driver = webdriver.Chrome(executable_path=r\"C:\\Users\\Celebal\\Documents\\chromedriver_win32\\chromedriver.exe\")"
   ]
  },
  {
   "cell_type": "code",
   "execution_count": 9,
   "id": "6d5d7a65",
   "metadata": {},
   "outputs": [],
   "source": [
    "driver.get(\"https://www.facebook.com/\")"
   ]
  },
  {
   "cell_type": "code",
   "execution_count": 10,
   "id": "cf336e63",
   "metadata": {},
   "outputs": [
    {
     "name": "stderr",
     "output_type": "stream",
     "text": [
      "<ipython-input-10-0bc09196f8e0>:3: DeprecationWarning: find_element_by_* commands are deprecated. Please use find_element() instead\n",
      "  text = driver.find_element_by_name(\"email\")\n"
     ]
    }
   ],
   "source": [
    "# Sending text to email section\n",
    "\n",
    "text = driver.find_element_by_name(\"email\")\n",
    "text.send_keys(\"vishi@gmail.com\")"
   ]
  },
  {
   "cell_type": "code",
   "execution_count": 12,
   "id": "aaaf31fb",
   "metadata": {},
   "outputs": [],
   "source": [
    "time.sleep(3)   # to make a pause to see the action\n",
    "\n",
    "text.clear()      # this will clear the text from the text box"
   ]
  },
  {
   "cell_type": "code",
   "execution_count": null,
   "id": "0cdcb851",
   "metadata": {},
   "outputs": [],
   "source": []
  }
 ],
 "metadata": {
  "kernelspec": {
   "display_name": "Python 3",
   "language": "python",
   "name": "python3"
  },
  "language_info": {
   "codemirror_mode": {
    "name": "ipython",
    "version": 3
   },
   "file_extension": ".py",
   "mimetype": "text/x-python",
   "name": "python",
   "nbconvert_exporter": "python",
   "pygments_lexer": "ipython3",
   "version": "3.8.8"
  }
 },
 "nbformat": 4,
 "nbformat_minor": 5
}
