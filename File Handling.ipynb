{
 "cells": [
  {
   "cell_type": "markdown",
   "id": "b3c89e79",
   "metadata": {},
   "source": [
    "File upload and download operations are widely used by the users on the web application. To perform the operations the series of webdriver commands are used."
   ]
  },
  {
   "cell_type": "code",
   "execution_count": 27,
   "id": "2f9691ce",
   "metadata": {},
   "outputs": [],
   "source": [
    "# Importing required library\n",
    "from selenium import webdriver\n",
    "import time"
   ]
  },
  {
   "cell_type": "code",
   "execution_count": 22,
   "id": "8f2dc453",
   "metadata": {},
   "outputs": [
    {
     "name": "stderr",
     "output_type": "stream",
     "text": [
      "<ipython-input-22-0aef6be5299c>:2: DeprecationWarning: executable_path has been deprecated, please pass in a Service object\n",
      "  driver = webdriver.Chrome(executable_path=r\"C:\\Users\\Celebal\\Documents\\chromedriver_win32\\chromedriver.exe\")\n"
     ]
    }
   ],
   "source": [
    "# Setting up the driver\n",
    "driver = webdriver.Chrome(executable_path=r\"C:\\Users\\Celebal\\Documents\\chromedriver_win32\\chromedriver.exe\")"
   ]
  },
  {
   "cell_type": "code",
   "execution_count": 17,
   "id": "d3b6bd3c",
   "metadata": {},
   "outputs": [],
   "source": [
    "driver.get(\"http://testautomationpractice.blogspot.com/\")      # Practice URL\n",
    "driver.maximize_window()  "
   ]
  },
  {
   "cell_type": "markdown",
   "id": "ff8e09ea",
   "metadata": {},
   "source": [
    "# Upload File"
   ]
  },
  {
   "cell_type": "code",
   "execution_count": 18,
   "id": "7cfea51e",
   "metadata": {},
   "outputs": [],
   "source": [
    "# As we right click on upload file, will see frame source, reload frame, means that button is inside of frame\n",
    "# So we have to move into frame first i.e. switch frame\n",
    "\n",
    "driver.switch_to.frame(\"frame-one1434677811\")\n",
    "\n"
   ]
  },
  {
   "cell_type": "code",
   "execution_count": 19,
   "id": "41843cd6",
   "metadata": {},
   "outputs": [
    {
     "name": "stderr",
     "output_type": "stream",
     "text": [
      "<ipython-input-19-26325cc419c6>:2: DeprecationWarning: find_element_by_* commands are deprecated. Please use find_element() instead\n",
      "  upload_file = driver.find_element_by_id(\"RESULT_FileUpload-10\")\n"
     ]
    }
   ],
   "source": [
    "# We will loacte the element for uploading file\n",
    "upload_file = driver.find_element_by_id(\"RESULT_FileUpload-10\")\n"
   ]
  },
  {
   "cell_type": "code",
   "execution_count": 20,
   "id": "c26bb338",
   "metadata": {},
   "outputs": [],
   "source": [
    "# before directing switching into upload file, let's firstly scroll the page upto that\n",
    "\n",
    "driver.execute_script(\"arguments[0].scrollIntoView();\", upload_file)"
   ]
  },
  {
   "cell_type": "code",
   "execution_count": 21,
   "id": "31c625f6",
   "metadata": {},
   "outputs": [],
   "source": [
    "# Once our submitt button become visible, \n",
    "\n",
    "upload_file.send_keys(r\"C:\\Users\\Celebal\\Documents\\Code_Code\\upload file\")         # here we have to provide the complete path of file that has to upload\n",
    "\n",
    "\n",
    "# this is how we upload any documnent on the web page"
   ]
  },
  {
   "cell_type": "markdown",
   "id": "5b30dad8",
   "metadata": {},
   "source": [
    "# Download File"
   ]
  },
  {
   "cell_type": "code",
   "execution_count": 23,
   "id": "583e3d19",
   "metadata": {},
   "outputs": [],
   "source": [
    "driver.get(\"http://demo.automationtesting.in/FileDownload.html\")      # Practice URL\n",
    "driver.maximize_window()  "
   ]
  },
  {
   "cell_type": "code",
   "execution_count": 28,
   "id": "f290c410",
   "metadata": {},
   "outputs": [
    {
     "name": "stderr",
     "output_type": "stream",
     "text": [
      "<ipython-input-28-48df199dcd78>:4: DeprecationWarning: find_element_by_* commands are deprecated. Please use find_element() instead\n",
      "  enter_text = driver.find_element_by_id(\"textbox\").send_keys(\"I am just performing download action using selenium webdriver\")\n"
     ]
    }
   ],
   "source": [
    "# For performing download action\n",
    "# 1. In this website we have to enter the text, loacte the element for the same\n",
    "\n",
    "enter_text = driver.find_element_by_id(\"textbox\").send_keys(\"I am just performing download action using selenium webdriver\")\n",
    "\n",
    "time.sleep(3)\n"
   ]
  },
  {
   "cell_type": "code",
   "execution_count": 29,
   "id": "c29e1617",
   "metadata": {},
   "outputs": [
    {
     "name": "stderr",
     "output_type": "stream",
     "text": [
      "<ipython-input-29-5558d3b51538>:2: DeprecationWarning: find_element_by_* commands are deprecated. Please use find_element() instead\n",
      "  file = driver.find_element_by_id(\"createTxt\").click()\n"
     ]
    }
   ],
   "source": [
    "# for download option, we have to click on  generate file option for getting download option\n",
    "file = driver.find_element_by_id(\"createTxt\").click()\n"
   ]
  },
  {
   "cell_type": "code",
   "execution_count": 32,
   "id": "667fa60b",
   "metadata": {},
   "outputs": [
    {
     "name": "stderr",
     "output_type": "stream",
     "text": [
      "<ipython-input-32-190f08422e26>:3: DeprecationWarning: find_element_by_* commands are deprecated. Please use find_element() instead\n",
      "  download_file = driver.find_element_by_link_text(\"Download\")\n"
     ]
    }
   ],
   "source": [
    "# For downloading the file, lets click on download link\n",
    "\n",
    "download_file = driver.find_element_by_link_text(\"Download\")\n",
    "download_file.click()"
   ]
  }
 ],
 "metadata": {
  "kernelspec": {
   "display_name": "Python 3",
   "language": "python",
   "name": "python3"
  },
  "language_info": {
   "codemirror_mode": {
    "name": "ipython",
    "version": 3
   },
   "file_extension": ".py",
   "mimetype": "text/x-python",
   "name": "python",
   "nbconvert_exporter": "python",
   "pygments_lexer": "ipython3",
   "version": "3.8.8"
  }
 },
 "nbformat": 4,
 "nbformat_minor": 5
}
