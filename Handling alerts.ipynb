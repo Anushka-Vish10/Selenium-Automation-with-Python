{
 "cells": [
  {
   "cell_type": "markdown",
   "id": "251bc3fa",
   "metadata": {},
   "source": [
    "An alert on the web page is used to get the attention of the user to perform some operation. Generally alerts are performed using javascripts inside the HTML page. Alerts take the focus away from the current window and force the browser to read the message. Alerts prevents the user from accessing other parts of the web page until the box is closed. To handle the alerts we need to first switch to the alert and then accept or dismiss the alert."
   ]
  },
  {
   "cell_type": "markdown",
   "id": "b3c5b01f",
   "metadata": {},
   "source": [
    "1. Alerts/Popup\n",
    "\n",
    ">> A. Switch to alert\n",
    "\n",
    ">>> a. ale = driver.switch_to.alert\n",
    "\n",
    ">> B. Accept alert\n",
    "\n",
    ">>> b. ale.accept();\n",
    "\n",
    ">> C. Dismiss alert\n",
    "\n",
    ">>> c. ale.dismiss()\n",
    "\n",
    ">> D.Get text from the alert\n",
    "\n",
    ">>> d. ale.text"
   ]
  },
  {
   "cell_type": "code",
   "execution_count": 2,
   "id": "397dc7bf",
   "metadata": {},
   "outputs": [],
   "source": [
    "# Importing required library\n",
    "from selenium import webdriver\n",
    "import time"
   ]
  },
  {
   "cell_type": "code",
   "execution_count": null,
   "id": "4b9fb14c",
   "metadata": {},
   "outputs": [],
   "source": [
    "\n",
    "ale = driver.switch_to.alert     \n",
    "\n",
    "\n",
    "# Want to get the text on alert box\n",
    "print(ale.text)"
   ]
  },
  {
   "cell_type": "code",
   "execution_count": null,
   "id": "6b439ebb",
   "metadata": {},
   "outputs": [],
   "source": [
    "# for accepting the alert\n",
    "ale.accept()"
   ]
  },
  {
   "cell_type": "code",
   "execution_count": null,
   "id": "b3856ae2",
   "metadata": {},
   "outputs": [],
   "source": [
    "# For dismissing the alert\n",
    "ale.dismiss()"
   ]
  }
 ],
 "metadata": {
  "kernelspec": {
   "display_name": "Python 3",
   "language": "python",
   "name": "python3"
  },
  "language_info": {
   "codemirror_mode": {
    "name": "ipython",
    "version": 3
   },
   "file_extension": ".py",
   "mimetype": "text/x-python",
   "name": "python",
   "nbconvert_exporter": "python",
   "pygments_lexer": "ipython3",
   "version": "3.8.8"
  }
 },
 "nbformat": 4,
 "nbformat_minor": 5
}
