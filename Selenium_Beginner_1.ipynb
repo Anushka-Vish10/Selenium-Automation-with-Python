{
 "cells": [
  {
   "cell_type": "raw",
   "id": "b206a48c",
   "metadata": {},
   "source": [
    "SELENIUM is a free (open-source) automated testing framework used to validate web applications across different browsers and platforms. You can use multiple programming languages like Java, C#, Python etc. to create Selenium Test Scripts\n",
    "\n",
    "Selenium WebDriver is a collection of open source APIs which are used to automate the testing of a web application."
   ]
  },
  {
   "cell_type": "code",
   "execution_count": 41,
   "id": "43b117dc",
   "metadata": {},
   "outputs": [
    {
     "name": "stdout",
     "output_type": "stream",
     "text": [
      "Requirement already satisfied: selenium in c:\\users\\celebal\\anaconda3\\lib\\site-packages (4.1.0)\n",
      "Requirement already satisfied: trio-websocket~=0.9 in c:\\users\\celebal\\anaconda3\\lib\\site-packages (from selenium) (0.9.2)\n",
      "Requirement already satisfied: urllib3[secure]~=1.26 in c:\\users\\celebal\\anaconda3\\lib\\site-packages (from selenium) (1.26.4)\n",
      "Requirement already satisfied: trio~=0.17 in c:\\users\\celebal\\anaconda3\\lib\\site-packages (from selenium) (0.19.0)\n",
      "Requirement already satisfied: outcome in c:\\users\\celebal\\anaconda3\\lib\\site-packages (from trio~=0.17->selenium) (1.1.0)\n",
      "Requirement already satisfied: sortedcontainers in c:\\users\\celebal\\anaconda3\\lib\\site-packages (from trio~=0.17->selenium) (2.3.0)\n",
      "Requirement already satisfied: attrs>=19.2.0 in c:\\users\\celebal\\anaconda3\\lib\\site-packages (from trio~=0.17->selenium) (20.3.0)\n",
      "Requirement already satisfied: async-generator>=1.9 in c:\\users\\celebal\\anaconda3\\lib\\site-packages (from trio~=0.17->selenium) (1.10)\n",
      "Requirement already satisfied: cffi>=1.14 in c:\\users\\celebal\\anaconda3\\lib\\site-packages (from trio~=0.17->selenium) (1.14.5)\n",
      "Requirement already satisfied: sniffio in c:\\users\\celebal\\anaconda3\\lib\\site-packages (from trio~=0.17->selenium) (1.2.0)\n",
      "Requirement already satisfied: idna in c:\\users\\celebal\\anaconda3\\lib\\site-packages (from trio~=0.17->selenium) (2.10)\n",
      "Requirement already satisfied: pycparser in c:\\users\\celebal\\anaconda3\\lib\\site-packages (from cffi>=1.14->trio~=0.17->selenium) (2.20)\n",
      "Requirement already satisfied: wsproto>=0.14 in c:\\users\\celebal\\anaconda3\\lib\\site-packages (from trio-websocket~=0.9->selenium) (1.0.0)\n",
      "Requirement already satisfied: certifi in c:\\users\\celebal\\anaconda3\\lib\\site-packages (from urllib3[secure]~=1.26->selenium) (2020.12.5)\n",
      "Requirement already satisfied: pyOpenSSL>=0.14 in c:\\users\\celebal\\anaconda3\\lib\\site-packages (from urllib3[secure]~=1.26->selenium) (20.0.1)\n",
      "Requirement already satisfied: cryptography>=1.3.4 in c:\\users\\celebal\\anaconda3\\lib\\site-packages (from urllib3[secure]~=1.26->selenium) (3.4.7)\n",
      "Requirement already satisfied: six>=1.5.2 in c:\\users\\celebal\\anaconda3\\lib\\site-packages (from pyOpenSSL>=0.14->urllib3[secure]~=1.26->selenium) (1.15.0)\n",
      "Requirement already satisfied: h11<1,>=0.9.0 in c:\\users\\celebal\\anaconda3\\lib\\site-packages (from wsproto>=0.14->trio-websocket~=0.9->selenium) (0.12.0)\n"
     ]
    }
   ],
   "source": [
    "!pip install selenium"
   ]
  },
  {
   "cell_type": "code",
   "execution_count": 1,
   "id": "1a35d6d8",
   "metadata": {},
   "outputs": [],
   "source": [
    "from selenium import webdriver"
   ]
  },
  {
   "cell_type": "code",
   "execution_count": 2,
   "id": "263f1b27",
   "metadata": {},
   "outputs": [
    {
     "name": "stderr",
     "output_type": "stream",
     "text": [
      "<ipython-input-2-d4fb528d6ed9>:1: DeprecationWarning: executable_path has been deprecated, please pass in a Service object\n",
      "  driver = webdriver.Chrome(executable_path=r\"C:\\Users\\Celebal\\Documents\\chromedriver_win32\\chromedriver.exe\")\n"
     ]
    }
   ],
   "source": [
    "driver = webdriver.Chrome(executable_path=r\"C:\\Users\\Celebal\\Documents\\chromedriver_win32\\chromedriver.exe\")"
   ]
  },
  {
   "cell_type": "code",
   "execution_count": 44,
   "id": "7c282434",
   "metadata": {},
   "outputs": [],
   "source": [
    "driver.get(\"https://www.google.com/\") # Navigating to google webpage"
   ]
  },
  {
   "cell_type": "markdown",
   "id": "43d81b55",
   "metadata": {},
   "source": [
    "# Locators \n",
    "\n",
    "###### Locators supported by webdriver are:\n",
    "###### 1. ID\n",
    "###### 2. Name\n",
    "###### 3.Class\n",
    "###### 4. Tag name\n",
    "###### 5. Link text\n",
    "###### 6. Partial link text\n",
    "###### 7. CSS Selectors\n",
    "###### 8. Xpath"
   ]
  },
  {
   "cell_type": "raw",
   "id": "e92e6bd8",
   "metadata": {},
   "source": [
    "## Locators are the HTML properties of the web element which tells the selenium about web element on which it has to perform the action. Every selenium script requires the locator to identify the web element uniquely and precisely.\n",
    "\n",
    "\n",
    "## ID stored in the id attribute of an HTML DOM element is unique for every element in the page by design. Thus ID can uniquely identify an element."
   ]
  },
  {
   "cell_type": "code",
   "execution_count": 46,
   "id": "d76d100e",
   "metadata": {},
   "outputs": [],
   "source": [
    "# Doing work on facebook page"
   ]
  },
  {
   "cell_type": "code",
   "execution_count": 3,
   "id": "9a621498",
   "metadata": {},
   "outputs": [],
   "source": [
    "driver.maximize_window()                       # for maximizing the window size\n",
    "driver.get(\"https://www.facebook.com/\")        # for navigating to facebook page/ webpage \n"
   ]
  },
  {
   "cell_type": "markdown",
   "id": "349a2232",
   "metadata": {},
   "source": [
    "### Using Id locator"
   ]
  },
  {
   "cell_type": "code",
   "execution_count": 70,
   "id": "1ce086c1",
   "metadata": {},
   "outputs": [
    {
     "name": "stderr",
     "output_type": "stream",
     "text": [
      "<ipython-input-70-b5962609c33c>:3: DeprecationWarning: find_element_by_* commands are deprecated. Please use find_element() instead\n",
      "  email = driver.find_element_by_id(\"email\")   ## For finding element by id locator\n"
     ]
    }
   ],
   "source": [
    "# find the text locator by id and sends the text i.e email in it\n",
    "\n",
    "email = driver.find_element_by_id(\"email\")   ## For finding element by id locator\n",
    "email.send_keys(\"guvi@gmial.com\")                 ## For sending text to the text box"
   ]
  },
  {
   "cell_type": "code",
   "execution_count": 71,
   "id": "12a049e5",
   "metadata": {},
   "outputs": [
    {
     "name": "stderr",
     "output_type": "stream",
     "text": [
      "<ipython-input-71-e5fd65f9dba6>:2: DeprecationWarning: find_element_by_* commands are deprecated. Please use find_element() instead\n",
      "  password = driver.find_element_by_id(\"pass\")    ## For finding element by id locator\n"
     ]
    }
   ],
   "source": [
    "# finding the text locator for id\n",
    "password = driver.find_element_by_id(\"pass\")    ## For finding element by id locator\n",
    "password.send_keys(\"guvi123\")                   ## For sending text to the text box"
   ]
  },
  {
   "cell_type": "markdown",
   "id": "e2ecb190",
   "metadata": {},
   "source": [
    "### We can do it by using name locator as well\n",
    "\n"
   ]
  },
  {
   "cell_type": "raw",
   "id": "5c5b42cd",
   "metadata": {},
   "source": [
    "Locating the web element can be done using name, class or link texts attributes. find_element_by_name(name) method is used to locate the web element using the name attribute while find_element_by_class_ name(name) is used to locate the web element using class attribute. Locating web element using the link text can be done in two ways those are find_element_by_link_text(link_text) or find_element_by_partial_link_text(link_text). If no element with the given attribute is found then “NoSuchElementException” is thrown."
   ]
  },
  {
   "cell_type": "code",
   "execution_count": 15,
   "id": "b408b4e8",
   "metadata": {},
   "outputs": [
    {
     "name": "stderr",
     "output_type": "stream",
     "text": [
      "<ipython-input-15-dcc8c13b0ea9>:1: DeprecationWarning: find_element_by_* commands are deprecated. Please use find_element() instead\n",
      "  email2= driver.find_element_by_name(\"email\").send_keys(\"trisha@gmial.com\") # findind text box and sending text to it\n",
      "<ipython-input-15-dcc8c13b0ea9>:2: DeprecationWarning: find_element_by_* commands are deprecated. Please use find_element() instead\n",
      "  pass2 = driver.find_element_by_name(\"pass\").send_keys(\"12345\")             # finding text box for passowrd and putting text as well\n"
     ]
    }
   ],
   "source": [
    "email2= driver.find_element_by_name(\"email\").send_keys(\"trisha@gmial.com\") # findind text box and sending text to it\n",
    "pass2 = driver.find_element_by_name(\"pass\").send_keys(\"12345\")             # finding text box for passowrd and putting text as well\n"
   ]
  },
  {
   "cell_type": "markdown",
   "id": "5365f739",
   "metadata": {},
   "source": [
    "## Let's perform the same operation by using class attribute"
   ]
  },
  {
   "cell_type": "code",
   "execution_count": 81,
   "id": "8443dbbf",
   "metadata": {},
   "outputs": [
    {
     "name": "stdout",
     "output_type": "stream",
     "text": [
      "Facebook helps you connect and share with the people in your life.\n"
     ]
    },
    {
     "name": "stderr",
     "output_type": "stream",
     "text": [
      "<ipython-input-81-409fbcbb5b6e>:1: DeprecationWarning: find_element_by_* commands are deprecated. Please use find_element() instead\n",
      "  txt = driver.find_element_by_class_name(\"_8eso\").text\n"
     ]
    }
   ],
   "source": [
    "txt = driver.find_element_by_class_name(\"_8eso\").text    # getting this text using class attribute\n",
    "print(txt)"
   ]
  },
  {
   "cell_type": "code",
   "execution_count": 66,
   "id": "1852269e",
   "metadata": {
    "scrolled": true
   },
   "outputs": [
    {
     "name": "stderr",
     "output_type": "stream",
     "text": [
      "<ipython-input-66-7bf4ba246e7b>:1: DeprecationWarning: find_element_by_* commands are deprecated. Please use find_element() instead\n",
      "  email3= driver.find_element_by_class_name(\"inputtext _55r1 _6luy\").send_keys(\"trisha@gmial.com\")        # findind text  box by using class attribute and sending text to it\n"
     ]
    },
    {
     "ename": "NoSuchElementException",
     "evalue": "Message: no such element: Unable to locate element: {\"method\":\"css selector\",\"selector\":\".inputtext _55r1 _6luy\"}\n  (Session info: chrome=96.0.4664.45)\nStacktrace:\nBacktrace:\n\tOrdinal0 [0x00D36903+2517251]\n\tOrdinal0 [0x00CCF8E1+2095329]\n\tOrdinal0 [0x00BD2848+1058888]\n\tOrdinal0 [0x00BFD448+1233992]\n\tOrdinal0 [0x00BFD63B+1234491]\n\tOrdinal0 [0x00C27812+1406994]\n\tOrdinal0 [0x00C1650A+1336586]\n\tOrdinal0 [0x00C25BBF+1399743]\n\tOrdinal0 [0x00C1639B+1336219]\n\tOrdinal0 [0x00BF27A7+1189799]\n\tOrdinal0 [0x00BF3609+1193481]\n\tGetHandleVerifier [0x00EC5904+1577972]\n\tGetHandleVerifier [0x00F70B97+2279047]\n\tGetHandleVerifier [0x00DC6D09+534521]\n\tGetHandleVerifier [0x00DC5DB9+530601]\n\tOrdinal0 [0x00CD4FF9+2117625]\n\tOrdinal0 [0x00CD98A8+2136232]\n\tOrdinal0 [0x00CD99E2+2136546]\n\tOrdinal0 [0x00CE3541+2176321]\n\tBaseThreadInitThunk [0x7699FA29+25]\n\tRtlGetAppContainerNamedObjectPath [0x77677A9E+286]\n\tRtlGetAppContainerNamedObjectPath [0x77677A6E+238]\n",
     "output_type": "error",
     "traceback": [
      "\u001b[1;31m---------------------------------------------------------------------------\u001b[0m",
      "\u001b[1;31mNoSuchElementException\u001b[0m                    Traceback (most recent call last)",
      "\u001b[1;32m<ipython-input-66-7bf4ba246e7b>\u001b[0m in \u001b[0;36m<module>\u001b[1;34m\u001b[0m\n\u001b[1;32m----> 1\u001b[1;33m \u001b[0memail3\u001b[0m\u001b[1;33m=\u001b[0m \u001b[0mdriver\u001b[0m\u001b[1;33m.\u001b[0m\u001b[0mfind_element_by_class_name\u001b[0m\u001b[1;33m(\u001b[0m\u001b[1;34m\"inputtext _55r1 _6luy\"\u001b[0m\u001b[1;33m)\u001b[0m\u001b[1;33m.\u001b[0m\u001b[0msend_keys\u001b[0m\u001b[1;33m(\u001b[0m\u001b[1;34m\"trisha@gmial.com\"\u001b[0m\u001b[1;33m)\u001b[0m        \u001b[1;31m# findind text  box by using class attribute and sending text to it\u001b[0m\u001b[1;33m\u001b[0m\u001b[1;33m\u001b[0m\u001b[0m\n\u001b[0m\u001b[0;32m      2\u001b[0m \u001b[0mpass3\u001b[0m \u001b[1;33m=\u001b[0m \u001b[0mdriver\u001b[0m\u001b[1;33m.\u001b[0m\u001b[0mfind_element_by_class_name\u001b[0m\u001b[1;33m(\u001b[0m\u001b[1;34m\"inputtext _55r1 _6luy _9npi\"\u001b[0m\u001b[1;33m)\u001b[0m\u001b[1;33m.\u001b[0m\u001b[0msend_keys\u001b[0m\u001b[1;33m(\u001b[0m\u001b[1;34m\"12345\"\u001b[0m\u001b[1;33m)\u001b[0m             \u001b[1;31m# finding text box for passowrd using class attribute and putting text as well\u001b[0m\u001b[1;33m\u001b[0m\u001b[1;33m\u001b[0m\u001b[0m\n",
      "\u001b[1;32m~\\anaconda3\\lib\\site-packages\\selenium\\webdriver\\remote\\webdriver.py\u001b[0m in \u001b[0;36mfind_element_by_class_name\u001b[1;34m(self, name)\u001b[0m\n\u001b[0;32m    758\u001b[0m             \u001b[0mstacklevel\u001b[0m\u001b[1;33m=\u001b[0m\u001b[1;36m2\u001b[0m\u001b[1;33m,\u001b[0m\u001b[1;33m\u001b[0m\u001b[1;33m\u001b[0m\u001b[0m\n\u001b[0;32m    759\u001b[0m         )\n\u001b[1;32m--> 760\u001b[1;33m         \u001b[1;32mreturn\u001b[0m \u001b[0mself\u001b[0m\u001b[1;33m.\u001b[0m\u001b[0mfind_element\u001b[0m\u001b[1;33m(\u001b[0m\u001b[0mby\u001b[0m\u001b[1;33m=\u001b[0m\u001b[0mBy\u001b[0m\u001b[1;33m.\u001b[0m\u001b[0mCLASS_NAME\u001b[0m\u001b[1;33m,\u001b[0m \u001b[0mvalue\u001b[0m\u001b[1;33m=\u001b[0m\u001b[0mname\u001b[0m\u001b[1;33m)\u001b[0m\u001b[1;33m\u001b[0m\u001b[1;33m\u001b[0m\u001b[0m\n\u001b[0m\u001b[0;32m    761\u001b[0m \u001b[1;33m\u001b[0m\u001b[0m\n\u001b[0;32m    762\u001b[0m     \u001b[1;32mdef\u001b[0m \u001b[0mfind_elements_by_class_name\u001b[0m\u001b[1;33m(\u001b[0m\u001b[0mself\u001b[0m\u001b[1;33m,\u001b[0m \u001b[0mname\u001b[0m\u001b[1;33m)\u001b[0m \u001b[1;33m->\u001b[0m \u001b[0mWebElement\u001b[0m\u001b[1;33m:\u001b[0m\u001b[1;33m\u001b[0m\u001b[1;33m\u001b[0m\u001b[0m\n",
      "\u001b[1;32m~\\anaconda3\\lib\\site-packages\\selenium\\webdriver\\remote\\webdriver.py\u001b[0m in \u001b[0;36mfind_element\u001b[1;34m(self, by, value)\u001b[0m\n\u001b[0;32m   1242\u001b[0m             \u001b[0mvalue\u001b[0m \u001b[1;33m=\u001b[0m \u001b[1;34m'[name=\"%s\"]'\u001b[0m \u001b[1;33m%\u001b[0m \u001b[0mvalue\u001b[0m\u001b[1;33m\u001b[0m\u001b[1;33m\u001b[0m\u001b[0m\n\u001b[0;32m   1243\u001b[0m \u001b[1;33m\u001b[0m\u001b[0m\n\u001b[1;32m-> 1244\u001b[1;33m         return self.execute(Command.FIND_ELEMENT, {\n\u001b[0m\u001b[0;32m   1245\u001b[0m             \u001b[1;34m'using'\u001b[0m\u001b[1;33m:\u001b[0m \u001b[0mby\u001b[0m\u001b[1;33m,\u001b[0m\u001b[1;33m\u001b[0m\u001b[1;33m\u001b[0m\u001b[0m\n\u001b[0;32m   1246\u001b[0m             'value': value})['value']\n",
      "\u001b[1;32m~\\anaconda3\\lib\\site-packages\\selenium\\webdriver\\remote\\webdriver.py\u001b[0m in \u001b[0;36mexecute\u001b[1;34m(self, driver_command, params)\u001b[0m\n\u001b[0;32m    422\u001b[0m         \u001b[0mresponse\u001b[0m \u001b[1;33m=\u001b[0m \u001b[0mself\u001b[0m\u001b[1;33m.\u001b[0m\u001b[0mcommand_executor\u001b[0m\u001b[1;33m.\u001b[0m\u001b[0mexecute\u001b[0m\u001b[1;33m(\u001b[0m\u001b[0mdriver_command\u001b[0m\u001b[1;33m,\u001b[0m \u001b[0mparams\u001b[0m\u001b[1;33m)\u001b[0m\u001b[1;33m\u001b[0m\u001b[1;33m\u001b[0m\u001b[0m\n\u001b[0;32m    423\u001b[0m         \u001b[1;32mif\u001b[0m \u001b[0mresponse\u001b[0m\u001b[1;33m:\u001b[0m\u001b[1;33m\u001b[0m\u001b[1;33m\u001b[0m\u001b[0m\n\u001b[1;32m--> 424\u001b[1;33m             \u001b[0mself\u001b[0m\u001b[1;33m.\u001b[0m\u001b[0merror_handler\u001b[0m\u001b[1;33m.\u001b[0m\u001b[0mcheck_response\u001b[0m\u001b[1;33m(\u001b[0m\u001b[0mresponse\u001b[0m\u001b[1;33m)\u001b[0m\u001b[1;33m\u001b[0m\u001b[1;33m\u001b[0m\u001b[0m\n\u001b[0m\u001b[0;32m    425\u001b[0m             response['value'] = self._unwrap_value(\n\u001b[0;32m    426\u001b[0m                 response.get('value', None))\n",
      "\u001b[1;32m~\\anaconda3\\lib\\site-packages\\selenium\\webdriver\\remote\\errorhandler.py\u001b[0m in \u001b[0;36mcheck_response\u001b[1;34m(self, response)\u001b[0m\n\u001b[0;32m    245\u001b[0m                 \u001b[0malert_text\u001b[0m \u001b[1;33m=\u001b[0m \u001b[0mvalue\u001b[0m\u001b[1;33m[\u001b[0m\u001b[1;34m'alert'\u001b[0m\u001b[1;33m]\u001b[0m\u001b[1;33m.\u001b[0m\u001b[0mget\u001b[0m\u001b[1;33m(\u001b[0m\u001b[1;34m'text'\u001b[0m\u001b[1;33m)\u001b[0m\u001b[1;33m\u001b[0m\u001b[1;33m\u001b[0m\u001b[0m\n\u001b[0;32m    246\u001b[0m             \u001b[1;32mraise\u001b[0m \u001b[0mexception_class\u001b[0m\u001b[1;33m(\u001b[0m\u001b[0mmessage\u001b[0m\u001b[1;33m,\u001b[0m \u001b[0mscreen\u001b[0m\u001b[1;33m,\u001b[0m \u001b[0mstacktrace\u001b[0m\u001b[1;33m,\u001b[0m \u001b[0malert_text\u001b[0m\u001b[1;33m)\u001b[0m  \u001b[1;31m# type: ignore[call-arg]  # mypy is not smart enough here\u001b[0m\u001b[1;33m\u001b[0m\u001b[1;33m\u001b[0m\u001b[0m\n\u001b[1;32m--> 247\u001b[1;33m         \u001b[1;32mraise\u001b[0m \u001b[0mexception_class\u001b[0m\u001b[1;33m(\u001b[0m\u001b[0mmessage\u001b[0m\u001b[1;33m,\u001b[0m \u001b[0mscreen\u001b[0m\u001b[1;33m,\u001b[0m \u001b[0mstacktrace\u001b[0m\u001b[1;33m)\u001b[0m\u001b[1;33m\u001b[0m\u001b[1;33m\u001b[0m\u001b[0m\n\u001b[0m\u001b[0;32m    248\u001b[0m \u001b[1;33m\u001b[0m\u001b[0m\n\u001b[0;32m    249\u001b[0m     \u001b[1;32mdef\u001b[0m \u001b[0m_value_or_default\u001b[0m\u001b[1;33m(\u001b[0m\u001b[0mself\u001b[0m\u001b[1;33m,\u001b[0m \u001b[0mobj\u001b[0m\u001b[1;33m:\u001b[0m \u001b[0mMapping\u001b[0m\u001b[1;33m[\u001b[0m\u001b[0m_KT\u001b[0m\u001b[1;33m,\u001b[0m \u001b[0m_VT\u001b[0m\u001b[1;33m]\u001b[0m\u001b[1;33m,\u001b[0m \u001b[0mkey\u001b[0m\u001b[1;33m:\u001b[0m \u001b[0m_KT\u001b[0m\u001b[1;33m,\u001b[0m \u001b[0mdefault\u001b[0m\u001b[1;33m:\u001b[0m \u001b[0m_VT\u001b[0m\u001b[1;33m)\u001b[0m \u001b[1;33m->\u001b[0m \u001b[0m_VT\u001b[0m\u001b[1;33m:\u001b[0m\u001b[1;33m\u001b[0m\u001b[1;33m\u001b[0m\u001b[0m\n",
      "\u001b[1;31mNoSuchElementException\u001b[0m: Message: no such element: Unable to locate element: {\"method\":\"css selector\",\"selector\":\".inputtext _55r1 _6luy\"}\n  (Session info: chrome=96.0.4664.45)\nStacktrace:\nBacktrace:\n\tOrdinal0 [0x00D36903+2517251]\n\tOrdinal0 [0x00CCF8E1+2095329]\n\tOrdinal0 [0x00BD2848+1058888]\n\tOrdinal0 [0x00BFD448+1233992]\n\tOrdinal0 [0x00BFD63B+1234491]\n\tOrdinal0 [0x00C27812+1406994]\n\tOrdinal0 [0x00C1650A+1336586]\n\tOrdinal0 [0x00C25BBF+1399743]\n\tOrdinal0 [0x00C1639B+1336219]\n\tOrdinal0 [0x00BF27A7+1189799]\n\tOrdinal0 [0x00BF3609+1193481]\n\tGetHandleVerifier [0x00EC5904+1577972]\n\tGetHandleVerifier [0x00F70B97+2279047]\n\tGetHandleVerifier [0x00DC6D09+534521]\n\tGetHandleVerifier [0x00DC5DB9+530601]\n\tOrdinal0 [0x00CD4FF9+2117625]\n\tOrdinal0 [0x00CD98A8+2136232]\n\tOrdinal0 [0x00CD99E2+2136546]\n\tOrdinal0 [0x00CE3541+2176321]\n\tBaseThreadInitThunk [0x7699FA29+25]\n\tRtlGetAppContainerNamedObjectPath [0x77677A9E+286]\n\tRtlGetAppContainerNamedObjectPath [0x77677A6E+238]\n"
     ]
    }
   ],
   "source": [
    "email3= driver.find_element_by_class_name(\"inputtext _55r1 _6luy\").send_keys(\"trisha@gmial.com\")        # findind text  box by using class attribute and sending text to it\n",
    "pass3 = driver.find_element_by_class_name(\"inputtext _55r1 _6luy _9npi\").send_keys(\"12345\")             # finding text box for passowrd using class attribute and putting text as well\n",
    "\n",
    "\n",
    "\n",
    "# See we can get exception error this is because class name has more then one word called as compound word\n",
    "# and class_name attribute won't work on them"
   ]
  },
  {
   "cell_type": "markdown",
   "id": "ab66b0fb",
   "metadata": {},
   "source": [
    "# Locating by class attribute and clicking on button"
   ]
  },
  {
   "cell_type": "code",
   "execution_count": 16,
   "id": "9ffc9afb",
   "metadata": {},
   "outputs": [
    {
     "name": "stderr",
     "output_type": "stream",
     "text": [
      "<ipython-input-16-e8cda2c5726b>:2: DeprecationWarning: find_element_by_* commands are deprecated. Please use find_element() instead\n",
      "  log_in = driver.find_element_by_name(\"login\")\n"
     ]
    }
   ],
   "source": [
    "# Clicking to the login button\n",
    "log_in = driver.find_element_by_name(\"login\")\n",
    "log_in.click()                                            "
   ]
  },
  {
   "cell_type": "markdown",
   "id": "068af416",
   "metadata": {},
   "source": [
    "\n",
    "## find_element_by_link_text(link_text)\n",
    "##### Only works on the link, i.e. the anchor tag associated to it"
   ]
  },
  {
   "cell_type": "code",
   "execution_count": 17,
   "id": "eaf4ca10",
   "metadata": {},
   "outputs": [
    {
     "name": "stderr",
     "output_type": "stream",
     "text": [
      "<ipython-input-17-f571b455f72f>:1: DeprecationWarning: find_element_by_* commands are deprecated. Please use find_element() instead\n",
      "  link_text = driver.find_element_by_link_text(\"Forgotten password?\") ## we identify the locator by link text\n"
     ]
    }
   ],
   "source": [
    "link_text = driver.find_element_by_link_text(\"Forgotten password?\") ## we identify the locator by link text\n",
    "link_text.click()   # for clicking on forgetten password link"
   ]
  },
  {
   "cell_type": "markdown",
   "id": "9dc17186",
   "metadata": {},
   "source": [
    "# find_element_by_partial_link_text(link_text)\n",
    "###### Suppose the text is too long, we can find element by partial link text"
   ]
  },
  {
   "cell_type": "code",
   "execution_count": 6,
   "id": "4c2814b3",
   "metadata": {},
   "outputs": [
    {
     "name": "stderr",
     "output_type": "stream",
     "text": [
      "<ipython-input-6-b20551e1b1fd>:1: DeprecationWarning: find_element_by_* commands are deprecated. Please use find_element() instead\n",
      "  partial_text = driver.find_element_by_partial_link_text(\"Forgotten\").click()\n"
     ]
    }
   ],
   "source": [
    "partial_text = driver.find_element_by_partial_link_text(\"Forgotten\").click()"
   ]
  },
  {
   "cell_type": "markdown",
   "id": "258d4e2d",
   "metadata": {},
   "source": [
    "###### Note:  If no element with the given attribute is found then “NoSuchElementException” is thrown.\n",
    "######            If more then one same text are presesnt, it is going to select the frist one"
   ]
  },
  {
   "cell_type": "markdown",
   "id": "98f3d9ee",
   "metadata": {},
   "source": [
    "## Find element by XPath"
   ]
  },
  {
   "cell_type": "raw",
   "id": "1c57d4e2",
   "metadata": {},
   "source": [
    "XPath is a syntax for finding elements on web pages. Using UXPath in Selenium helps find elements that are not found by locators such as ID, class, or name. XPath in Selenium can be used on both HTML and XML documents"
   ]
  },
  {
   "cell_type": "code",
   "execution_count": 25,
   "id": "2842c9e0",
   "metadata": {},
   "outputs": [
    {
     "name": "stderr",
     "output_type": "stream",
     "text": [
      "<ipython-input-25-888729695e45>:1: DeprecationWarning: find_element_by_* commands are deprecated. Please use find_element() instead\n",
      "  x_path = driver.find_element_by_xpath(\"//*[@id='email']\").send_keys(\"vishi\")  # finding text box using xpath and sending text into into it\n"
     ]
    }
   ],
   "source": [
    "x_path = driver.find_element_by_xpath(\"//*[@id='email']\").send_keys(\"vishi\")  # finding text box using xpath and sending text into into it\n",
    "\n",
    "\n",
    "\n",
    "# Note: We can use xpath in such a way \n",
    "# and two double quotes cannot be taken by Selenium, it will give sytax error\n",
    "# here element are not present using xpath , so that recieving NoSuchElementexception"
   ]
  },
  {
   "cell_type": "markdown",
   "id": "26af408c",
   "metadata": {},
   "source": [
    "##### We can create xpath bu our own also\n",
    "######    This is the syntax for writing xpath :  //*[@id='email'], //h2[@class='_8eso'],  we can use any attribute rahter then just id, like class and it's value, name , etc\n",
    "## Note: Compound class are also allowed in xpath like , \n",
    "### //button[@class='_42ft _4jy0 _6lth _4jy6 _4jy1 selected _51sy']\n"
   ]
  },
  {
   "cell_type": "code",
   "execution_count": 33,
   "id": "fdf5bbd5",
   "metadata": {},
   "outputs": [
    {
     "name": "stderr",
     "output_type": "stream",
     "text": [
      "<ipython-input-33-0ae318808d94>:1: DeprecationWarning: find_element_by_* commands are deprecated. Please use find_element() instead\n",
      "  own_xpath = driver.find_element_by_xpath(\"//input[@id='email']\").send_keys(\"trisha\")\n"
     ]
    }
   ],
   "source": [
    "own_xpath = driver.find_element_by_xpath(\"//input[@id='email']\").send_keys(\"trisha\")"
   ]
  },
  {
   "cell_type": "markdown",
   "id": "1e879bf3",
   "metadata": {},
   "source": [
    "# find_element_by_css_selector"
   ]
  },
  {
   "cell_type": "code",
   "execution_count": 29,
   "id": "90146170",
   "metadata": {},
   "outputs": [
    {
     "name": "stdout",
     "output_type": "stream",
     "text": [
      "[]\n"
     ]
    },
    {
     "name": "stderr",
     "output_type": "stream",
     "text": [
      "<ipython-input-29-2516c10b775b>:1: DeprecationWarning: find_elements_by_* commands are deprecated. Please use find_elements() instead\n",
      "  css_selector = driver.find_elements_by_css_selector(\"#u_0_2_rD\")\n"
     ]
    }
   ],
   "source": [
    "css_selector = driver.find_elements_by_css_selector(\"#u_0_2_rD\")\n",
    "print(css_selector)\n",
    "\n",
    "# as we are finding element by css selector, it is giving empty list so that we can't be able to click or send_keys into it\n",
    "# So, we can find any element bt using css selector i.e. id\n"
   ]
  },
  {
   "cell_type": "markdown",
   "id": "5ead1b20",
   "metadata": {},
   "source": [
    "#### Write CSS Selector by own\n",
    "###### Syntax : tag name [ attribut = value]\n"
   ]
  },
  {
   "cell_type": "code",
   "execution_count": 37,
   "id": "6db83d1b",
   "metadata": {},
   "outputs": [
    {
     "name": "stdout",
     "output_type": "stream",
     "text": [
      "[<selenium.webdriver.remote.webelement.WebElement (session=\"30569667bf2d03c15e4040deb0800271\", element=\"6e286bc6-e343-4ff5-9de8-a8e39e536b2c\")>]\n"
     ]
    },
    {
     "name": "stderr",
     "output_type": "stream",
     "text": [
      "<ipython-input-37-9a2868d305e0>:1: DeprecationWarning: find_elements_by_* commands are deprecated. Please use find_elements() instead\n",
      "  selector =  driver.find_elements_by_css_selector(\"input[name='pass']\")\n"
     ]
    }
   ],
   "source": [
    "selector =  driver.find_elements_by_css_selector(\"input[name='pass']\")\n",
    "print(selector)"
   ]
  },
  {
   "cell_type": "markdown",
   "id": "bfcaff0f",
   "metadata": {},
   "source": [
    "# XPath & ChroPath"
   ]
  },
  {
   "cell_type": "raw",
   "id": "e1f63f57",
   "metadata": {},
   "source": [
    "Xpath is XML path. Xpath is used to find the location of any element on a web page using HTML DOM structure. If the element is not found using id, name, class etc then xpath is used to find element on the web page.\n",
    "\n",
    "\n",
    "ChroPath is the developer tool used to edit, inspect and generate the xpath and css selectors. It highlights the element which we have written manually.\n",
    "\n",
    "\n",
    "Absolute xpath uses complete path from the Root Element to the desire element. Relative xpath can simply start by referencing the element you want and go from there."
   ]
  },
  {
   "cell_type": "markdown",
   "id": "af82d07a",
   "metadata": {},
   "source": [
    "# Writing Xpath with different methods"
   ]
  },
  {
   "cell_type": "raw",
   "id": "4736877e",
   "metadata": {},
   "source": [
    "Xpath can be written in various ways to identify the web element using different available attributes. Boolean AND and OR can be used to write xpath. Multiple attribute and value can be used to write the xpath.\n",
    "\n",
    "\n",
    "\n",
    "Note: Some way of writing xpath is already discussed above.\n",
    "\n",
    "Suppose when we write xpath using class or any other attribute and  attribute's value is not unique then we can use another attribute as well to make it unique and identified.\n",
    "\n",
    "1. Example: //input[@class='inputtext _55r1 _6luy _9npi'][@data-testid='royal_pass']\n",
    "\n",
    "2. Boolean And: This works only if both the conditions satisfied\n",
    "Example: //input[@class='inputtext _55r1 _6luy _9npi' and @data-testid='royal_pass']\n",
    "and also, //input[@type = 'text' and @class='inputtext _58mg _5dba _2ph-' and @name='lastname']\n",
    "\n",
    "\n",
    "\n",
    "3. Boolean OR : What if  some of the attribute is dynamic or get changed, on that case we use or to identify the element\n",
    "Example: //input[@type = 'txt'  or @name='lastname']\n"
   ]
  },
  {
   "cell_type": "markdown",
   "id": "b35a8eea",
   "metadata": {},
   "source": [
    "# String functions in xpath"
   ]
  },
  {
   "cell_type": "raw",
   "id": "687f3a3f",
   "metadata": {},
   "source": [
    "1. string starts-with(string, string)\n",
    "2. string contains(string, string)\n",
    "\n",
    "\n",
    "a) Suppose in class attribute we just know the starting string and how do we find element by xpath\n",
    "> Writing xpath using string starts-with: syntax: //tag[starts-with(@attribute,attribute's value_start)\n",
    "\n",
    "                                          Example: i)  //button[starts-with(@data-testid,'royal_login_button')]\n",
    "                                          \n",
    "                                                   ii) //img[starts-with(@class,'fb')]\n",
    "                                                   \n",
    "b) suppose rather then start string, we use middle of the string or the last and how do we write element by xpath\n",
    "> Writing xpath using string starts-with: syntax: //tag[contains(@attribute,attribute's value_middle)\n",
    "                                        \n",
    "                                          Example: i)    //input[contains(@aria-label , 'phone')] \n",
    "                                                   ii)  //span[contains(@class , 'vQzf8d')]"
   ]
  },
  {
   "cell_type": "markdown",
   "id": "ac3d81a9",
   "metadata": {},
   "source": [
    "# Finding XPath with the help of text"
   ]
  },
  {
   "cell_type": "raw",
   "id": "4188c31e",
   "metadata": {},
   "source": [
    "Suppose we forgot the script, then will write the xpath with the help of text,\n",
    "\n",
    "Syntax: //tag[text()='text']\n",
    "Example: //button[text()='Forgot email?']\n"
   ]
  },
  {
   "cell_type": "markdown",
   "id": "98a78c5a",
   "metadata": {},
   "source": [
    "# Dynamic elements in xpath"
   ]
  },
  {
   "cell_type": "raw",
   "id": "e36f8646",
   "metadata": {},
   "source": [
    "Many element have the dynamic attribute values, how do we write xpath for such type of element?\n",
    "a) Traverse to the sibling element using xpath\n",
    "   i> Following-sibling::\n",
    "   ii> Preceding-sibling::\n",
    "b) Trvaerse to parent elemnet usnig xpath\n",
    "   i> Parent:\n",
    "   \n",
    "   \n",
    "1) Syntax for traversing from parent to child: //TagName[AttributName = 'AttributeValue']/TagName[n]/TagName[n]\n",
    "\n",
    "                                     Example: //div[@class = 'clearfix _58mh']/div[1]/div[1]/input\n",
    "                                     or     : //div[@class = 'clearfix _58mh']/div[1]/div[1]/input[1]\n",
    "                                     \n",
    "                                     \n",
    "Note: We use following sibling in the case, when the attribute is dynamic and parent is also dynamic\n",
    "2) Syntax for traversing from sibling to sibling(following-sibling): In these we beed to go from term link to cookies\n",
    "                                              \n",
    "                                                Example: //a[@id='terms-link']//following-sibling::a[2] ---(2 inbracket because                                                                                                 we need to get the 2nd sibling)\n",
    "3)Prceding-sibling: Suppose we want to get the element prior to the fixed element we are on\n",
    " Example: //a[@id='privacy-link']//preceding-sibling::a, this is how we move to the preceding-sibling in case of dynamic one\n",
    " \n",
    " \n",
    "4) How do we know the element whose child is fix, but parent is dynamic?\n",
    "> In that case we can traverse from child to parent\n",
    "\n",
    "> from the link to the parent we are moving\n",
    "> Example : //a[@id='privacy-link']//parent::p  , getting to the parent of data privacy link\n",
    "\n",
    "                         "
   ]
  },
  {
   "cell_type": "code",
   "execution_count": null,
   "id": "0b946227",
   "metadata": {},
   "outputs": [],
   "source": []
  },
  {
   "cell_type": "code",
   "execution_count": null,
   "id": "1623e4be",
   "metadata": {},
   "outputs": [],
   "source": []
  },
  {
   "cell_type": "code",
   "execution_count": null,
   "id": "00d21175",
   "metadata": {},
   "outputs": [],
   "source": []
  },
  {
   "cell_type": "code",
   "execution_count": null,
   "id": "d6ad193b",
   "metadata": {},
   "outputs": [],
   "source": []
  }
 ],
 "metadata": {
  "kernelspec": {
   "display_name": "Python 3",
   "language": "python",
   "name": "python3"
  },
  "language_info": {
   "codemirror_mode": {
    "name": "ipython",
    "version": 3
   },
   "file_extension": ".py",
   "mimetype": "text/x-python",
   "name": "python",
   "nbconvert_exporter": "python",
   "pygments_lexer": "ipython3",
   "version": "3.8.8"
  }
 },
 "nbformat": 4,
 "nbformat_minor": 5
}
