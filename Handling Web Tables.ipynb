{
 "cells": [
  {
   "cell_type": "markdown",
   "id": "67d4b6b8",
   "metadata": {},
   "source": [
    "A table is made of rows and columns. When we create a table for a web page, that is called as a web table. In HTML, table is created using <table> tag. Web table is a HTML structure for creating rows and columns on a Web page. To access the data from the tables, selenium webdriver has to navigate through rows and columns."
   ]
  },
  {
   "cell_type": "markdown",
   "id": "400a50d9",
   "metadata": {},
   "source": [
    "Web/HTML Tables\n",
    "\n",
    "> Operations to be performed\n",
    "\n",
    "> 1. Get number of rows\n",
    "\n",
    "> 2. Get number of columns\n",
    "\n",
    "> 3. Get the size of table\n",
    "\n",
    "> 4. Get the total data"
   ]
  },
  {
   "cell_type": "code",
   "execution_count": 26,
   "id": "66d1f606",
   "metadata": {},
   "outputs": [],
   "source": [
    "# Importing required library\n",
    "from selenium import webdriver\n",
    "import time"
   ]
  },
  {
   "cell_type": "code",
   "execution_count": 27,
   "id": "019c9f7d",
   "metadata": {},
   "outputs": [
    {
     "name": "stderr",
     "output_type": "stream",
     "text": [
      "<ipython-input-27-0aef6be5299c>:2: DeprecationWarning: executable_path has been deprecated, please pass in a Service object\n",
      "  driver = webdriver.Chrome(executable_path=r\"C:\\Users\\Celebal\\Documents\\chromedriver_win32\\chromedriver.exe\")\n"
     ]
    }
   ],
   "source": [
    "# Setting up the driver\n",
    "driver = webdriver.Chrome(executable_path=r\"C:\\Users\\Celebal\\Documents\\chromedriver_win32\\chromedriver.exe\")"
   ]
  },
  {
   "cell_type": "code",
   "execution_count": 28,
   "id": "3bd8e926",
   "metadata": {},
   "outputs": [],
   "source": [
    "driver.get(\"https://www.w3schools.com/html/html_tables.asp\")      # practice URL\n",
    "driver.maximize_window()"
   ]
  },
  {
   "cell_type": "markdown",
   "id": "2f004662",
   "metadata": {},
   "source": [
    "//*[@id=\"customers\"]/tbody/tr[1]/th[1]     \n",
    "\n",
    "//*[@id=\"customers\"]/tbody/tr[1]/th[2]\n",
    "\n",
    "//*[@id=\"customers\"]/tbody/tr[1]/th[3]\n",
    "\n",
    "As we have seen above upto tr the xpath us same"
   ]
  },
  {
   "cell_type": "markdown",
   "id": "404be146",
   "metadata": {},
   "source": [
    "//*[@id=\"customers\"]/tbody/tr[3]/td[1]     # td is for columns , for knowing number of cloumn as we see, tr's value is same\n",
    "\n",
    "//*[@id=\"customers\"]/tbody/tr[3]/td[2]\n",
    "\n",
    "//*[@id=\"customers\"]/tbody/tr[3]/td[3]"
   ]
  },
  {
   "cell_type": "code",
   "execution_count": 29,
   "id": "b1fa119c",
   "metadata": {},
   "outputs": [
    {
     "name": "stdout",
     "output_type": "stream",
     "text": [
      "Number of rows: 7\n",
      "Number of columns: 3\n"
     ]
    },
    {
     "name": "stderr",
     "output_type": "stream",
     "text": [
      "<ipython-input-29-8766f2f642fb>:1: DeprecationWarning: find_elements_by_* commands are deprecated. Please use find_elements() instead\n",
      "  number_of_rows = len(driver.find_elements_by_xpath(\"//*[@id='customers']/tbody/tr\")) # for stroring the length of table\n",
      "<ipython-input-29-8766f2f642fb>:2: DeprecationWarning: find_elements_by_* commands are deprecated. Please use find_elements() instead\n",
      "  number_of_column = len(driver.find_elements_by_xpath(\"//*[@id='customers']/tbody/tr[3]/td\"))   # for storing length of columns\n"
     ]
    }
   ],
   "source": [
    "number_of_rows = len(driver.find_elements_by_xpath(\"//*[@id='customers']/tbody/tr\")) # for stroring the length of table\n",
    "number_of_column = len(driver.find_elements_by_xpath(\"//*[@id='customers']/tbody/tr[3]/td\"))   # for storing length of columns\n",
    "\n",
    "\n",
    "print(\"Number of rows:\", number_of_rows) \n",
    "print(\"Number of columns:\", number_of_column)\n"
   ]
  },
  {
   "cell_type": "code",
   "execution_count": 17,
   "id": "18b12d8a",
   "metadata": {},
   "outputs": [
    {
     "name": "stdout",
     "output_type": "stream",
     "text": [
      "Table size =  7*3\n"
     ]
    }
   ],
   "source": [
    "# for getting the size of table\n",
    "print(\"Table size = \", str(number_of_rows)+\"*\"+str(number_of_column))"
   ]
  },
  {
   "cell_type": "markdown",
   "id": "9e950ba6",
   "metadata": {},
   "source": [
    "# Get the total data"
   ]
  },
  {
   "cell_type": "code",
   "execution_count": 19,
   "id": "bf11cb95",
   "metadata": {},
   "outputs": [
    {
     "name": "stderr",
     "output_type": "stream",
     "text": [
      "<ipython-input-19-1d6c183a3d9f>:5: DeprecationWarning: find_element_by_* commands are deprecated. Please use find_element() instead\n",
      "  data = driver.find_element_by_xpath(\"//*[@id='customers']/tbody/tr[\"+str(r)+\"]/td[\"+str(c)+\"]\").text\n"
     ]
    },
    {
     "name": "stdout",
     "output_type": "stream",
     "text": [
      "Alfreds Futterkiste\n",
      "Maria Anders\n",
      "Germany\n",
      "Centro comercial Moctezuma\n",
      "Francisco Chang\n",
      "Mexico\n",
      "Ernst Handel\n",
      "Roland Mendel\n",
      "Austria\n",
      "Island Trading\n",
      "Helen Bennett\n",
      "UK\n",
      "Laughing Bacchus Winecellars\n",
      "Yoshi Tannamuri\n",
      "Canada\n",
      "Magazzini Alimentari Riuniti\n",
      "Giovanni Rovelli\n",
      "Italy\n"
     ]
    }
   ],
   "source": [
    "# for getting the whole data, I need to iterate through every row and every column\n",
    "\n",
    "for r in range(2, number_of_rows+1):\n",
    "    for c in range(1, number_of_column+1):\n",
    "        data = driver.find_element_by_xpath(\"//*[@id='customers']/tbody/tr[\"+str(r)+\"]/td[\"+str(c)+\"]\").text\n",
    "        print(data)\n",
    "driver.close()"
   ]
  },
  {
   "cell_type": "code",
   "execution_count": 30,
   "id": "2f325fbe",
   "metadata": {},
   "outputs": [
    {
     "name": "stderr",
     "output_type": "stream",
     "text": [
      "<ipython-input-30-beb1f05bc1a1>:5: DeprecationWarning: find_element_by_* commands are deprecated. Please use find_element() instead\n",
      "  data = driver.find_element_by_xpath(\"//*[@id='customers']/tbody/tr[\"+str(r)+\"]/td[\"+str(c)+\"]\").text\n"
     ]
    },
    {
     "name": "stdout",
     "output_type": "stream",
     "text": [
      "Alfreds Futterkiste ,Maria Anders ,Germany ,\n",
      "Centro comercial Moctezuma ,Francisco Chang ,Mexico ,\n",
      "Ernst Handel ,Roland Mendel ,Austria ,\n",
      "Island Trading ,Helen Bennett ,UK ,\n",
      "Laughing Bacchus Winecellars ,Yoshi Tannamuri ,Canada ,\n",
      "Magazzini Alimentari Riuniti ,Giovanni Rovelli ,Italy ,\n"
     ]
    }
   ],
   "source": [
    "# As we can see the above data is not in formatted in table for\n",
    "# we can format it as\n",
    "for r in range(2, number_of_rows+1):\n",
    "    for c in range(1, number_of_column+1):\n",
    "        data = driver.find_element_by_xpath(\"//*[@id='customers']/tbody/tr[\"+str(r)+\"]/td[\"+str(c)+\"]\").text\n",
    "        print(data, end=\" ,\" )\n",
    "    print()\n",
    "driver.close()\n"
   ]
  }
 ],
 "metadata": {
  "kernelspec": {
   "display_name": "Python 3",
   "language": "python",
   "name": "python3"
  },
  "language_info": {
   "codemirror_mode": {
    "name": "ipython",
    "version": 3
   },
   "file_extension": ".py",
   "mimetype": "text/x-python",
   "name": "python",
   "nbconvert_exporter": "python",
   "pygments_lexer": "ipython3",
   "version": "3.8.8"
  }
 },
 "nbformat": 4,
 "nbformat_minor": 5
}
