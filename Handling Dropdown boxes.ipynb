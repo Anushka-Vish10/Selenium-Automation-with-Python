{
 "cells": [
  {
   "cell_type": "markdown",
   "id": "74a777cb",
   "metadata": {},
   "source": [
    "# Handling Drop Down Boxes"
   ]
  },
  {
   "cell_type": "markdown",
   "id": "bba4edfc",
   "metadata": {},
   "source": [
    "Selecting option\n",
    "\n",
    "1. select_by_visible_text()\n",
    "2. select_by_index()\n",
    "3. select_ by_value()\n",
    "\n",
    "Counting all options\n",
    "Capturing all options"
   ]
  },
  {
   "cell_type": "code",
   "execution_count": 27,
   "id": "c994918d",
   "metadata": {},
   "outputs": [],
   "source": [
    "# Importing required libraries"
   ]
  },
  {
   "cell_type": "code",
   "execution_count": 8,
   "id": "384a8eda",
   "metadata": {},
   "outputs": [],
   "source": [
    "from selenium import webdriver\n",
    "from selenium.webdriver.support.ui import Select\n",
    "\n",
    "import time"
   ]
  },
  {
   "cell_type": "code",
   "execution_count": 21,
   "id": "d96fbb6f",
   "metadata": {},
   "outputs": [
    {
     "name": "stderr",
     "output_type": "stream",
     "text": [
      "<ipython-input-21-d4fb528d6ed9>:1: DeprecationWarning: executable_path has been deprecated, please pass in a Service object\n",
      "  driver = webdriver.Chrome(executable_path=r\"C:\\Users\\Celebal\\Documents\\chromedriver_win32\\chromedriver.exe\")\n"
     ]
    }
   ],
   "source": [
    "driver = webdriver.Chrome(executable_path=r\"C:\\Users\\Celebal\\Documents\\chromedriver_win32\\chromedriver.exe\")"
   ]
  },
  {
   "cell_type": "code",
   "execution_count": 5,
   "id": "4a3e3788",
   "metadata": {},
   "outputs": [],
   "source": [
    "driver.get(\"https://www.facebook.com/\")"
   ]
  },
  {
   "cell_type": "code",
   "execution_count": 7,
   "id": "51a3b26b",
   "metadata": {},
   "outputs": [
    {
     "name": "stderr",
     "output_type": "stream",
     "text": [
      "<ipython-input-7-764ba987b625>:1: DeprecationWarning: find_element_by_* commands are deprecated. Please use find_element() instead\n",
      "  click_on_ca = driver.find_element_by_xpath(\"//a[@role='button' and @ class='_42ft _4jy0 _6lti _4jy6 _4jy2 selected _51sy']\").click()\n"
     ]
    }
   ],
   "source": [
    "# Clicking on create account button\n",
    "\n",
    "click_on_ca = driver.find_element_by_xpath(\"//a[@role='button' and @ class='_42ft _4jy0 _6lti _4jy6 _4jy2 selected _51sy']\").click()"
   ]
  },
  {
   "cell_type": "code",
   "execution_count": 13,
   "id": "6e3dd5ac",
   "metadata": {},
   "outputs": [
    {
     "name": "stderr",
     "output_type": "stream",
     "text": [
      "<ipython-input-13-d51327754721>:1: DeprecationWarning: find_element_by_* commands are deprecated. Please use find_element() instead\n",
      "  day = Select(driver.find_element_by_id(\"day\"))   # for selecting the options from drop down we need to create select class\n"
     ]
    }
   ],
   "source": [
    "# for selecting the options from drop down we need to create select class\n",
    "\n",
    "day = Select(driver.find_element_by_id(\"day\"))   \n",
    "\n"
   ]
  },
  {
   "cell_type": "code",
   "execution_count": 12,
   "id": "a497c19c",
   "metadata": {},
   "outputs": [],
   "source": [
    "# Method 1. Selecting drop down value with the help of visible text\n",
    "\n",
    "day.select_by_visible_text(\"6\")                         # Suppose I want to select day 6\n",
    "\n",
    "\n",
    "# This is how we select the value by text"
   ]
  },
  {
   "cell_type": "code",
   "execution_count": 16,
   "id": "032909ef",
   "metadata": {},
   "outputs": [],
   "source": [
    "# Method 2. select the value by index\n",
    "# Index value starts from 0\n",
    "\n",
    "day.select_by_index(2)             # for selecting value 3 , we have to assign 2 as index start from 0\n",
    "\n",
    "\n",
    "# This is how we select the value by index"
   ]
  },
  {
   "cell_type": "code",
   "execution_count": 18,
   "id": "8d0c7107",
   "metadata": {},
   "outputs": [],
   "source": [
    "# Method 3. Select the value by value\n",
    "\n",
    "day.select_by_value(\"5\")                     # Suppose I want to select the value 5"
   ]
  },
  {
   "cell_type": "code",
   "execution_count": 20,
   "id": "57c5cb3d",
   "metadata": {},
   "outputs": [
    {
     "name": "stdout",
     "output_type": "stream",
     "text": [
      "31\n",
      "1\n",
      "2\n",
      "3\n",
      "4\n",
      "5\n",
      "6\n",
      "7\n",
      "8\n",
      "9\n",
      "10\n",
      "11\n",
      "12\n",
      "13\n",
      "14\n",
      "15\n",
      "16\n",
      "17\n",
      "18\n",
      "19\n",
      "20\n",
      "21\n",
      "22\n",
      "23\n",
      "24\n",
      "25\n",
      "26\n",
      "27\n",
      "28\n",
      "29\n",
      "30\n",
      "31\n"
     ]
    }
   ],
   "source": [
    "# If we want to see how many option we have to select\n",
    "\n",
    "print(len(day.options))                     # This will give the length of options\n",
    "\n",
    "all_options = day.options\n",
    "for option in all_options:\n",
    "    print(option.text)\n",
    "    \n",
    "    \n",
    "    \n",
    "# As we are seeing, we have 31 options to select.\n",
    "# From 1 to 31"
   ]
  },
  {
   "cell_type": "code",
   "execution_count": null,
   "id": "3c1b7ffb",
   "metadata": {},
   "outputs": [],
   "source": []
  },
  {
   "cell_type": "code",
   "execution_count": null,
   "id": "e1c7993b",
   "metadata": {},
   "outputs": [],
   "source": []
  }
 ],
 "metadata": {
  "kernelspec": {
   "display_name": "Python 3",
   "language": "python",
   "name": "python3"
  },
  "language_info": {
   "codemirror_mode": {
    "name": "ipython",
    "version": 3
   },
   "file_extension": ".py",
   "mimetype": "text/x-python",
   "name": "python",
   "nbconvert_exporter": "python",
   "pygments_lexer": "ipython3",
   "version": "3.8.8"
  }
 },
 "nbformat": 4,
 "nbformat_minor": 5
}
