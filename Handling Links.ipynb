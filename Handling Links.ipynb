{
 "cells": [
  {
   "cell_type": "markdown",
   "id": "bcc16bd2",
   "metadata": {},
   "source": [
    "While working on the web links we can capture all the links present on the web page, count all the links and we click on the required link."
   ]
  },
  {
   "cell_type": "markdown",
   "id": "493d0a44",
   "metadata": {},
   "source": [
    "A. Links\n",
    "\n",
    ">a. Capture all links\n",
    "\n",
    ">b. Count total links\n",
    "\n",
    ">c. Click on required links\n",
    "\n",
    "The web links are associated with the anchor tag."
   ]
  },
  {
   "cell_type": "code",
   "execution_count": 2,
   "id": "9d7c69bb",
   "metadata": {},
   "outputs": [],
   "source": [
    "# Importing required libraries\n",
    "from selenium import webdriver\n",
    "import time"
   ]
  },
  {
   "cell_type": "code",
   "execution_count": 17,
   "id": "e12d95f1",
   "metadata": {},
   "outputs": [
    {
     "name": "stderr",
     "output_type": "stream",
     "text": [
      "<ipython-input-17-0aef6be5299c>:2: DeprecationWarning: executable_path has been deprecated, please pass in a Service object\n",
      "  driver = webdriver.Chrome(executable_path=r\"C:\\Users\\Celebal\\Documents\\chromedriver_win32\\chromedriver.exe\")\n"
     ]
    }
   ],
   "source": [
    "# Setting up the driver\n",
    "driver = webdriver.Chrome(executable_path=r\"C:\\Users\\Celebal\\Documents\\chromedriver_win32\\chromedriver.exe\")"
   ]
  },
  {
   "cell_type": "code",
   "execution_count": 18,
   "id": "4a4a915f",
   "metadata": {},
   "outputs": [],
   "source": [
    "# passing url\n",
    "driver.get(\"https://www.facebook.com/\")"
   ]
  },
  {
   "cell_type": "code",
   "execution_count": 19,
   "id": "7d4616ab",
   "metadata": {},
   "outputs": [
    {
     "name": "stdout",
     "output_type": "stream",
     "text": [
      "48\n"
     ]
    },
    {
     "name": "stderr",
     "output_type": "stream",
     "text": [
      "<ipython-input-19-01911da67f7c>:1: DeprecationWarning: find_elements_by_* commands are deprecated. Please use find_elements() instead\n",
      "  links = driver.find_elements_by_tag_name(\"a\")      # This will give us list of element\n"
     ]
    }
   ],
   "source": [
    "links = driver.find_elements_by_tag_name(\"a\")      # This will give us list of element\n",
    "print(len(links))\n"
   ]
  },
  {
   "cell_type": "code",
   "execution_count": 20,
   "id": "8d0634b6",
   "metadata": {},
   "outputs": [
    {
     "name": "stdout",
     "output_type": "stream",
     "text": [
      "\n",
      "\n",
      "\n",
      "Forgotten password?\n",
      "Create New Account\n",
      "Create a Page\n",
      "हिन्दी\n",
      "मराठी\n",
      "اردو\n",
      "ਪੰਜਾਬੀ\n",
      "বাংলা\n",
      "ગુજરાતી\n",
      "தமிழ்\n",
      "తెలుగు\n",
      "മലയാളം\n",
      "ಕನ್ನಡ\n",
      "\n",
      "Sign Up\n",
      "Log In\n",
      "Messenger\n",
      "Facebook Lite\n",
      "Watch\n",
      "Places\n",
      "Games\n",
      "Marketplace\n",
      "Facebook Pay\n",
      "Jobs\n",
      "Oculus\n",
      "Portal\n",
      "Instagram\n",
      "Bulletin\n",
      "Local\n",
      "Fundraisers\n",
      "Services\n",
      "Voting Information Centre\n",
      "Groups\n",
      "About\n",
      "Create ad\n",
      "Create Page\n",
      "Developers\n",
      "Careers\n",
      "Privacy\n",
      "Cookies\n",
      "AdChoices\n",
      "Terms\n",
      "Help\n",
      "Settings\n",
      "Activity log\n"
     ]
    }
   ],
   "source": [
    "# Iterating over the links, and print the links\n",
    "for link in links:\n",
    "    print(link.text)"
   ]
  },
  {
   "cell_type": "code",
   "execution_count": 21,
   "id": "469de270",
   "metadata": {},
   "outputs": [
    {
     "name": "stderr",
     "output_type": "stream",
     "text": [
      "<ipython-input-21-c3caf1991119>:2: DeprecationWarning: find_element_by_* commands are deprecated. Please use find_element() instead\n",
      "  create_acc = driver.find_element_by_xpath(\"//a[@role='button'and @class= '_42ft _4jy0 _6lti _4jy6 _4jy2 selected _51sy']\").click()\n"
     ]
    }
   ],
   "source": [
    "# Clicking on create account to reach to term link page\n",
    "create_acc = driver.find_element_by_xpath(\"//a[@role='button'and @class= '_42ft _4jy0 _6lti _4jy6 _4jy2 selected _51sy']\").click()\n"
   ]
  },
  {
   "cell_type": "code",
   "execution_count": 22,
   "id": "c23b4aab",
   "metadata": {},
   "outputs": [
    {
     "name": "stderr",
     "output_type": "stream",
     "text": [
      "<ipython-input-22-edf85097c1cd>:2: DeprecationWarning: find_element_by_* commands are deprecated. Please use find_element() instead\n",
      "  term_link = driver.find_element_by_id(\"terms-link\").click()\n"
     ]
    }
   ],
   "source": [
    "# Suppose we want to click on the term link\n",
    "term_link = driver.find_element_by_id(\"terms-link\").click()    # it will click on the term link"
   ]
  },
  {
   "cell_type": "code",
   "execution_count": null,
   "id": "48b92e69",
   "metadata": {},
   "outputs": [],
   "source": []
  },
  {
   "cell_type": "code",
   "execution_count": null,
   "id": "6ae878ac",
   "metadata": {},
   "outputs": [],
   "source": []
  },
  {
   "cell_type": "code",
   "execution_count": null,
   "id": "5f2a0bbf",
   "metadata": {},
   "outputs": [],
   "source": []
  },
  {
   "cell_type": "code",
   "execution_count": null,
   "id": "0b060bd0",
   "metadata": {},
   "outputs": [],
   "source": []
  }
 ],
 "metadata": {
  "kernelspec": {
   "display_name": "Python 3",
   "language": "python",
   "name": "python3"
  },
  "language_info": {
   "codemirror_mode": {
    "name": "ipython",
    "version": 3
   },
   "file_extension": ".py",
   "mimetype": "text/x-python",
   "name": "python",
   "nbconvert_exporter": "python",
   "pygments_lexer": "ipython3",
   "version": "3.8.8"
  }
 },
 "nbformat": 4,
 "nbformat_minor": 5
}
