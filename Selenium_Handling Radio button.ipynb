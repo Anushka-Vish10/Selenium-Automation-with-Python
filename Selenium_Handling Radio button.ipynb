{
 "cells": [
  {
   "cell_type": "markdown",
   "id": "f347944d",
   "metadata": {},
   "source": [
    "# Handling Radio button"
   ]
  },
  {
   "cell_type": "markdown",
   "id": "01abb214",
   "metadata": {},
   "source": [
    "Radio buttons are similar to checkboxes. But allows selection of only one value in a group of values. Radio button does not support deselection. To deselect a radio button, one needs to select any other radio button in that group. We can check that if the radio button is displayed, enabled or selected using the selenium webdriver. We can select the radio button."
   ]
  },
  {
   "cell_type": "markdown",
   "id": "af3ca4bd",
   "metadata": {},
   "source": [
    "1. Selecting  the radio button.\n",
    "> a.Click()\n",
    "2. Different operation on radio button.\n",
    "> a. is_selected()            # gives the boolean value, if the button is selected or not\n",
    "\n",
    "> b. is_displayed()           # gives the boolean value, if the button is displayed or not\n",
    "\n",
    "> c. is_enabled()             # gives the boolean value, if the button is enabled or not"
   ]
  },
  {
   "cell_type": "code",
   "execution_count": 1,
   "id": "c7ea373d",
   "metadata": {},
   "outputs": [],
   "source": [
    "# Importing required library\n",
    "from selenium import webdriver\n",
    "import time"
   ]
  },
  {
   "cell_type": "code",
   "execution_count": 4,
   "id": "2b269340",
   "metadata": {},
   "outputs": [
    {
     "name": "stderr",
     "output_type": "stream",
     "text": [
      "<ipython-input-4-0aef6be5299c>:2: DeprecationWarning: executable_path has been deprecated, please pass in a Service object\n",
      "  driver = webdriver.Chrome(executable_path=r\"C:\\Users\\Celebal\\Documents\\chromedriver_win32\\chromedriver.exe\")\n"
     ]
    }
   ],
   "source": [
    "# Setting up the driver\n",
    "driver = webdriver.Chrome(executable_path=r\"C:\\Users\\Celebal\\Documents\\chromedriver_win32\\chromedriver.exe\")"
   ]
  },
  {
   "cell_type": "code",
   "execution_count": 5,
   "id": "4347ffb3",
   "metadata": {},
   "outputs": [],
   "source": [
    "driver.get(\"https://www.facebook.com/\")"
   ]
  },
  {
   "cell_type": "code",
   "execution_count": 6,
   "id": "23c5c21e",
   "metadata": {},
   "outputs": [
    {
     "name": "stderr",
     "output_type": "stream",
     "text": [
      "<ipython-input-6-440ffe37c6e5>:2: DeprecationWarning: find_element_by_* commands are deprecated. Please use find_element() instead\n",
      "  click_on_create_account = driver.find_element_by_xpath(\"//a[@role='button'and @class= '_42ft _4jy0 _6lti _4jy6 _4jy2 selected _51sy']\")\n"
     ]
    }
   ],
   "source": [
    "# Locating element by xpath and clicking on it\n",
    "click_on_create_account = driver.find_element_by_xpath(\"//a[@role='button'and @class= '_42ft _4jy0 _6lti _4jy6 _4jy2 selected _51sy']\")\n",
    "click_on_create_account.click()"
   ]
  },
  {
   "cell_type": "code",
   "execution_count": 8,
   "id": "84259901",
   "metadata": {},
   "outputs": [
    {
     "name": "stdout",
     "output_type": "stream",
     "text": [
      "True\n",
      "\n",
      "True\n",
      "\n",
      "False\n"
     ]
    },
    {
     "name": "stderr",
     "output_type": "stream",
     "text": [
      "<ipython-input-8-28b34964717f>:1: DeprecationWarning: find_element_by_* commands are deprecated. Please use find_element() instead\n",
      "  radio_button = driver.find_element_by_xpath(\"//input[@class='_8esa' and @type = 'radio' and @value='1']\")\n"
     ]
    }
   ],
   "source": [
    "# Selecting the radio button by xpath and formed the desire operation on it.\n",
    "radio_button = driver.find_element_by_xpath(\"//input[@class='_8esa' and @type = 'radio' and @value='1']\")\n",
    "print(radio_button.is_displayed())\n",
    "print()\n",
    "print(radio_button.is_enabled())\n",
    "print()\n",
    "print(radio_button.is_selected())     # It will give false, because at initial it is not selected\n",
    "\n"
   ]
  },
  {
   "cell_type": "code",
   "execution_count": 9,
   "id": "9f06073a",
   "metadata": {},
   "outputs": [
    {
     "name": "stdout",
     "output_type": "stream",
     "text": [
      "True\n"
     ]
    }
   ],
   "source": [
    "# Clicking on button first\n",
    "\n",
    "radio_button.click()\n",
    "print(radio_button.is_selected())    # after selecting, it is showing true"
   ]
  },
  {
   "cell_type": "code",
   "execution_count": null,
   "id": "51c29b2f",
   "metadata": {},
   "outputs": [],
   "source": []
  }
 ],
 "metadata": {
  "kernelspec": {
   "display_name": "Python 3",
   "language": "python",
   "name": "python3"
  },
  "language_info": {
   "codemirror_mode": {
    "name": "ipython",
    "version": 3
   },
   "file_extension": ".py",
   "mimetype": "text/x-python",
   "name": "python",
   "nbconvert_exporter": "python",
   "pygments_lexer": "ipython3",
   "version": "3.8.8"
  }
 },
 "nbformat": 4,
 "nbformat_minor": 5
}
