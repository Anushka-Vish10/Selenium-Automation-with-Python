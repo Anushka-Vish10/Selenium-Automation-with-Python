{
 "cells": [
  {
   "cell_type": "markdown",
   "id": "d7873a6a",
   "metadata": {},
   "source": [
    "Python has built-in support for putting your program to sleep. The time module has a function sleep() that you can use to suspend execution of the calling thread for however many seconds you specify using the command time.sleep(time in seconds). "
   ]
  },
  {
   "cell_type": "code",
   "execution_count": 1,
   "id": "c346463f",
   "metadata": {},
   "outputs": [],
   "source": [
    "# Importing required libraries\n",
    "import requests\n",
    "from bs4 import BeautifulSoup\n",
    "from selenium import webdriver\n",
    "from datetime import datetime, date\n",
    "from selenium.webdriver import ActionChains\n",
    "import time\n",
    "from selenium.webdriver.support.ui import WebDriverWait\n",
    "from selenium.webdriver.support import expected_conditions\n",
    "from selenium.webdriver.common.by import By\n"
   ]
  },
  {
   "cell_type": "code",
   "execution_count": 2,
   "id": "ea800a4e",
   "metadata": {},
   "outputs": [
    {
     "name": "stderr",
     "output_type": "stream",
     "text": [
      "<ipython-input-2-d4fb528d6ed9>:1: DeprecationWarning: executable_path has been deprecated, please pass in a Service object\n",
      "  driver = webdriver.Chrome(executable_path=r\"C:\\Users\\Celebal\\Documents\\chromedriver_win32\\chromedriver.exe\")\n"
     ]
    }
   ],
   "source": [
    "driver = webdriver.Chrome(executable_path=r\"C:\\Users\\Celebal\\Documents\\chromedriver_win32\\chromedriver.exe\")"
   ]
  },
  {
   "cell_type": "code",
   "execution_count": 3,
   "id": "be07c9ed",
   "metadata": {},
   "outputs": [],
   "source": [
    "driver.get(\"https://www.wrldc.in/content/426_1_DemandVsGeneration.aspx\")\n",
    "driver.maximize_window()\n"
   ]
  },
  {
   "cell_type": "markdown",
   "id": "db461f3a",
   "metadata": {},
   "source": [
    "# time.sleep()"
   ]
  },
  {
   "cell_type": "code",
   "execution_count": 4,
   "id": "eff5fab1",
   "metadata": {},
   "outputs": [],
   "source": [
    "# Switching to frame \n",
    "driver.switch_to.frame(0)\n",
    "time.sleep(3)              # giving a sleep of 3 sec after switching into frame for smooth performance"
   ]
  },
  {
   "cell_type": "code",
   "execution_count": 5,
   "id": "8489c96d",
   "metadata": {},
   "outputs": [
    {
     "name": "stderr",
     "output_type": "stream",
     "text": [
      "<ipython-input-5-1f97bd300602>:2: DeprecationWarning: find_element_by_* commands are deprecated. Please use find_element() instead\n",
      "  calender_click = driver.find_element_by_id(\"showDatePicker\")\n"
     ]
    }
   ],
   "source": [
    "# Clicking n calender \n",
    "calender_click = driver.find_element_by_id(\"showDatePicker\")\n",
    "calender_click.click()"
   ]
  },
  {
   "cell_type": "code",
   "execution_count": 6,
   "id": "486913e3",
   "metadata": {},
   "outputs": [
    {
     "name": "stderr",
     "output_type": "stream",
     "text": [
      "<ipython-input-6-9294743b1298>:2: DeprecationWarning: find_element_by_* commands are deprecated. Please use find_element() instead\n",
      "  current_date = driver.find_element_by_xpath(\"//a[text()='23']\")\n"
     ]
    }
   ],
   "source": [
    "# locating todays date and clicking on it \n",
    "current_date = driver.find_element_by_xpath(\"//a[text()='23']\")\n",
    "current_date.click()"
   ]
  },
  {
   "cell_type": "code",
   "execution_count": 7,
   "id": "750812c2",
   "metadata": {},
   "outputs": [
    {
     "data": {
      "text/plain": [
       "<selenium.webdriver.remote.webelement.WebElement (session=\"8d2f7bf5f907a5a6c2951b2ffb6ac7aa\", element=\"6d4e23f6-8181-4df6-b66b-f4b99602d94d\")>"
      ]
     },
     "execution_count": 7,
     "metadata": {},
     "output_type": "execute_result"
    }
   ],
   "source": [
    "# Applied Explicit Wait\n",
    "\n",
    "wait = WebDriverWait(driver, 10)  \n",
    "wait.until(expected_conditions.element_to_be_clickable((By.XPATH,\"//span[text()='Excel']\")))"
   ]
  },
  {
   "cell_type": "code",
   "execution_count": 8,
   "id": "76317ccd",
   "metadata": {},
   "outputs": [
    {
     "name": "stderr",
     "output_type": "stream",
     "text": [
      "<ipython-input-8-a4866eb02614>:2: DeprecationWarning: find_element_by_* commands are deprecated. Please use find_element() instead\n",
      "  dwnld_file = driver.find_element_by_xpath(\"//span[text()='Excel']\").click()\n"
     ]
    }
   ],
   "source": [
    "# Clicking to the final excel button to download excel file\n",
    "dwnld_file = driver.find_element_by_xpath(\"//span[text()='Excel']\").click()"
   ]
  },
  {
   "cell_type": "markdown",
   "id": "2dcc7b5a",
   "metadata": {},
   "source": [
    "## Page load timeout "
   ]
  },
  {
   "cell_type": "markdown",
   "id": "320f239a",
   "metadata": {},
   "source": [
    " Page load timeout in selenium requests/set the time limit for a page to load, If the page is not loaded within the given time frame selenium throws TimeOutException."
   ]
  },
  {
   "cell_type": "code",
   "execution_count": 14,
   "id": "843a887c",
   "metadata": {},
   "outputs": [
    {
     "name": "stderr",
     "output_type": "stream",
     "text": [
      "<ipython-input-14-d4fb528d6ed9>:1: DeprecationWarning: executable_path has been deprecated, please pass in a Service object\n",
      "  driver = webdriver.Chrome(executable_path=r\"C:\\Users\\Celebal\\Documents\\chromedriver_win32\\chromedriver.exe\")\n"
     ]
    }
   ],
   "source": [
    "driver = webdriver.Chrome(executable_path=r\"C:\\Users\\Celebal\\Documents\\chromedriver_win32\\chromedriver.exe\")"
   ]
  },
  {
   "cell_type": "code",
   "execution_count": 12,
   "id": "4b23ba01",
   "metadata": {},
   "outputs": [
    {
     "ename": "TimeoutException",
     "evalue": "Message: timeout: Timed out receiving message from renderer: 0.560\n  (Session info: chrome=96.0.4664.110)\nStacktrace:\nBacktrace:\n\tOrdinal0 [0x00FD6903+2517251]\n\tOrdinal0 [0x00F6F8E1+2095329]\n\tOrdinal0 [0x00E72848+1058888]\n\tOrdinal0 [0x00E64F05+1003269]\n\tOrdinal0 [0x00E63F8D+999309]\n\tOrdinal0 [0x00E64357+1000279]\n\tOrdinal0 [0x00E6DF7F+1040255]\n\tOrdinal0 [0x00E78249+1081929]\n\tOrdinal0 [0x00E7A90B+1091851]\n\tOrdinal0 [0x00E64635+1001013]\n\tOrdinal0 [0x00E78101+1081601]\n\tOrdinal0 [0x00EC5E8E+1400462]\n\tOrdinal0 [0x00EB639B+1336219]\n\tOrdinal0 [0x00E927A7+1189799]\n\tOrdinal0 [0x00E93609+1193481]\n\tGetHandleVerifier [0x01165904+1577972]\n\tGetHandleVerifier [0x01210B97+2279047]\n\tGetHandleVerifier [0x01066D09+534521]\n\tGetHandleVerifier [0x01065DB9+530601]\n\tOrdinal0 [0x00F74FF9+2117625]\n\tOrdinal0 [0x00F798A8+2136232]\n\tOrdinal0 [0x00F799E2+2136546]\n\tOrdinal0 [0x00F83541+2176321]\n\tBaseThreadInitThunk [0x766BFA29+25]\n\tRtlGetAppContainerNamedObjectPath [0x77147A9E+286]\n\tRtlGetAppContainerNamedObjectPath [0x77147A6E+238]\n",
     "output_type": "error",
     "traceback": [
      "\u001b[1;31m---------------------------------------------------------------------------\u001b[0m",
      "\u001b[1;31mTimeoutException\u001b[0m                          Traceback (most recent call last)",
      "\u001b[1;32m<ipython-input-12-dfd17ea66901>\u001b[0m in \u001b[0;36m<module>\u001b[1;34m\u001b[0m\n\u001b[1;32m----> 1\u001b[1;33m \u001b[0mdriver\u001b[0m\u001b[1;33m.\u001b[0m\u001b[0mget\u001b[0m\u001b[1;33m(\u001b[0m\u001b[1;34m\"https://www.wrldc.in/content/426_1_DemandVsGeneration.aspx\"\u001b[0m\u001b[1;33m)\u001b[0m\u001b[1;33m\u001b[0m\u001b[1;33m\u001b[0m\u001b[0m\n\u001b[0m\u001b[0;32m      2\u001b[0m \u001b[0mdriver\u001b[0m\u001b[1;33m.\u001b[0m\u001b[0mset_page_load_timeout\u001b[0m\u001b[1;33m(\u001b[0m\u001b[1;36m0.1\u001b[0m\u001b[1;33m)\u001b[0m\u001b[1;33m\u001b[0m\u001b[1;33m\u001b[0m\u001b[0m\n",
      "\u001b[1;32m~\\anaconda3\\lib\\site-packages\\selenium\\webdriver\\remote\\webdriver.py\u001b[0m in \u001b[0;36mget\u001b[1;34m(self, url)\u001b[0m\n\u001b[0;32m    434\u001b[0m         \u001b[0mLoads\u001b[0m \u001b[0ma\u001b[0m \u001b[0mweb\u001b[0m \u001b[0mpage\u001b[0m \u001b[1;32min\u001b[0m \u001b[0mthe\u001b[0m \u001b[0mcurrent\u001b[0m \u001b[0mbrowser\u001b[0m \u001b[0msession\u001b[0m\u001b[1;33m.\u001b[0m\u001b[1;33m\u001b[0m\u001b[1;33m\u001b[0m\u001b[0m\n\u001b[0;32m    435\u001b[0m         \"\"\"\n\u001b[1;32m--> 436\u001b[1;33m         \u001b[0mself\u001b[0m\u001b[1;33m.\u001b[0m\u001b[0mexecute\u001b[0m\u001b[1;33m(\u001b[0m\u001b[0mCommand\u001b[0m\u001b[1;33m.\u001b[0m\u001b[0mGET\u001b[0m\u001b[1;33m,\u001b[0m \u001b[1;33m{\u001b[0m\u001b[1;34m'url'\u001b[0m\u001b[1;33m:\u001b[0m \u001b[0murl\u001b[0m\u001b[1;33m}\u001b[0m\u001b[1;33m)\u001b[0m\u001b[1;33m\u001b[0m\u001b[1;33m\u001b[0m\u001b[0m\n\u001b[0m\u001b[0;32m    437\u001b[0m \u001b[1;33m\u001b[0m\u001b[0m\n\u001b[0;32m    438\u001b[0m     \u001b[1;33m@\u001b[0m\u001b[0mproperty\u001b[0m\u001b[1;33m\u001b[0m\u001b[1;33m\u001b[0m\u001b[0m\n",
      "\u001b[1;32m~\\anaconda3\\lib\\site-packages\\selenium\\webdriver\\remote\\webdriver.py\u001b[0m in \u001b[0;36mexecute\u001b[1;34m(self, driver_command, params)\u001b[0m\n\u001b[0;32m    422\u001b[0m         \u001b[0mresponse\u001b[0m \u001b[1;33m=\u001b[0m \u001b[0mself\u001b[0m\u001b[1;33m.\u001b[0m\u001b[0mcommand_executor\u001b[0m\u001b[1;33m.\u001b[0m\u001b[0mexecute\u001b[0m\u001b[1;33m(\u001b[0m\u001b[0mdriver_command\u001b[0m\u001b[1;33m,\u001b[0m \u001b[0mparams\u001b[0m\u001b[1;33m)\u001b[0m\u001b[1;33m\u001b[0m\u001b[1;33m\u001b[0m\u001b[0m\n\u001b[0;32m    423\u001b[0m         \u001b[1;32mif\u001b[0m \u001b[0mresponse\u001b[0m\u001b[1;33m:\u001b[0m\u001b[1;33m\u001b[0m\u001b[1;33m\u001b[0m\u001b[0m\n\u001b[1;32m--> 424\u001b[1;33m             \u001b[0mself\u001b[0m\u001b[1;33m.\u001b[0m\u001b[0merror_handler\u001b[0m\u001b[1;33m.\u001b[0m\u001b[0mcheck_response\u001b[0m\u001b[1;33m(\u001b[0m\u001b[0mresponse\u001b[0m\u001b[1;33m)\u001b[0m\u001b[1;33m\u001b[0m\u001b[1;33m\u001b[0m\u001b[0m\n\u001b[0m\u001b[0;32m    425\u001b[0m             response['value'] = self._unwrap_value(\n\u001b[0;32m    426\u001b[0m                 response.get('value', None))\n",
      "\u001b[1;32m~\\anaconda3\\lib\\site-packages\\selenium\\webdriver\\remote\\errorhandler.py\u001b[0m in \u001b[0;36mcheck_response\u001b[1;34m(self, response)\u001b[0m\n\u001b[0;32m    245\u001b[0m                 \u001b[0malert_text\u001b[0m \u001b[1;33m=\u001b[0m \u001b[0mvalue\u001b[0m\u001b[1;33m[\u001b[0m\u001b[1;34m'alert'\u001b[0m\u001b[1;33m]\u001b[0m\u001b[1;33m.\u001b[0m\u001b[0mget\u001b[0m\u001b[1;33m(\u001b[0m\u001b[1;34m'text'\u001b[0m\u001b[1;33m)\u001b[0m\u001b[1;33m\u001b[0m\u001b[1;33m\u001b[0m\u001b[0m\n\u001b[0;32m    246\u001b[0m             \u001b[1;32mraise\u001b[0m \u001b[0mexception_class\u001b[0m\u001b[1;33m(\u001b[0m\u001b[0mmessage\u001b[0m\u001b[1;33m,\u001b[0m \u001b[0mscreen\u001b[0m\u001b[1;33m,\u001b[0m \u001b[0mstacktrace\u001b[0m\u001b[1;33m,\u001b[0m \u001b[0malert_text\u001b[0m\u001b[1;33m)\u001b[0m  \u001b[1;31m# type: ignore[call-arg]  # mypy is not smart enough here\u001b[0m\u001b[1;33m\u001b[0m\u001b[1;33m\u001b[0m\u001b[0m\n\u001b[1;32m--> 247\u001b[1;33m         \u001b[1;32mraise\u001b[0m \u001b[0mexception_class\u001b[0m\u001b[1;33m(\u001b[0m\u001b[0mmessage\u001b[0m\u001b[1;33m,\u001b[0m \u001b[0mscreen\u001b[0m\u001b[1;33m,\u001b[0m \u001b[0mstacktrace\u001b[0m\u001b[1;33m)\u001b[0m\u001b[1;33m\u001b[0m\u001b[1;33m\u001b[0m\u001b[0m\n\u001b[0m\u001b[0;32m    248\u001b[0m \u001b[1;33m\u001b[0m\u001b[0m\n\u001b[0;32m    249\u001b[0m     \u001b[1;32mdef\u001b[0m \u001b[0m_value_or_default\u001b[0m\u001b[1;33m(\u001b[0m\u001b[0mself\u001b[0m\u001b[1;33m,\u001b[0m \u001b[0mobj\u001b[0m\u001b[1;33m:\u001b[0m \u001b[0mMapping\u001b[0m\u001b[1;33m[\u001b[0m\u001b[0m_KT\u001b[0m\u001b[1;33m,\u001b[0m \u001b[0m_VT\u001b[0m\u001b[1;33m]\u001b[0m\u001b[1;33m,\u001b[0m \u001b[0mkey\u001b[0m\u001b[1;33m:\u001b[0m \u001b[0m_KT\u001b[0m\u001b[1;33m,\u001b[0m \u001b[0mdefault\u001b[0m\u001b[1;33m:\u001b[0m \u001b[0m_VT\u001b[0m\u001b[1;33m)\u001b[0m \u001b[1;33m->\u001b[0m \u001b[0m_VT\u001b[0m\u001b[1;33m:\u001b[0m\u001b[1;33m\u001b[0m\u001b[1;33m\u001b[0m\u001b[0m\n",
      "\u001b[1;31mTimeoutException\u001b[0m: Message: timeout: Timed out receiving message from renderer: 0.560\n  (Session info: chrome=96.0.4664.110)\nStacktrace:\nBacktrace:\n\tOrdinal0 [0x00FD6903+2517251]\n\tOrdinal0 [0x00F6F8E1+2095329]\n\tOrdinal0 [0x00E72848+1058888]\n\tOrdinal0 [0x00E64F05+1003269]\n\tOrdinal0 [0x00E63F8D+999309]\n\tOrdinal0 [0x00E64357+1000279]\n\tOrdinal0 [0x00E6DF7F+1040255]\n\tOrdinal0 [0x00E78249+1081929]\n\tOrdinal0 [0x00E7A90B+1091851]\n\tOrdinal0 [0x00E64635+1001013]\n\tOrdinal0 [0x00E78101+1081601]\n\tOrdinal0 [0x00EC5E8E+1400462]\n\tOrdinal0 [0x00EB639B+1336219]\n\tOrdinal0 [0x00E927A7+1189799]\n\tOrdinal0 [0x00E93609+1193481]\n\tGetHandleVerifier [0x01165904+1577972]\n\tGetHandleVerifier [0x01210B97+2279047]\n\tGetHandleVerifier [0x01066D09+534521]\n\tGetHandleVerifier [0x01065DB9+530601]\n\tOrdinal0 [0x00F74FF9+2117625]\n\tOrdinal0 [0x00F798A8+2136232]\n\tOrdinal0 [0x00F799E2+2136546]\n\tOrdinal0 [0x00F83541+2176321]\n\tBaseThreadInitThunk [0x766BFA29+25]\n\tRtlGetAppContainerNamedObjectPath [0x77147A9E+286]\n\tRtlGetAppContainerNamedObjectPath [0x77147A6E+238]\n"
     ]
    }
   ],
   "source": [
    "# suppose I want that the page to be loaded within specified time sec, if not then throw an exception\n",
    "# Let's see \n",
    "\n",
    "driver.get(\"https://www.wrldc.in/content/426_1_DemandVsGeneration.aspx\")\n",
    "driver.set_page_load_timeout(0.1)\n",
    "\n",
    "\n",
    "# As the with the specified time, it could not load, throws time out exception"
   ]
  },
  {
   "cell_type": "code",
   "execution_count": 15,
   "id": "28ad8f90",
   "metadata": {},
   "outputs": [],
   "source": [
    "# If will increase the time, it run smoothy\n",
    "driver.get(\"https://www.wrldc.in/content/426_1_DemandVsGeneration.aspx\")\n",
    "driver.set_page_load_timeout(1)\n",
    "\n",
    "\n",
    "\n",
    "\n"
   ]
  },
  {
   "cell_type": "code",
   "execution_count": null,
   "id": "a26a0c83",
   "metadata": {},
   "outputs": [],
   "source": [
    "\n"
   ]
  }
 ],
 "metadata": {
  "kernelspec": {
   "display_name": "Python 3",
   "language": "python",
   "name": "python3"
  },
  "language_info": {
   "codemirror_mode": {
    "name": "ipython",
    "version": 3
   },
   "file_extension": ".py",
   "mimetype": "text/x-python",
   "name": "python",
   "nbconvert_exporter": "python",
   "pygments_lexer": "ipython3",
   "version": "3.8.8"
  }
 },
 "nbformat": 4,
 "nbformat_minor": 5
}
