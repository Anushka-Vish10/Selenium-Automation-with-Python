{
 "cells": [
  {
   "cell_type": "markdown",
   "id": "15f57c0f",
   "metadata": {},
   "source": [
    "Do you want the Web Browser to scroll to the end of the page while using Python Selenium? You can do that with code, the trick is to inject Javascript code to be webpage. After you load a webpage, scroll down the page by injecting javascript. You can scroll down a specific amount or all the way to the bottom."
   ]
  },
  {
   "cell_type": "markdown",
   "id": "02609214",
   "metadata": {},
   "source": [
    "1. Scroll webpage \n",
    "> 1.1 Scroll down the page with specific height\n",
    "\n",
    "> 1.1.1 driver.execute_script(\"window.scrollTo(0,Y)\")\n",
    "\n",
    "> 1.2 Scroll down the page till the element is found\n",
    "\n",
    "> 1.2.1 driver.excute_script(\"arguments[0].scrollIntoView();\", element)\n",
    "\n",
    "> 1.3 Scroll down the page till end.\n",
    "\n",
    ">1.3.1 driver.execute_script(\"window.scrollTo(0,documnet.body.scrollHeight)\")"
   ]
  },
  {
   "cell_type": "code",
   "execution_count": 26,
   "id": "e8ced083",
   "metadata": {},
   "outputs": [],
   "source": [
    "# Importing required library\n",
    "from selenium import webdriver\n",
    "import time"
   ]
  },
  {
   "cell_type": "code",
   "execution_count": 27,
   "id": "c3286a55",
   "metadata": {},
   "outputs": [
    {
     "name": "stderr",
     "output_type": "stream",
     "text": [
      "<ipython-input-27-0aef6be5299c>:2: DeprecationWarning: executable_path has been deprecated, please pass in a Service object\n",
      "  driver = webdriver.Chrome(executable_path=r\"C:\\Users\\Celebal\\Documents\\chromedriver_win32\\chromedriver.exe\")\n"
     ]
    }
   ],
   "source": [
    "# Setting up the driver\n",
    "driver = webdriver.Chrome(executable_path=r\"C:\\Users\\Celebal\\Documents\\chromedriver_win32\\chromedriver.exe\")"
   ]
  },
  {
   "cell_type": "code",
   "execution_count": 28,
   "id": "2951a107",
   "metadata": {},
   "outputs": [],
   "source": [
    "driver.get(\"http://testautomationpractice.blogspot.com/\")      # Practice URL\n",
    "driver.maximize_window()     # For maxinizing the window\n"
   ]
  },
  {
   "cell_type": "markdown",
   "id": "7b34086f",
   "metadata": {},
   "source": [
    "# Scroll down the page with specific height"
   ]
  },
  {
   "cell_type": "code",
   "execution_count": 5,
   "id": "6b23d9e9",
   "metadata": {},
   "outputs": [],
   "source": [
    "# Scroll to the specific height\n",
    "driver.execute_script(\"window.scrollTo(0,1000)\")    # Horizontly I don't want any scrolling. So X = 0, vertically scroll upto 1000 pixels"
   ]
  },
  {
   "cell_type": "markdown",
   "id": "66752212",
   "metadata": {},
   "source": [
    "# Scroll down the page till end"
   ]
  },
  {
   "cell_type": "code",
   "execution_count": 8,
   "id": "1fda02fc",
   "metadata": {},
   "outputs": [],
   "source": [
    "driver.execute_script(\"window.scrollTo(0,document.body.scrollHeight)\")     # documnet.body.scrollHeight , we use this command for scrolling the page till end "
   ]
  },
  {
   "cell_type": "markdown",
   "id": "3ed00e49",
   "metadata": {},
   "source": [
    "# Scroll down the page till the element is found"
   ]
  },
  {
   "cell_type": "code",
   "execution_count": 29,
   "id": "da7b8a9c",
   "metadata": {
    "scrolled": false
   },
   "outputs": [],
   "source": [
    "# Suppose I want to scroll the page until the submit button become visible\n",
    "# As we right click on web page we see there is a fame load, frame source, that means it submit button is inside frame\n",
    "# We have to move in to the frame first, i.e. switch to the frame frist\n",
    "\n",
    "\n",
    "driver.switch_to.frame('frame-one1434677811')   # Switching into frame by using frame id\n",
    "\n"
   ]
  },
  {
   "cell_type": "code",
   "execution_count": 30,
   "id": "9b3b1ea4",
   "metadata": {},
   "outputs": [
    {
     "name": "stderr",
     "output_type": "stream",
     "text": [
      "<ipython-input-30-c998367ff19d>:2: DeprecationWarning: find_element_by_* commands are deprecated. Please use find_element() instead\n",
      "  element = driver.find_element_by_id(\"FSsubmit\")\n"
     ]
    }
   ],
   "source": [
    "# Locating submit button by using id\n",
    "element = driver.find_element_by_id(\"FSsubmit\")"
   ]
  },
  {
   "cell_type": "code",
   "execution_count": 32,
   "id": "02ae4525",
   "metadata": {},
   "outputs": [],
   "source": [
    "# element is the submit button that we need to find\n",
    "\n",
    "driver.execute_script(\"arguments[0].scrollIntoView();\", element)"
   ]
  },
  {
   "cell_type": "code",
   "execution_count": null,
   "id": "6dede06c",
   "metadata": {},
   "outputs": [],
   "source": []
  },
  {
   "cell_type": "code",
   "execution_count": null,
   "id": "f6c8ce53",
   "metadata": {},
   "outputs": [],
   "source": []
  }
 ],
 "metadata": {
  "kernelspec": {
   "display_name": "Python 3",
   "language": "python",
   "name": "python3"
  },
  "language_info": {
   "codemirror_mode": {
    "name": "ipython",
    "version": 3
   },
   "file_extension": ".py",
   "mimetype": "text/x-python",
   "name": "python",
   "nbconvert_exporter": "python",
   "pygments_lexer": "ipython3",
   "version": "3.8.8"
  }
 },
 "nbformat": 4,
 "nbformat_minor": 5
}
