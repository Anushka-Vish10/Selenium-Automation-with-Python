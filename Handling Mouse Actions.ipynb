{
 "cells": [
  {
   "cell_type": "markdown",
   "id": "73b1ecc9",
   "metadata": {},
   "source": [
    "Mouse actions such as mouse hover, right click, double click or drag and drop can be handled using Action class in the selenium webdriver."
   ]
  },
  {
   "cell_type": "markdown",
   "id": "78d64931",
   "metadata": {},
   "source": [
    "1. Mouse Actions\n",
    "\n",
    "> actions = ActionChains(driver)   \n",
    "\n",
    "> 1.1 Mouse Hover : actions.move_to_element(element).perform()   # Once we click on some text, it will show some text\n",
    "\n",
    "> 1.2 Right Click: actions.context_click(element).perform()\n",
    "    \n",
    "> 1.3 Double Click: actions.double_click(element).perform()\n",
    "    \n",
    "> 1.4 Drag and drop: actions.drag_and_drop(source_element, target_element).perform()\n"
   ]
  },
  {
   "cell_type": "code",
   "execution_count": 7,
   "id": "62b5e2be",
   "metadata": {},
   "outputs": [],
   "source": [
    "# Importing required library\n",
    "from selenium import webdriver\n",
    "from selenium.webdriver import ActionChains\n",
    "import time"
   ]
  },
  {
   "cell_type": "code",
   "execution_count": 11,
   "id": "4c3dcf65",
   "metadata": {},
   "outputs": [
    {
     "name": "stderr",
     "output_type": "stream",
     "text": [
      "<ipython-input-11-0aef6be5299c>:2: DeprecationWarning: executable_path has been deprecated, please pass in a Service object\n",
      "  driver = webdriver.Chrome(executable_path=r\"C:\\Users\\Celebal\\Documents\\chromedriver_win32\\chromedriver.exe\")\n"
     ]
    }
   ],
   "source": [
    "# Setting up the driver\n",
    "driver = webdriver.Chrome(executable_path=r\"C:\\Users\\Celebal\\Documents\\chromedriver_win32\\chromedriver.exe\")"
   ]
  },
  {
   "cell_type": "code",
   "execution_count": 12,
   "id": "2b3ddd74",
   "metadata": {},
   "outputs": [],
   "source": [
    "driver.get(\"http://testautomationpractice.blogspot.com/\")      # Practice URL\n",
    "driver.maximize_window()  "
   ]
  },
  {
   "cell_type": "markdown",
   "id": "32182e3a",
   "metadata": {},
   "source": [
    "# Mouse Hover"
   ]
  },
  {
   "cell_type": "code",
   "execution_count": 13,
   "id": "cd754ae7",
   "metadata": {},
   "outputs": [
    {
     "name": "stderr",
     "output_type": "stream",
     "text": [
      "<ipython-input-13-3f05110b6495>:1: DeprecationWarning: find_element_by_* commands are deprecated. Please use find_element() instead\n",
      "  hover = driver.find_element_by_link_text(\"ThemeRoller\")\n"
     ]
    }
   ],
   "source": [
    "hover = driver.find_element_by_link_text(\"ThemeRoller\")"
   ]
  },
  {
   "cell_type": "code",
   "execution_count": 16,
   "id": "9611dbfd",
   "metadata": {},
   "outputs": [],
   "source": [
    "# We are initialing the action by provider driver as argument to it.\n",
    "\n",
    "actions = ActionChains(driver)    # This is used to perform various mouse action\n"
   ]
  },
  {
   "cell_type": "code",
   "execution_count": 22,
   "id": "4f39c862",
   "metadata": {},
   "outputs": [],
   "source": [
    "# performing mouse hover action\n",
    "actions.move_to_element(hover)\n",
    "actions.perform()\n"
   ]
  },
  {
   "cell_type": "markdown",
   "id": "b770dd4d",
   "metadata": {},
   "source": [
    "# Right Click"
   ]
  },
  {
   "cell_type": "code",
   "execution_count": 23,
   "id": "fa4b6533",
   "metadata": {},
   "outputs": [
    {
     "name": "stderr",
     "output_type": "stream",
     "text": [
      "<ipython-input-23-ba96663fa576>:2: DeprecationWarning: find_element_by_* commands are deprecated. Please use find_element() instead\n",
      "  right_click = driver.find_element_by_xpath(\"//button[@onclick='myFunction()']\")\n"
     ]
    }
   ],
   "source": [
    "# Locating on text me for performing right click\n",
    "right_click = driver.find_element_by_xpath(\"//button[@onclick='myFunction()']\")"
   ]
  },
  {
   "cell_type": "code",
   "execution_count": 28,
   "id": "a21100a3",
   "metadata": {},
   "outputs": [],
   "source": [
    "# Creating action Class\n",
    "\n",
    "actions = ActionChains(driver)"
   ]
  },
  {
   "cell_type": "code",
   "execution_count": 30,
   "id": "67b0c52a",
   "metadata": {},
   "outputs": [],
   "source": [
    "# Performing right click  action\n",
    "\n",
    "actions.context_click(right_click)\n",
    "\n",
    "actions.perform()"
   ]
  },
  {
   "cell_type": "markdown",
   "id": "e62a4fc9",
   "metadata": {},
   "source": [
    "# Double Click"
   ]
  },
  {
   "cell_type": "code",
   "execution_count": 31,
   "id": "a80b1137",
   "metadata": {},
   "outputs": [
    {
     "name": "stderr",
     "output_type": "stream",
     "text": [
      "<ipython-input-31-2d5064237ab2>:3: DeprecationWarning: find_element_by_* commands are deprecated. Please use find_element() instead\n",
      "  double_click = driver.find_element_by_xpath(\"//button[@ondblclick='myFunction1()']\")\n"
     ]
    }
   ],
   "source": [
    "# Locating the element to perform double click action\n",
    "\n",
    "double_click = driver.find_element_by_xpath(\"//button[@ondblclick='myFunction1()']\")"
   ]
  },
  {
   "cell_type": "code",
   "execution_count": 32,
   "id": "b3257bd3",
   "metadata": {},
   "outputs": [],
   "source": [
    "# Creating action Class\n",
    "\n",
    "actions = ActionChains(driver)"
   ]
  },
  {
   "cell_type": "code",
   "execution_count": 35,
   "id": "e66152dc",
   "metadata": {},
   "outputs": [],
   "source": [
    "# Performing the double click action\n",
    "actions.double_click(double_click)\n",
    "actions.perform()"
   ]
  },
  {
   "cell_type": "markdown",
   "id": "05dc0741",
   "metadata": {},
   "source": [
    "# Drag and drop"
   ]
  },
  {
   "cell_type": "code",
   "execution_count": 36,
   "id": "d3f0129b",
   "metadata": {},
   "outputs": [
    {
     "name": "stderr",
     "output_type": "stream",
     "text": [
      "<ipython-input-36-ae30a33c8e37>:3: DeprecationWarning: find_element_by_* commands are deprecated. Please use find_element() instead\n",
      "  source = driver.find_element_by_xpath(\"//*[@id='draggable']\")\n",
      "<ipython-input-36-ae30a33c8e37>:4: DeprecationWarning: find_element_by_* commands are deprecated. Please use find_element() instead\n",
      "  target = driver.find_element_by_xpath(\"//*[@id='droppable']\")\n"
     ]
    }
   ],
   "source": [
    "# loacting element to perform drag and drop action\n",
    "\n",
    "source = driver.find_element_by_xpath(\"//*[@id='draggable']\")\n",
    "target = driver.find_element_by_xpath(\"//*[@id='droppable']\")"
   ]
  },
  {
   "cell_type": "code",
   "execution_count": 38,
   "id": "108fd313",
   "metadata": {},
   "outputs": [],
   "source": [
    "# Creating action Class\n",
    "\n",
    "actions = ActionChains(driver)"
   ]
  },
  {
   "cell_type": "code",
   "execution_count": 40,
   "id": "f8459d0e",
   "metadata": {},
   "outputs": [],
   "source": [
    "# Performing drag and drop\n",
    "actions.drag_and_drop(source, target)\n",
    "actions.perform()"
   ]
  },
  {
   "cell_type": "code",
   "execution_count": null,
   "id": "7c03fa73",
   "metadata": {},
   "outputs": [],
   "source": []
  },
  {
   "cell_type": "code",
   "execution_count": null,
   "id": "dcbc1bf4",
   "metadata": {},
   "outputs": [],
   "source": []
  },
  {
   "cell_type": "code",
   "execution_count": null,
   "id": "2eb96e28",
   "metadata": {},
   "outputs": [],
   "source": []
  }
 ],
 "metadata": {
  "kernelspec": {
   "display_name": "Python 3",
   "language": "python",
   "name": "python3"
  },
  "language_info": {
   "codemirror_mode": {
    "name": "ipython",
    "version": 3
   },
   "file_extension": ".py",
   "mimetype": "text/x-python",
   "name": "python",
   "nbconvert_exporter": "python",
   "pygments_lexer": "ipython3",
   "version": "3.8.8"
  }
 },
 "nbformat": 4,
 "nbformat_minor": 5
}
