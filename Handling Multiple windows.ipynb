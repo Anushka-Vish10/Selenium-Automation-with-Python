{
 "cells": [
  {
   "cell_type": "markdown",
   "id": "ccc83067",
   "metadata": {},
   "source": [
    "Many times when use is working with the web application, application navigates to or opens the new window. And the user wants to perform the operation on this new window. By default the selenium webdriver remains on the main window. To perform the operations on the new window, selenium has to handle multiple windows.\n",
    "\n",
    "Python Selenium WebDriver assigns an id to each window as soon as the WebDriver object is instantiated or new window is opened using a WebDriver object. This unique id is known as window handles. Also note that WebDriver object always controls only one window at a time in the current session."
   ]
  },
  {
   "cell_type": "markdown",
   "id": "22c6b7e5",
   "metadata": {},
   "source": [
    "Browser Windows\n",
    ">> a. driver._current_window_handle\n",
    "\n",
    ">> b. driver.window_handles"
   ]
  },
  {
   "cell_type": "code",
   "execution_count": 1,
   "id": "05a5e247",
   "metadata": {},
   "outputs": [],
   "source": [
    "# Importing required library\n",
    "from selenium import webdriver\n",
    "import time"
   ]
  },
  {
   "cell_type": "code",
   "execution_count": 2,
   "id": "5dcc4327",
   "metadata": {},
   "outputs": [
    {
     "name": "stderr",
     "output_type": "stream",
     "text": [
      "<ipython-input-2-0aef6be5299c>:2: DeprecationWarning: executable_path has been deprecated, please pass in a Service object\n",
      "  driver = webdriver.Chrome(executable_path=r\"C:\\Users\\Celebal\\Documents\\chromedriver_win32\\chromedriver.exe\")\n"
     ]
    }
   ],
   "source": [
    "# Setting up the driver\n",
    "driver = webdriver.Chrome(executable_path=r\"C:\\Users\\Celebal\\Documents\\chromedriver_win32\\chromedriver.exe\")"
   ]
  },
  {
   "cell_type": "code",
   "execution_count": 35,
   "id": "c766da9f",
   "metadata": {},
   "outputs": [],
   "source": [
    "driver.get(\"https://www.facebook.com/\")"
   ]
  },
  {
   "cell_type": "code",
   "execution_count": 36,
   "id": "d3bcd524",
   "metadata": {},
   "outputs": [
    {
     "name": "stderr",
     "output_type": "stream",
     "text": [
      "<ipython-input-36-4114579b5a52>:2: DeprecationWarning: find_element_by_* commands are deprecated. Please use find_element() instead\n",
      "  create_acc = driver.find_element_by_xpath(\"//a[@role='button'and @class= '_42ft _4jy0 _6lti _4jy6 _4jy2 selected _51sy']\").click()\n"
     ]
    }
   ],
   "source": [
    "# After going to the facebook home page, we need to click on the cookie policy link\n",
    "create_acc = driver.find_element_by_xpath(\"//a[@role='button'and @class= '_42ft _4jy0 _6lti _4jy6 _4jy2 selected _51sy']\").click()"
   ]
  },
  {
   "cell_type": "code",
   "execution_count": 37,
   "id": "8efcc23e",
   "metadata": {},
   "outputs": [
    {
     "name": "stderr",
     "output_type": "stream",
     "text": [
      "<ipython-input-37-89fab61e5b1d>:2: DeprecationWarning: find_element_by_* commands are deprecated. Please use find_element() instead\n",
      "  cookie_policy = driver.find_element_by_link_text(\"Cookie Policy\").click()\n"
     ]
    }
   ],
   "source": [
    "# Getting a new window by clicking oin cookie policy link\n",
    "cookie_policy = driver.find_element_by_link_text(\"Cookie Policy\").click()"
   ]
  },
  {
   "cell_type": "code",
   "execution_count": 38,
   "id": "20eb81bf",
   "metadata": {},
   "outputs": [
    {
     "name": "stdout",
     "output_type": "stream",
     "text": [
      "all the handles:  ['CDwindow-20DAFCD775B82929735E3D3C78BA3C7E', 'CDwindow-6E9BF3FED03FF516DE7CA30485792A78']\n"
     ]
    }
   ],
   "source": [
    "# for handling the browser by unique id\n",
    "handles = driver.window_handles\n",
    "print(\"all the handles: \",handles)\n",
    "\n",
    "size = len(handles)       # storing the length of handles"
   ]
  },
  {
   "cell_type": "code",
   "execution_count": 39,
   "id": "80721ebd",
   "metadata": {},
   "outputs": [
    {
     "name": "stdout",
     "output_type": "stream",
     "text": [
      "CDwindow-20DAFCD775B82929735E3D3C78BA3C7E\n"
     ]
    }
   ],
   "source": [
    "parent_handle = driver.current_window_handle    # handling the current window\n",
    "print(parent_handle)"
   ]
  },
  {
   "cell_type": "code",
   "execution_count": 40,
   "id": "e77b5d53",
   "metadata": {},
   "outputs": [
    {
     "name": "stdout",
     "output_type": "stream",
     "text": [
      "Current window title is: Cookie Policy\n"
     ]
    }
   ],
   "source": [
    "# Navigating from current window to new window\n",
    "\n",
    "# We can do it by iterating on the size of window handles\n",
    "\n",
    "for i in range(size):\n",
    "    if handles[i]!=parent_handle:\n",
    "        driver.switch_to.window(handles[i])\n",
    "        # for knowing in which window I'm I want to print title of windows\n",
    "        print(\"Current window title is:\", driver.title)\n",
    "        driver.close()     # Once I'm done, then close the window\n",
    "        break\n",
    "        \n",
    "\n"
   ]
  },
  {
   "cell_type": "code",
   "execution_count": 41,
   "id": "97ff2ffe",
   "metadata": {},
   "outputs": [
    {
     "name": "stdout",
     "output_type": "stream",
     "text": [
      "Parent Window Title:  Facebook – log in or sign up\n"
     ]
    }
   ],
   "source": [
    "# After completing, we want to switch to parent window\n",
    "driver.switch_to.window(parent_handle)\n",
    "print(\"Parent Window Title: \", driver.title)"
   ]
  },
  {
   "cell_type": "code",
   "execution_count": null,
   "id": "e92891d4",
   "metadata": {},
   "outputs": [],
   "source": []
  }
 ],
 "metadata": {
  "kernelspec": {
   "display_name": "Python 3",
   "language": "python",
   "name": "python3"
  },
  "language_info": {
   "codemirror_mode": {
    "name": "ipython",
    "version": 3
   },
   "file_extension": ".py",
   "mimetype": "text/x-python",
   "name": "python",
   "nbconvert_exporter": "python",
   "pygments_lexer": "ipython3",
   "version": "3.8.8"
  }
 },
 "nbformat": 4,
 "nbformat_minor": 5
}
