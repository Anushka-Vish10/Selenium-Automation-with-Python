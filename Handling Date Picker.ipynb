{
 "cells": [
  {
   "cell_type": "markdown",
   "id": "17388ad7",
   "metadata": {},
   "source": [
    "Different types of date picker are used in the web applications. Few datepickers allows to enter data in the test box but few don’t allow to enter any data. User need to select the date/month/year value on the datepicker window. Selenium webdriver allows to perform the operation using the series of web driver commands."
   ]
  },
  {
   "cell_type": "code",
   "execution_count": 50,
   "id": "5d120db1",
   "metadata": {},
   "outputs": [],
   "source": [
    "# Importing required libraries\n",
    "from selenium import webdriver\n",
    "from datetime import datetime, date"
   ]
  },
  {
   "cell_type": "code",
   "execution_count": 56,
   "id": "2a6a6c3f",
   "metadata": {},
   "outputs": [
    {
     "name": "stderr",
     "output_type": "stream",
     "text": [
      "<ipython-input-56-a4f128360dc0>:2: DeprecationWarning: executable_path has been deprecated, please pass in a Service object\n",
      "  driver = webdriver.Chrome(executable_path=r\"C:\\Users\\Celebal\\Documents\\chromedriver_win32\\chromedriver.exe\")\n"
     ]
    }
   ],
   "source": [
    "# initiating webdriver\n",
    "driver = webdriver.Chrome(executable_path=r\"C:\\Users\\Celebal\\Documents\\chromedriver_win32\\chromedriver.exe\")"
   ]
  },
  {
   "cell_type": "code",
   "execution_count": 57,
   "id": "c0943c59",
   "metadata": {},
   "outputs": [],
   "source": [
    "driver.get(\"https://jqueryui.com/datepicker/\")\n",
    "driver.maximize_window()\n"
   ]
  },
  {
   "cell_type": "code",
   "execution_count": 58,
   "id": "4c3bae8a",
   "metadata": {},
   "outputs": [],
   "source": [
    "# The calender is inside the frame,\n",
    "# So, firstly we need to navigate to the frame\n",
    "\n",
    "driver.switch_to.frame(0)    # As there is only one frame , we can switch to frame by using index as 0"
   ]
  },
  {
   "cell_type": "code",
   "execution_count": 59,
   "id": "5fb0029b",
   "metadata": {},
   "outputs": [
    {
     "name": "stderr",
     "output_type": "stream",
     "text": [
      "<ipython-input-59-16fec3d3d32d>:3: DeprecationWarning: find_element_by_* commands are deprecated. Please use find_element() instead\n",
      "  input_click = driver.find_element_by_id(\"datepicker\")\n"
     ]
    }
   ],
   "source": [
    "# Now we click on the input box for the calender view\n",
    "\n",
    "input_click = driver.find_element_by_id(\"datepicker\")\n",
    "input_click.click()"
   ]
  },
  {
   "cell_type": "code",
   "execution_count": 66,
   "id": "4af57c47",
   "metadata": {},
   "outputs": [
    {
     "name": "stdout",
     "output_type": "stream",
     "text": [
      "2020-02-12\n",
      "<class 'datetime.date'>\n"
     ]
    }
   ],
   "source": [
    "# Suppose I want to select this date\n",
    "\n",
    "required_date = \"2/12/2020\"\n",
    "\n",
    "# the above date is in string format, let's see how we convert it into the date format\n",
    "actual_date = datetime.strptime(required_date, '%m/%d/%Y').date()\n",
    "print(actual_date)\n",
    "print(type(actual_date))"
   ]
  },
  {
   "cell_type": "code",
   "execution_count": 67,
   "id": "5fedaa85",
   "metadata": {},
   "outputs": [
    {
     "name": "stdout",
     "output_type": "stream",
     "text": [
      "2021-12-23\n",
      "<class 'datetime.date'>\n"
     ]
    }
   ],
   "source": [
    "# printing current date \n",
    "current_date = date.today()\n",
    "print(current_date)\n",
    "print(type(current_date))\n",
    "\n",
    "\n",
    "# this is just to check that our required date and current date converted to the acqual format or not"
   ]
  },
  {
   "cell_type": "code",
   "execution_count": 68,
   "id": "651669fa",
   "metadata": {},
   "outputs": [
    {
     "name": "stdout",
     "output_type": "stream",
     "text": [
      "-22\n"
     ]
    }
   ],
   "source": [
    "# Performing the forward click and backward click to change the month \n",
    "# Let's get the difference between the months\n",
    "\n",
    "month_diff = (actual_date.year - current_date.year)*12 + (actual_date.month - current_date.month)\n",
    "\n",
    "print(month_diff)"
   ]
  },
  {
   "cell_type": "code",
   "execution_count": 69,
   "id": "189f8823",
   "metadata": {},
   "outputs": [
    {
     "name": "stderr",
     "output_type": "stream",
     "text": [
      "<ipython-input-69-ea9b7f77dc5f>:16: DeprecationWarning: find_element_by_* commands are deprecated. Please use find_element() instead\n",
      "  driver.find_element_by_xpath(\"//span[text()= 'Prev']\").click()\n"
     ]
    }
   ],
   "source": [
    "# Now we can use for loop , the number of times difference between\n",
    "# if the difference is -ve means we have to click to the back button\n",
    "# It it is posivitive means, will move forward\n",
    "\n",
    "\n",
    "isFuture = True\n",
    "if month_diff<0:\n",
    "    isFuture = False\n",
    "    month_diff = -1*(month_diff)\n",
    "    \n",
    "    \n",
    "for m in range(month_diff):\n",
    "    if isFuture:\n",
    "        driver.find_element_by_xpath(\"//span[text()= 'Next']\").click()\n",
    "    else:\n",
    "        driver.find_element_by_xpath(\"//span[text()= 'Prev']\").click()\n",
    "        \n",
    "    \n",
    "\n",
    " \n",
    "\n",
    "# We are done still now, we are able to select month and the year"
   ]
  },
  {
   "cell_type": "code",
   "execution_count": 70,
   "id": "0d375c22",
   "metadata": {},
   "outputs": [
    {
     "name": "stderr",
     "output_type": "stream",
     "text": [
      "<ipython-input-70-11c9cead0767>:3: DeprecationWarning: find_element_by_* commands are deprecated. Please use find_element() instead\n",
      "  date_visit = driver.find_element_by_id(\"ui-datepicker-div\")\n"
     ]
    },
    {
     "name": "stdout",
     "output_type": "stream",
     "text": [
      "12\n"
     ]
    }
   ],
   "source": [
    "# Let's see how to select the date\n",
    "\n",
    "date_visit = driver.find_element_by_id(\"ui-datepicker-div\")\n",
    "columns = date_visit.find_elements_by_tag_name(\"td\")\n",
    "\n",
    "\n",
    "# Coverting datetime to the string\n",
    "day = actual_date.strftime(\"%d\")     # we are given %d here, so the date will be like 02, 03 so to remove these 0 we use (.lstrip(\"0\").replace(\"0\",\"\"))\n",
    "\n",
    "print(day)\n",
    "for cell in columns:\n",
    "    if cell.text == day:\n",
    "        cell.find_element_by_link_text(day).click()\n",
    "        break                                            # once it click on the required day, then will break the loop\n",
    "    \n"
   ]
  },
  {
   "cell_type": "code",
   "execution_count": null,
   "id": "a1969aed",
   "metadata": {},
   "outputs": [],
   "source": []
  }
 ],
 "metadata": {
  "kernelspec": {
   "display_name": "Python 3",
   "language": "python",
   "name": "python3"
  },
  "language_info": {
   "codemirror_mode": {
    "name": "ipython",
    "version": 3
   },
   "file_extension": ".py",
   "mimetype": "text/x-python",
   "name": "python",
   "nbconvert_exporter": "python",
   "pygments_lexer": "ipython3",
   "version": "3.8.8"
  }
 },
 "nbformat": 4,
 "nbformat_minor": 5
}
