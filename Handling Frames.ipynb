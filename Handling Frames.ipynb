{
 "cells": [
  {
   "cell_type": "markdown",
   "id": "e6269603",
   "metadata": {},
   "source": [
    "# Handling Frames\n",
    "Frame is html element present inside the html document\n",
    "\n",
    "The webside having frames shows, either view frame source or frame reload on right click\n",
    "\n",
    "Frames/iFrames\n",
    "\n",
    "1. driver.switch_to.frame()\n",
    "2. driver.switch_to.default_content()"
   ]
  },
  {
   "cell_type": "code",
   "execution_count": 1,
   "id": "60c14e7a",
   "metadata": {},
   "outputs": [],
   "source": [
    "from selenium import webdriver"
   ]
  },
  {
   "cell_type": "code",
   "execution_count": 2,
   "id": "cce69efd",
   "metadata": {},
   "outputs": [
    {
     "name": "stderr",
     "output_type": "stream",
     "text": [
      "<ipython-input-2-d4fb528d6ed9>:1: DeprecationWarning: executable_path has been deprecated, please pass in a Service object\n",
      "  driver = webdriver.Chrome(executable_path=r\"C:\\Users\\Celebal\\Documents\\chromedriver_win32\\chromedriver.exe\")\n"
     ]
    }
   ],
   "source": [
    "driver = webdriver.Chrome(executable_path=r\"C:\\Users\\Celebal\\Documents\\chromedriver_win32\\chromedriver.exe\")"
   ]
  },
  {
   "cell_type": "code",
   "execution_count": 3,
   "id": "fe6805e2",
   "metadata": {},
   "outputs": [],
   "source": [
    "driver.get(\"https://www.selenium.dev/selenium/docs/api/java/index.html?overview-summary.html\")\n",
    "driver.maximize_window()\n",
    "\n",
    "\n",
    "# This URL contains the 3 section's"
   ]
  },
  {
   "cell_type": "code",
   "execution_count": 4,
   "id": "3091f276",
   "metadata": {},
   "outputs": [],
   "source": [
    "# If we want to click or do any action in fame,\n",
    "# Firstly we need to move to inisde the frame, i.e. switch to the fame\n",
    "# Otherwise we will get error\n",
    "\n",
    "\n",
    "driver.switch_to.frame(\"packageListFrame\")    # here we are in the All packages frame"
   ]
  },
  {
   "cell_type": "code",
   "execution_count": 5,
   "id": "34bd4bd0",
   "metadata": {},
   "outputs": [
    {
     "name": "stderr",
     "output_type": "stream",
     "text": [
      "<ipython-input-5-336569ee2058>:2: DeprecationWarning: find_element_by_* commands are deprecated. Please use find_element() instead\n",
      "  click_link = driver.find_element_by_link_text(\"org.openqa.selenium\")\n"
     ]
    }
   ],
   "source": [
    "# After switching into fame, now we can perform the locating of element\n",
    "click_link = driver.find_element_by_link_text(\"org.openqa.selenium\")\n",
    "click_link.click()"
   ]
  },
  {
   "cell_type": "code",
   "execution_count": 6,
   "id": "e37d2020",
   "metadata": {},
   "outputs": [],
   "source": [
    "# Now the link, now to which we wanted to move is not the same frame\n",
    "# So, firstly we need to move to that particular fame than we will perform the action\n",
    "\n",
    "\n",
    "#  navigate to main page from frame\n",
    "driver.switch_to.default_content()"
   ]
  },
  {
   "cell_type": "code",
   "execution_count": 8,
   "id": "ad05dadb",
   "metadata": {},
   "outputs": [],
   "source": [
    "# Now I can navigate to second frame\n",
    "\n",
    "driver.switch_to.frame(\"packageFrame\")"
   ]
  },
  {
   "cell_type": "code",
   "execution_count": 9,
   "id": "ee605025",
   "metadata": {},
   "outputs": [
    {
     "name": "stderr",
     "output_type": "stream",
     "text": [
      "<ipython-input-9-af73f351d03c>:2: DeprecationWarning: find_element_by_* commands are deprecated. Please use find_element() instead\n",
      "  alert_click = driver.find_element_by_xpath(\"//a[@target='classFrame' and @title = 'interface in org.openqa.selenium']\").click()\n"
     ]
    }
   ],
   "source": [
    "# After switching into frame, click into alert link\n",
    "alert_click = driver.find_element_by_xpath(\"//a[@target='classFrame' and @title = 'interface in org.openqa.selenium']\").click()"
   ]
  },
  {
   "cell_type": "code",
   "execution_count": 11,
   "id": "ca338db2",
   "metadata": {},
   "outputs": [],
   "source": [
    "# For getting the alert text , or next frame , I have to switch to default content\n",
    "#  navigate to main page from frame\n",
    "driver.switch_to.default_content()"
   ]
  },
  {
   "cell_type": "code",
   "execution_count": 12,
   "id": "3c2720e0",
   "metadata": {},
   "outputs": [],
   "source": [
    "# Now I can navigate to 3rd frame\n",
    "\n",
    "driver.switch_to.frame(\"classFrame\")"
   ]
  },
  {
   "cell_type": "code",
   "execution_count": 14,
   "id": "835eb025",
   "metadata": {},
   "outputs": [
    {
     "name": "stderr",
     "output_type": "stream",
     "text": [
      "<ipython-input-14-3589845cc617>:1: DeprecationWarning: find_element_by_* commands are deprecated. Please use find_element() instead\n",
      "  title_text = driver.find_element_by_xpath(\"//h2[@title='Interface Alert']\").text\n"
     ]
    },
    {
     "data": {
      "text/plain": [
       "'Interface Alert'"
      ]
     },
     "execution_count": 14,
     "metadata": {},
     "output_type": "execute_result"
    }
   ],
   "source": [
    "title_text = driver.find_element_by_xpath(\"//h2[@title='Interface Alert']\").text\n",
    "title_text"
   ]
  }
 ],
 "metadata": {
  "kernelspec": {
   "display_name": "Python 3",
   "language": "python",
   "name": "python3"
  },
  "language_info": {
   "codemirror_mode": {
    "name": "ipython",
    "version": 3
   },
   "file_extension": ".py",
   "mimetype": "text/x-python",
   "name": "python",
   "nbconvert_exporter": "python",
   "pygments_lexer": "ipython3",
   "version": "3.8.8"
  }
 },
 "nbformat": 4,
 "nbformat_minor": 5
}
