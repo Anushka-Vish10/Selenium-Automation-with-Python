{
 "cells": [
  {
   "cell_type": "code",
   "execution_count": 6,
   "id": "fb93c7a4",
   "metadata": {},
   "outputs": [],
   "source": [
    "# Importing required libraries\n",
    "from selenium import webdriver\n",
    "import time"
   ]
  },
  {
   "cell_type": "code",
   "execution_count": 37,
   "id": "2375ce67",
   "metadata": {},
   "outputs": [
    {
     "name": "stderr",
     "output_type": "stream",
     "text": [
      "<ipython-input-37-f44ab15b587e>:2: DeprecationWarning: executable_path has been deprecated, please pass in a Service object\n",
      "  driver = webdriver.Chrome(executable_path=r\"C:\\Users\\Celebal\\Documents\\chromedriver_win32\\chromedriver.exe\")\n"
     ]
    }
   ],
   "source": [
    "# setting chrome driver\n",
    "driver = webdriver.Chrome(executable_path=r\"C:\\Users\\Celebal\\Documents\\chromedriver_win32\\chromedriver.exe\")"
   ]
  },
  {
   "cell_type": "markdown",
   "id": "f3424ac6",
   "metadata": {},
   "source": [
    "# WebDriver commands part 1"
   ]
  },
  {
   "cell_type": "markdown",
   "id": "71360bb8",
   "metadata": {},
   "source": [
    "Selenium web driver uses various commands to perform the operations on the web elements. Number of python commands are available to perform various operations such as launching the web url, maximizing or minimizing the window, getting page title, getting page source etc. Functions used while locating the web elements were also commands in selenium python."
   ]
  },
  {
   "cell_type": "code",
   "execution_count": 51,
   "id": "415baef5",
   "metadata": {},
   "outputs": [],
   "source": [
    "# Launching the browser\n",
    "driver.get(\"https://www.facebook.com/\")"
   ]
  },
  {
   "cell_type": "markdown",
   "id": "4fc0f29d",
   "metadata": {},
   "source": [
    "# Browser Commands\n",
    "a) driver.maximize_window()  # for maximizing the window size\n",
    "\n",
    "b) driver.minimize_window()  # for minimizing the window size\n",
    "\n",
    "c) driver.close()            # for closing the current window"
   ]
  },
  {
   "cell_type": "code",
   "execution_count": 12,
   "id": "cace4101",
   "metadata": {},
   "outputs": [],
   "source": [
    "# Once we start our driver it is not in maximize start, for maximizing we use this command\n",
    "driver.maximize_window()\n",
    "time.sleep(3)                   # After maximizing, it will wait for 3 seconds to see the minimizing effect.\n",
    "driver.minimize_window()        # Minimizing the window\n",
    "time.sleep(3)                   # After minimizing wait for 3 seconds\n",
    "\n",
    "# to see the effect clearly, we again maximize the window\n",
    "driver.maximize_window()\n",
    "\n",
    "\n"
   ]
  },
  {
   "cell_type": "code",
   "execution_count": null,
   "id": "96023feb",
   "metadata": {},
   "outputs": [],
   "source": [
    "driver.close()                # for closing the current window"
   ]
  },
  {
   "cell_type": "markdown",
   "id": "856c0ae1",
   "metadata": {},
   "source": [
    "d. driver.title                     # gives the title of web page, it will give us the string\n",
    "e. driver.current_url               # gives the current url in which we are working on"
   ]
  },
  {
   "cell_type": "code",
   "execution_count": 20,
   "id": "234f53ca",
   "metadata": {},
   "outputs": [
    {
     "name": "stdout",
     "output_type": "stream",
     "text": [
      "Facebook – log in or sign up\n",
      "\n",
      "https://www.facebook.com/\n"
     ]
    }
   ],
   "source": [
    "#print(driver.title)\n",
    "#print(driver.current_url\n",
    "\n",
    "page_title = driver.title \n",
    "page_url = driver.current_url\n",
    "print(page_title)\n",
    "print()\n",
    "print(page_url)"
   ]
  },
  {
   "cell_type": "markdown",
   "id": "cfa7f0db",
   "metadata": {},
   "source": [
    "f. driver.page_source                     # Sometimes we need the page source also"
   ]
  },
  {
   "cell_type": "code",
   "execution_count": 24,
   "id": "dc9d118a",
   "metadata": {},
   "outputs": [
    {
     "name": "stdout",
     "output_type": "stream",
     "text": [
      "<html lang=\"en\" id=\"facebook\" class=\"\"><head><meta charset=\"utf-8\"><meta name=\"referrer\" content=\"origin-when-crossorigin\" id=\"meta_referrer\"><script nonce=\"\">window._cstart=+new Date();</script><script nonce=\"\">function envFlush(a){function b(b){for(var c in a)b[c]=a[c]}window.requireLazy?window.requireLazy([\"Env\"],b):(window.Env=window.Env||{},b(window.Env))}envFlush({\"ajaxpipe_token\":\"AXh8O0IydMaioPkbd1A\",\"timeslice_heartbeat_config\":{\"pollIntervalMs\":33,\"idleGapThresholdMs\":60,\"ignoredTimesliceNames\":{\"requestAnimationFrame\":true,\"Event listenHandler mousemove\":true,\"Event listenHandler mouseover\":true,\"Event listenHandler mouseout\":true,\"Event listenHandler scroll\":true},\"isHeartbeatEnabled\":true,\"isArtilleryOn\":false},\"shouldLogCounters\":true,\"timeslice_categories\":{\"react_render\":true,\"reflow\":true},\"sample_continuation_stacktraces\":true,\"dom_mutation_flag\":true,\"gk_requirelazy_mem\":true,\"gk_instrument_object_url\":true,\"stack_trace_limit\":30,\"timesliceBufferSize\":5000,\"show_invariant_decoder\":false,\"compat_iframe_token\":\"AQ5WmzXY47QI5dlyBdc\",\"isCQuick\":false});</script><style nonce=\"\"></style><script nonce=\"\">__DEV__=0;CavalryLogger=window.CavalryLogger||function(a){this.lid=a,this.transition=!1,this.metric_collected=!1,this.is_detailed_profiler=!1,this.instrumentation_started=!1,this.pagelet_metrics={},this.events={},this.ongoing_watch={},this.values={t_cstart:window._cstart},this.piggy_values={},this.bootloader_metrics={},this.resource_to_pagelet_mapping={},this.initializeInstrumentation&&this.initializeInstrumentation()},CavalryLogger.prototype.setIsDetailedProfiler=function(a){this.is_detailed_profiler=a;return this},CavalryLogger.prototype.setTTIEvent=function(a){this.tti_event=a;return this},CavalryLogger.prototype.setValue=function(a,b,c,d){d=d?this.piggy_values:this.values;(typeof d[a]===\"undefined\"||c)&&(d[a]=b);return this},CavalryLogger.prototype.getLastTtiValue=function(){return this.lastTtiValue},CavalryLogger.prototype.setTimeStamp=CavalryLogger.prototype.setTimeStamp||function(a,b,c,d){this.mark(a);var e=this.values.t_cstart||this.values.t_start;e=d?e+d:CavalryLogger.now();this.setValue(a,e,b,c);this.tti_event&&a==this.tti_event&&(this.lastTtiValue=e,this.setTimeStamp(\"t_tti\",b));return this},CavalryLogger.prototype.mark=typeof console===\"object\"&&console.timeStamp?function(a){console.timeStamp(a)}:function(){},CavalryLogger.prototype.addPiggyback=function(a,b){this.piggy_values[a]=b;return this},CavalryLogger.instances={},CavalryLogger.id=0,CavalryLogger.getInstance=function(a){typeof a===\"undefined\"&&(a=CavalryLogger.id);CavalryLogger.instances[a]||(CavalryLogger.instances[a]=new CavalryLogger(a));return CavalryLogger.instances[a]},CavalryLogger.setPageID=function(a){if(CavalryLogger.id===0){var b=CavalryLogger.getInstance();CavalryLogger.instances[a]=b;CavalryLogger.instances[a].lid=a;delete CavalryLogger.instances[0]}CavalryLogger.id=a},CavalryLogger.now=function(){return window.performance&&performance.timing&&performance.timing.navigationStart&&performance.now?performance.now()+performance.timing.navigationStart:new Date().getTime()},CavalryLogger.prototype.measureResources=function(){},CavalryLogger.prototype.profileEarlyResources=function(){},CavalryLogger.getBootloaderMetricsFromAllLoggers=function(){},CavalryLogger.start_js=function(){},CavalryLogger.done_js=function(){};CavalryLogger.getInstance().setTTIEvent(\"t_domcontent\");CavalryLogger.prototype.measureResources=function(a,b){if(!this.log_resources)return;var c=\"bootload/\"+a.name;if(this.bootloader_metrics[c]!==void 0||this.ongoing_watch[c]!==void 0)return;var d=CavalryLogger.now();this.ongoing_watch[c]=d;\"start_\"+c in this.bootloader_metrics||(this.bootloader_metrics[\"start_\"+c]=d);b&&!(\"tag_\"+c in this.bootloader_metrics)&&(this.bootloader_metrics[\"tag_\"+c]=b);if(a.type===\"js\"){c=\"js_exec/\"+a.name;this.ongoing_watch[c]=d}},CavalryLogger.prototype.stopWatch=function(a){if(this.ongoing_watch[a]){var b=CavalryLogger.now(),c=b-this.ongoing_watch[a];this.bootloader_metrics[a]=c;var d=this.piggy_values;a.indexOf(\"bootload\")===0&&(d.t_resource_download||(d.t_resource_download=0),d.resources_downloaded||(d.resources_downloaded=0),d.t_resource_download+=c,d.resources_downloaded+=1,d[\"tag_\"+a]==\"_EF_\"&&(d.t_pagelet_cssload_early_resources=b));delete this.ongoing_watch[a]}return this},CavalryLogger.getBootloaderMetricsFromAllLoggers=function(){var a={};Object.values(window.CavalryLogger.instances).forEach(function(b){b.bootloader_metrics&&Object.assign(a,b.bootloader_metrics)});return a},CavalryLogger.start_js=function(a){for(var b=0;b<a.length;++b)CavalryLogger.getInstance().stopWatch(\"js_exec/\"+a[b])},CavalryLogger.done_js=function(a){for(var b=0;b<a.length;++b)CavalryLogger.getInstance().stopWatch(\"bootload/\"+a[b])},CavalryLogger.prototype.profileEarlyResources=function(a){for(var b=0;b<a.length;b++)this.measureResources({name:a[b][0],type:a[b][1]?\"js\":\"\"},\"_EF_\")};CavalryLogger.getInstance().log_resources=true;CavalryLogger.getInstance().setIsDetailedProfiler(true);window.CavalryLogger&&CavalryLogger.getInstance().setTimeStamp(\"t_start\");</script><noscript><meta http-equiv=\"refresh\" content=\"0; URL=/?_fb_noscript=1\" /></noscript><link rel=\"manifest\" id=\"MANIFEST_LINK\" href=\"/data/manifest/\" crossorigin=\"use-credentials\"><title id=\"pageTitle\">Facebook – log in or sign up</title><meta property=\"og:site_name\" content=\"Facebook\"><meta property=\"og:url\" content=\"https://www.facebook.com/\"><meta property=\"og:image\" content=\"https://www.facebook.com/images/fb_icon_325x325.png\"><meta property=\"og:locale\" content=\"en_GB\"><link rel=\"alternate\" media=\"only screen and (max-width: 640px)\" href=\"https://m.facebook.com/\"><link rel=\"alternate\" media=\"handheld\" href=\"https://m.facebook.com/\"><meta name=\"description\" content=\"Log in to Facebook to start sharing and connecting with your friends, family and people you know.\"><script type=\"application/ld+json\" nonce=\"\">{\"\\u0040context\":\"http:\\/\\/schema.org\",\"\\u0040type\":\"WebSite\",\"name\":\"Facebook\",\"url\":\"https:\\/\\/en-gb.facebook.com\\/\"}</script><link rel=\"canonical\" href=\"https://www.facebook.com/\"><link rel=\"shortcut icon\" href=\"https://static.xx.fbcdn.net/rsrc.php/yb/r/hLRJ1GG_y0J.ico\"><link type=\"text/css\" rel=\"stylesheet\" href=\"https://static.xx.fbcdn.net/rsrc.php/v3/y-/l/0,cross/BNdSVw6cAaf.css?_nc_x=Ij3Wp8lg5Kz\" data-bootloader-hash=\"Ouygn02\" crossorigin=\"anonymous\">\n",
      "<link type=\"text/css\" rel=\"stylesheet\" href=\"https://static.xx.fbcdn.net/rsrc.php/v3/yH/l/0,cross/7ctM7qB2Qqx.css?_nc_x=Ij3Wp8lg5Kz\" data-bootloader-hash=\"kTi6Sha\" crossorigin=\"anonymous\">\n",
      "<link type=\"text/css\" rel=\"stylesheet\" href=\"https://static.xx.fbcdn.net/rsrc.php/v3/yu/l/0,cross/B5rwBOec2l8.css?_nc_x=Ij3Wp8lg5Kz\" data-bootloader-hash=\"IY+hOi5\" crossorigin=\"anonymous\">\n",
      "<link type=\"text/css\" rel=\"stylesheet\" href=\"https://static.xx.fbcdn.net/rsrc.php/v3/yy/l/0,cross/KmFtD00nMq3.css?_nc_x=Ij3Wp8lg5Kz\" data-bootloader-hash=\"T4Gvcer\" crossorigin=\"anonymous\">\n",
      "<link type=\"text/css\" rel=\"stylesheet\" href=\"https://static.xx.fbcdn.net/rsrc.php/v3/yv/l/0,cross/PR5f5cH44oq.css?_nc_x=Ij3Wp8lg5Kz\" data-bootloader-hash=\"DcLQ9Pg\" crossorigin=\"anonymous\">\n",
      "<link type=\"text/css\" rel=\"stylesheet\" href=\"https://static.xx.fbcdn.net/rsrc.php/v3/y3/l/0,cross/fbWj5dcnmIq.css?_nc_x=Ij3Wp8lg5Kz\" data-bootloader-hash=\"T+M/J5P\" crossorigin=\"anonymous\">\n",
      "<script src=\"https://static.xx.fbcdn.net/rsrc.php/v3/yR/r/kaKvCk5Vlf1.js?_nc_x=Ij3Wp8lg5Kz\" data-bootloader-hash=\"U96Vx+u\" crossorigin=\"anonymous\" nonce=\"\"></script>\n",
      "<script nonce=\"\">requireLazy([\"HasteSupportData\"],function(m){m.handle({\"clpData\":{\"1814852\":{\"r\":1},\"1949898\":{\"r\":1},\"1848815\":{\"r\":10000,\"s\":1},\"1744178\":{\"r\":1,\"s\":1}},\"gkxData\":{\"5241\":{\"result\":true,\"hash\":\"AT7o1bCQPGpf3ShEGdE\"},\"676837\":{\"result\":false,\"hash\":\"AT4N8wBZA8ctCdHwBh4\"},\"708253\":{\"result\":false,\"hash\":\"AT5n4hBL3YTMnQWttWc\"},\"996940\":{\"result\":false,\"hash\":\"AT7opYuEGy3sjG1a5Nk\"},\"1224637\":{\"result\":false,\"hash\":\"AT7JRluWxuwDm3Xzz74\"},\"1263340\":{\"result\":false,\"hash\":\"AT5bwizWgDaFQudm7Uw\"},\"676920\":{\"result\":true,\"hash\":\"AT497IX4gOFG8gZep8Y\"},\"1073500\":{\"result\":false,\"hash\":\"AT7aJmfnqWyioxOOGTg\"},\"1857581\":{\"result\":false,\"hash\":\"AT5yTxGMp6le0PAtfiU\"},\"2772\":{\"result\":false,\"hash\":\"AT5Eu244WIce7iwqn8E\"},\"3752\":{\"result\":false,\"hash\":\"AT6eS5UTkkMp_xbPqMk\"},\"3831\":{\"result\":false,\"hash\":\"AT4W23lQ0XxAZniM50o\"},\"4075\":{\"result\":false,\"hash\":\"AT4_ZQi0sTjSt-RxIqg\"},\"676838\":{\"result\":false,\"hash\":\"AT6nN1ehT9yq-2q6r-E\"},\"1217157\":{\"result\":false,\"hash\":\"AT6B7YmllOsArnK6a0I\"},\"1554827\":{\"result\":false,\"hash\":\"AT7zueGLhGo0cT5xjRg\"},\"1738486\":{\"result\":false,\"hash\":\"AT4cX37oQco6DwhUtr0\"}},\"qplData\":{\"7758\":{\"r\":1}}})});requireLazy([\"TimeSliceImpl\",\"ServerJS\"],function(TimeSlice,ServerJS){(new ServerJS()).handle({\"define\":[[\"URLFragmentPreludeConfig\",[],{\"hashtagRedirect\":true,\"fragBlacklist\":[\"nonce\",\"access_token\",\"oauth_token\",\"xs\",\"checkpoint_data\",\"code\"]},137],[\"CometPersistQueryParams\",[],{\"relative\":{},\"domain\":{}},6231],[\"BootloaderConfig\",[],{\"deferBootloads\":false,\"jsRetries\":[200,500],\"jsRetryAbortNum\":2,\"jsRetryAbortTime\":5,\"silentDups\":false,\"hypStep4\":false,\"phdOn\":false,\"btCutoffIndex\":3106},329],[\"CSSLoaderConfig\",[],{\"timeout\":5000,\"modulePrefix\":\"BLCSS:\",\"loadEventSupported\":true},619],[\"CookieCoreConfig\",[],{\"c_user\":{\"s\":\"None\"},\"cppo\":{\"t\":86400,\"s\":\"None\"},\"dpr\":{\"t\":604800,\"s\":\"None\"},\"fbl_ci\":{\"t\":31536000,\"s\":\"None\"},\"fbl_cs\":{\"t\":31536000,\"s\":\"None\"},\"fbl_st\":{\"t\":31536000,\"s\":\"Strict\"},\"i_user\":{\"s\":\"None\"},\"js_ver\":{\"t\":604800,\"s\":\"None\"},\"locale\":{\"t\":604800,\"s\":\"None\"},\"m_pixel_ratio\":{\"t\":604800,\"s\":\"None\"},\"noscript\":{\"s\":\"None\"},\"presence\":{\"t\":2592000,\"s\":\"None\"},\"sfau\":{\"s\":\"None\"},\"usida\":{\"s\":\"None\"},\"vpd\":{\"t\":5184000,\"s\":\"Lax\"},\"wd\":{\"t\":604800,\"s\":\"Lax\"},\"x-referer\":{\"s\":\"None\"},\"x-src\":{\"t\":1,\"s\":\"None\"}},2104],[\"CurrentCommunityInitialData\",[],{},490],[\"CurrentEnvironment\",[],{\"facebookdotcom\":true,\"messengerdotcom\":false,\"workplacedotcom\":false,\"instagramdotcom\":false},827],[\"CurrentUserInitialData\",[],{\"ACCOUNT_ID\":\"0\",\"USER_ID\":\"0\",\"NAME\":\"\",\"SHORT_NAME\":null,\"IS_BUSINESS_PERSON_ACCOUNT\":false,\"HAS_SECONDARY_BUSINESS_PERSON\":false,\"IS_FACEBOOK_WORK_ACCOUNT\":false,\"IS_MESSENGER_ONLY_USER\":false,\"IS_DEACTIVATED_ALLOWED_ON_MESSENGER\":false,\"IS_MESSENGER_CALL_GUEST_USER\":false,\"IS_WORK_MESSENGER_CALL_GUEST_USER\":false,\"APP_ID\":\"256281040558\",\"IS_BUSINESS_DOMAIN\":false},270],[\"DTSGInitialData\",[],{},258],[\"ISB\",[],{},330],[\"LSD\",[],{\"token\":\"AVp3_BD-Uak\"},323],[\"ServerNonce\",[],{\"ServerNonce\":\"i9Ft5po5wGLC08SFo1aLI-\"},141],[\"SiteData\",[],{\"server_revision\":1004871081,\"client_revision\":1004871081,\"tier\":\"\",\"push_phase\":\"C3e\",\"pkg_cohort\":\"BP:DEFAULT\",\"haste_session\":\"18976.BP:DEFAULT.2.0.0.0.\",\"pr\":1,\"haste_site\":\"www\",\"be_one_ahead\":false,\"ir_on\":true,\"is_rtl\":false,\"is_comet\":false,\"is_experimental_tier\":false,\"is_jit_warmed_up\":true,\"hsi\":\"7041882195059319931-0\",\"semr_host_bucket\":\"5\",\"bl_hash_version\":2,\"skip_rd_bl\":true,\"comet_env\":0,\"spin\":4,\"__spin_r\":1004871081,\"__spin_b\":\"trunk\",\"__spin_t\":1639565964,\"vip\":\"2a03:2880:f16b:81:face:b00c:0:25de\"},317],[\"SprinkleConfig\",[],{\"param_name\":\"jazoest\",\"version\":2,\"should_randomize\":false},2111],[\"UserAgentData\",[],{\"browserArchitecture\":\"64\",\"browserFullVersion\":\"96.0.4664.93\",\"browserMinorVersion\":0,\"browserName\":\"Chrome\",\"browserVersion\":96,\"deviceName\":\"Unknown\",\"engineName\":\"WebKit\",\"engineVersion\":\"537.36\",\"platformArchitecture\":\"64\",\"platformName\":\"Windows\",\"platformVersion\":\"10\",\"platformFullVersion\":\"10\"},527],[\"PromiseUsePolyfillSetImmediateGK\",[],{\"www_always_use_polyfill_setimmediate\":false},2190],[\"KSConfig\",[],{\"killed\":{\"__set\":[\"MOBILIZER_SELF_SERVE_OWNERSHIP_RESOLVER\",\"MLHUB_FLOW_AUTOREFRESH_SEARCH\",\"NEKO_DISABLE_CREATE_FOR_SAP\",\"EO_DISABLE_SYSTEM_SERIAL_NUMBER_FREE_TYPING_IN_CPE_NON_CLIENT\",\"MOBILITY_KILL_OLD_VISIBILITY_POSITION_SETTING\",\"WORKPLACE_DISPLAY_TEXT_EVIDENCE_REPORTING\",\"BUSINESS_INVITE_FLOW_WITH_SELLER_PROFILE\",\"BUY_AT_UI_LINE_DELETE\",\"BUSINESS_GRAPH_SETTING_APP_ASSIGNED_USERS_NEW_API\",\"BUSINESS_GRAPH_SETTING_BU_ASSIGNED_USERS_NEW_API\",\"BUSINESS_GRAPH_SETTING_ESG_ASSIGNED_USERS_NEW_API\",\"BUSINESS_GRAPH_SETTING_PRODUCT_CATALOG_ASSIGNED_USERS_NEW_API\",\"BUSINESS_GRAPH_SETTING_SESG_ASSIGNED_USERS_NEW_API\",\"BUSINESS_GRAPH_SETTING_WABA_ASSIGNED_USERS_NEW_API\",\"ADS_PLACEMENT_FIX_PUBLISHER_PLATFORMS_MUTATION\",\"FORCE_FETCH_BOOSTED_COMPONENT_AFTER_ADS_CREATION\",\"VIDEO_DIMENSIONS_FROM_PLAYER_IN_UPLOAD_DIALOG\",\"SNIVY_GROUP_BY_EVENT_TRACE_ID_AND_NAME\",\"ADS_STORE_VISITS_METRICS_DEPRECATION\",\"DYNAMIC_ADS_SET_CATALOG_AND_PRODUCT_SET_TOGETHER\",\"AD_DRAFT_ENABLE_SYNCRHONOUS_FRAGMENT_VALIDATION\",\"NEKO_ENABLE_RESET_SAP_FOR_CREATE_AD_SET_CONTEXTUAL\",\"SEPARATE_MESSAGING_COMACTIVITY_PAGE_PERMS\",\"LAB_NET_NEW_UI_RELEASE\",\"POCKET_MONSTERS_CREATE\",\"POCKET_MONSTERS_DELETE\",\"SRT_BANZAI_SRT_CORE_LOGGER\",\"SRT_BANZAI_SRT_MAIN_LOGGER\",\"WORKPLACE_PLATFORM_SECURE_APPS_MAILBOXES\",\"POCKET_MONSTERS_UPDATE_NAME\",\"IC_DISABLE_MERGE_TOOL_FEED_CHECK_FOR_REPLACE_SCHEDULE\",\"ADS_EPD_IMPACTED_ADVERTISER_MIGRATE_XCONTROLLER\",\"RECRUITING_CANDIDATE_PORTAL_ACCOUNT_DELETION_CARD\"]},\"ko\":{\"__set\":[\"8H4bQmEiuLT\",\"3OsLvnSHNTt\",\"1G7wJ6bJt9K\",\"9NpkGYwzrPG\",\"3oh5Mw86USj\",\"8NAceEy9JZo\",\"7FOIzos6XJX\",\"rf8JEPGgOi\",\"4j36SVzvP3w\",\"4NSq3ZC4ScE\",\"53gCxKq281G\",\"3yzzwBY7Npj\",\"1onzIv0jH6H\",\"8PlKuowafe8\",\"1ntjZ2zgf03\",\"4SIH2GRVX5W\",\"2dhqRnqXGLQ\",\"2WgiNOrHVuC\",\"amKHb4Cw4WI\",\"5mNEXob0nTj\",\"8rDvN9vWdAK\",\"9cL5o2kjfZo\",\"5BdzWGmfvrA\",\"DDZhogI19W\",\"acrJTh9WGdp\",\"1oOE64fL4wO\",\"9Gd8qgRxn8z\",\"MPMaqnqZ9c\",\"5XCz1h9Iaw3\",\"7r6mSP7ofr2\",\"6DGPLrRdyts\",\"aWxCyi1sEC7\",\"9kCSDzzr8fu\"]}},2580],[\"JSErrorLoggingConfig\",[],{\"appId\":256281040558,\"extra\":[],\"reportInterval\":50,\"sampleWeight\":null,\"sampleWeightKey\":\"__jssesw\"},2776],[\"DataStoreConfig\",[],{\"expandoKey\":\"__FB_STORE\",\"useExpando\":true},2915],[\"CookieCoreLoggingConfig\",[],{\"maximumIgnorableStallMs\":16.67,\"sampleRate\":9.7e-5,\"sampleRateClassic\":1.0e-10,\"sampleRateFastStale\":1.0e-8},3401],[\"ImmediateImplementationExperiments\",[],{\"prefer_message_channel\":true},3419],[\"DTSGInitData\",[],{\"token\":\"\",\"async_get_token\":\"\"},3515],[\"UriNeedRawQuerySVConfig\",[],{\"uris\":[\"dms.netmng.com\",\"doubleclick.net\",\"r.msn.com\",\"watchit.sky.com\",\"graphite.instagram.com\",\"www.kfc.co.th\",\"learn.pantheon.io\",\"www.landmarkshops.in\",\"www.ncl.com\",\"s0.wp.com\",\"www.tatacliq.com\",\"bs.serving-sys.com\",\"kohls.com\",\"lazada.co.th\",\"xg4ken.com\",\"technopark.ru\",\"officedepot.com.mx\",\"bestbuy.com.mx\",\"booking.com\",\"nibio.no\"]},3871],[\"InitialCookieConsent\",[],{\"deferCookies\":false,\"initialConsent\":{\"__set\":[1,2]},\"noCookies\":false,\"shouldShowCookieBanner\":false},4328],[\"TrustedTypesConfig\",[],{\"useTrustedTypes\":false,\"reportOnly\":false},4548],[\"WebConnectionClassServerGuess\",[],{\"connectionClass\":\"GOOD\"},4705],[\"CometAltpayJsSdkIframeAllowedDomains\",[],{\"allowed_domains\":[\"https:\\/\\/live.adyen.com\",\"https:\\/\\/integration-facebook.payu.in\",\"https:\\/\\/facebook.payulatam.com\",\"https:\\/\\/secure.payu.com\",\"https:\\/\\/facebook.dlocal.com\",\"https:\\/\\/buy2.boku.com\"]},4920],[\"BootloaderEndpointConfig\",[],{\"debugNoBatching\":false,\"endpointURI\":\"https:\\/\\/www.facebook.com\\/ajax\\/bootloader-endpoint\\/\"},5094],[\"CookieConsentIFrameConfig\",[],{\"consent_param\":\"FQAREhIA.ARaspU2NectkmiIlWH2OruZqa3kHN1A7lhnLjuJOpZK3thBQ\",\"allowlisted_iframes\":[]},5540],[\"BigPipeExperiments\",[],{\"link_images_to_pagelets\":false,\"enable_bigpipe_plugins\":false},907],[\"AsyncRequestConfig\",[],{\"retryOnNetworkError\":\"1\",\"useFetchStreamAjaxPipeTransport\":false},328],[\"FbtQTOverrides\",[],{\"overrides\":{}},551],[\"FbtResultGK\",[],{\"shouldReturnFbtResult\":true,\"inlineMode\":\"NO_INLINE\"},876],[\"IntlPhonologicalRules\",[],{\"meta\":{\"\\/_B\\/\":\"([.,!?\\\\s]|^)\",\"\\/_E\\/\":\"([.,!?\\\\s]|$)\"},\"patterns\":{\"\\/\\u0001(.*)('|&#039;)s\\u0001(?:'|&#039;)s(.*)\\/\":\"\\u0001$1$2s\\u0001$3\",\"\\/_\\u0001([^\\u0001]*)\\u0001\\/\":\"javascript\"}},1496],[\"IntlViewerContext\",[],{\"GENDER\":3},772],[\"NumberFormatConfig\",[],{\"decimalSeparator\":\".\",\"numberDelimiter\":\",\",\"minDigitsForThousandsSeparator\":4,\"standardDecimalPatternInfo\":{\"primaryGroupSize\":3,\"secondaryGroupSize\":3},\"numberingSystemData\":null},54],[\"SessionNameConfig\",[],{\"seed\":\"2Gdr\"},757],[\"ZeroCategoryHeader\",[],{},1127],[\"ZeroRewriteRules\",[],{\"rewrite_rules\":{},\"whitelist\":{\"\\/hr\\/r\":1,\"\\/hr\\/p\":1,\"\\/zero\\/unsupported_browser\\/\":1,\"\\/zero\\/policy\\/optin\":1,\"\\/zero\\/optin\\/write\\/\":1,\"\\/zero\\/optin\\/legal\\/\":1,\"\\/zero\\/optin\\/free\\/\":1,\"\\/about\\/privacy\\/\":1,\"\\/about\\/privacy\\/update\\/\":1,\"\\/about\\/privacy\\/update\":1,\"\\/zero\\/toggle\\/welcome\\/\":1,\"\\/zero\\/toggle\\/nux\\/\":1,\"\\/zero\\/toggle\\/settings\\/\":1,\"\\/fup\\/interstitial\\/\":1,\"\\/work\\/landing\":1,\"\\/work\\/login\\/\":1,\"\\/work\\/email\\/\":1,\"\\/ai.php\":1,\"\\/js_dialog_resources\\/dialog_descriptions_android.json\":0,\"\\/connect\\/jsdialog\\/MPlatformAppInvitesJSDialog\\/\":0,\"\\/connect\\/jsdialog\\/MPlatformOAuthShimJSDialog\\/\":0,\"\\/connect\\/jsdialog\\/MPlatformLikeJSDialog\\/\":0,\"\\/qp\\/interstitial\\/\":1,\"\\/qp\\/action\\/redirect\\/\":1,\"\\/qp\\/action\\/close\\/\":1,\"\\/zero\\/support\\/ineligible\\/\":1,\"\\/zero_balance_redirect\\/\":1,\"\\/zero_balance_redirect\":1,\"\\/zero_balance_redirect\\/l\\/\":1,\"\\/l.php\":1,\"\\/lsr.php\":1,\"\\/ajax\\/dtsg\\/\":1,\"\\/checkpoint\\/block\\/\":1,\"\\/exitdsite\":1,\"\\/zero\\/balance\\/pixel\\/\":1,\"\\/zero\\/balance\\/\":1,\"\\/zero\\/balance\\/carrier_landing\\/\":1,\"\\/zero\\/flex\\/logging\\/\":1,\"\\/tr\":1,\"\\/tr\\/\":1,\"\\/sem_campaigns\\/sem_pixel_test\\/\":1,\"\\/bookmarks\\/flyout\\/body\\/\":1,\"\\/zero\\/subno\\/\":1,\"\\/confirmemail.php\":1,\"\\/policies\\/\":1,\"\\/mobile\\/internetdotorg\\/classifier\\/\":1,\"\\/zero\\/dogfooding\":1,\"\\/xti.php\":1,\"\\/zero\\/fblite\\/config\\/\":1,\"\\/hr\\/zsh\\/wc\\/\":1,\"\\/ajax\\/bootloader-endpoint\\/\":1,\"\\/mobile\\/zero\\/carrier_page\\/\":1,\"\\/mobile\\/zero\\/carrier_page\\/education_page\\/\":1,\"\\/mobile\\/zero\\/carrier_page\\/feature_switch\\/\":1,\"\\/mobile\\/zero\\/carrier_page\\/settings_page\\/\":1,\"\\/aloha_check_build\":1,\"\\/upsell\\/zbd\\/softnudge\\/\":1,\"\\/mobile\\/zero\\/af_transition\\/\":1,\"\\/mobile\\/zero\\/af_transition\\/action\\/\":1,\"\\/mobile\\/zero\\/freemium\\/\":1,\"\\/mobile\\/zero\\/freemium\\/redirect\\/\":1,\"\\/mobile\\/zero\\/freemium\\/zero_fup\\/\":1,\"\\/privacy\\/policy\\/\":1,\"\\/privacy\\/center\\/\":1,\"\\/data\\/manifest\\/\":1,\"\\/4oh4.php\":1,\"\\/autologin.php\":1,\"\\/birthday_help.php\":1,\"\\/checkpoint\\/\":1,\"\\/contact-importer\\/\":1,\"\\/cr.php\":1,\"\\/legal\\/terms\\/\":1,\"\\/login.php\":1,\"\\/login\\/\":1,\"\\/mobile\\/account\\/\":1,\"\\/n\\/\":1,\"\\/remote_test_device\\/\":1,\"\\/upsell\\/buy\\/\":1,\"\\/upsell\\/buyconfirm\\/\":1,\"\\/upsell\\/buyresult\\/\":1,\"\\/upsell\\/promos\\/\":1,\"\\/upsell\\/continue\\/\":1,\"\\/upsell\\/h\\/promos\\/\":1,\"\\/upsell\\/loan\\/learnmore\\/\":1,\"\\/upsell\\/purchase\\/\":1,\"\\/upsell\\/promos\\/upgrade\\/\":1,\"\\/upsell\\/buy_redirect\\/\":1,\"\\/upsell\\/loan\\/buyconfirm\\/\":1,\"\\/upsell\\/loan\\/buy\\/\":1,\"\\/upsell\\/sms\\/\":1,\"\\/wap\\/a\\/channel\\/reconnect.php\":1,\"\\/wap\\/a\\/nux\\/wizard\\/nav.php\":1,\"\\/wap\\/appreg.php\":1,\"\\/wap\\/birthday_help.php\":1,\"\\/wap\\/c.php\":1,\"\\/wap\\/confirmemail.php\":1,\"\\/wap\\/cr.php\":1,\"\\/wap\\/login.php\":1,\"\\/wap\\/r.php\":1,\"\\/zero\\/datapolicy\":1,\"\\/a\\/timezone.php\":1,\"\\/a\\/bz\":1,\"\\/bz\\/reliability\":1,\"\\/r.php\":1,\"\\/mr\\/\":1,\"\\/reg\\/\":1,\"\\/registration\\/log\\/\":1,\"\\/terms\\/\":1,\"\\/f123\\/\":1,\"\\/expert\\/\":1,\"\\/experts\\/\":1,\"\\/terms\\/index.php\":1,\"\\/terms.php\":1,\"\\/srr\\/\":1,\"\\/msite\\/redirect\\/\":1,\"\\/fbs\\/pixel\\/\":1,\"\\/contactpoint\\/preconfirmation\\/\":1,\"\\/contactpoint\\/cliff\\/\":1,\"\\/contactpoint\\/confirm\\/submit\\/\":1,\"\\/contactpoint\\/confirmed\\/\":1,\"\\/contactpoint\\/login\\/\":1,\"\\/preconfirmation\\/contactpoint_change\\/\":1,\"\\/help\\/contact\\/\":1,\"\\/survey\\/\":1,\"\\/upsell\\/loyaltytopup\\/accept\\/\":1,\"\\/settings\\/\":1,\"\\/lite\\/\":1,\"\\/zero_status_update\\/\":1,\"\\/operator_store\\/\":1,\"\\/upsell\\/\":1,\"\\/wifiauth\\/login\\/\":1}},1478],[\"IntlNumberTypeConfig\",[],{\"impl\":\"if (n === 1) { return IntlVariations.NUMBER_ONE; } else { return IntlVariations.NUMBER_OTHER; }\"},3405],[\"ServerTimeData\",[],{\"serverTime\":1639565964096,\"timeOfRequestStart\":1639565964011.1,\"timeOfResponseStart\":1639565964011.1},5943],[\"AnalyticsCoreData\",[],{\"device_id\":\"$^|AcbC7yqKUyfVGcHeOLcMwrRqEC8Eu8OkVNVP9e3T_QTzDjmTqabt5k0HyBs_Dh5931Lm7ifpIBB41CsLdJ6zhf3-2qSIs8tp1TUqr57TZMa8kV_Fqju69nituZz1H0wKPEwoqOqhXb74BZj2GYCy|fd.AcZ76AKDy5jZuyONCwsxOdYF8bkFz14Nk2gJ4bS-MkF7orICC3ELV2bF3ypd8PU_QiieTl1t1uCw7UnY1Q6OS_LW\",\"app_id\":\"256281040558\",\"enable_bladerunner\":false,\"enable_ack\":true,\"push_phase\":\"C3e\",\"enable_observer\":false,\"enable_dataloss_timer\":false},5237],[\"cr:696703\",[],{\"__rc\":[null,\"Aa2tRUvq24Ew2Eo1WSdeNmASh_KES-EI44Dl4F4NzVzKhUm8hmDkU8cDP-fH7KkSsYWsD4UAEVT2NjiVr4QgRCCsBJ8\"]},-1],[\"cr:708886\",[\"EventProfilerImpl\"],{\"__rc\":[\"EventProfilerImpl\",\"Aa2tRUvq24Ew2Eo1WSdeNmASh_KES-EI44Dl4F4NzVzKhUm8hmDkU8cDP-fH7KkSsYWsD4UAEVT2NjiVr4QgRCCsBJ8\"]},-1],[\"cr:717822\",[\"TimeSliceImpl\"],{\"__rc\":[\"TimeSliceImpl\",\"Aa2tRUvq24Ew2Eo1WSdeNmASh_KES-EI44Dl4F4NzVzKhUm8hmDkU8cDP-fH7KkSsYWsD4UAEVT2NjiVr4QgRCCsBJ8\"]},-1],[\"cr:806696\",[\"clearTimeoutBlue\"],{\"__rc\":[\"clearTimeoutBlue\",\"Aa2tRUvq24Ew2Eo1WSdeNmASh_KES-EI44Dl4F4NzVzKhUm8hmDkU8cDP-fH7KkSsYWsD4UAEVT2NjiVr4QgRCCsBJ8\"]},-1],[\"cr:807042\",[\"setTimeoutBlue\"],{\"__rc\":[\"setTimeoutBlue\",\"Aa2tRUvq24Ew2Eo1WSdeNmASh_KES-EI44Dl4F4NzVzKhUm8hmDkU8cDP-fH7KkSsYWsD4UAEVT2NjiVr4QgRCCsBJ8\"]},-1],[\"cr:896462\",[\"setIntervalAcrossTransitionsBlue\"],{\"__rc\":[\"setIntervalAcrossTransitionsBlue\",\"Aa2tRUvq24Ew2Eo1WSdeNmASh_KES-EI44Dl4F4NzVzKhUm8hmDkU8cDP-fH7KkSsYWsD4UAEVT2NjiVr4QgRCCsBJ8\"]},-1],[\"cr:986633\",[\"setTimeoutAcrossTransitionsBlue\"],{\"__rc\":[\"setTimeoutAcrossTransitionsBlue\",\"Aa2tRUvq24Ew2Eo1WSdeNmASh_KES-EI44Dl4F4NzVzKhUm8hmDkU8cDP-fH7KkSsYWsD4UAEVT2NjiVr4QgRCCsBJ8\"]},-1],[\"cr:1003267\",[\"clearIntervalBlue\"],{\"__rc\":[\"clearIntervalBlue\",\"Aa2tRUvq24Ew2Eo1WSdeNmASh_KES-EI44Dl4F4NzVzKhUm8hmDkU8cDP-fH7KkSsYWsD4UAEVT2NjiVr4QgRCCsBJ8\"]},-1],[\"cr:1183579\",[\"InlineFbtResultImpl\"],{\"__rc\":[\"InlineFbtResultImpl\",\"Aa2tRUvq24Ew2Eo1WSdeNmASh_KES-EI44Dl4F4NzVzKhUm8hmDkU8cDP-fH7KkSsYWsD4UAEVT2NjiVr4QgRCCsBJ8\"]},-1],[\"cr:925100\",[\"RunBlue\"],{\"__rc\":[\"RunBlue\",\"Aa2tRUvq24Ew2Eo1WSdeNmASh_KES-EI44Dl4F4NzVzKhUm8hmDkU8cDP-fH7KkSsYWsD4UAEVT2NjiVr4QgRCCsBJ8\"]},-1],[\"cr:729414\",[\"VisualCompletion\"],{\"__rc\":[\"VisualCompletion\",\"Aa0NKnRFb0UpmXAFIr0RZyh23y2WVeZJ5bkp_QBULhKKbvI_ux9OA_VJmWBgGdbgipc8fV5S_fVOMR5FXBM6mcld\"]},-1],[\"cr:1094907\",[],{\"__rc\":[null,\"Aa08zlPQHucN1u6HztaTP6sWI5JuaX-p--fQo1vvkRIqtGymbo9cME9Lwm09CNMOVs9ex-gmFpO8gge5cTWvdJw\"]},-1],[\"EventConfig\",[],{\"sampling\":{\"bandwidth\":0,\"play\":0,\"playing\":0,\"progress\":0,\"pause\":0,\"ended\":0,\"seeked\":0,\"seeking\":0,\"waiting\":0,\"loadedmetadata\":0,\"canplay\":0,\"selectionchange\":0,\"change\":0,\"timeupdate\":0,\"adaptation\":0,\"focus\":0,\"blur\":0,\"load\":0,\"error\":0,\"message\":0,\"abort\":0,\"storage\":0,\"scroll\":200000,\"mousemove\":20000,\"mouseover\":10000,\"mouseout\":10000,\"mousewheel\":1,\"MSPointerMove\":10000,\"keydown\":0.1,\"click\":0.02,\"mouseup\":0.02,\"__100ms\":0.001,\"__default\":5000,\"__min\":100,\"__interactionDefault\":200,\"__eventDefault\":100000},\"page_sampling_boost\":1,\"interaction_regexes\":{},\"interaction_boost\":{},\"event_types\":{},\"manual_instrumentation\":false,\"profile_eager_execution\":false,\"disable_heuristic\":true,\"disable_event_profiler\":false},1726],[\"AdsInterfacesSessionConfig\",[],{},2393],[\"IntlCurrentLocale\",[],{\"code\":\"en_GB\"},5954],[\"USIDMetadata\",[],{\"browser_id\":\"?\",\"tab_id\":\"\",\"page_id\":\"Pr45l707lv3sr\",\"transition_id\":0,\"version\":6},5888],[\"cr:686\",[],{\"__rc\":[null,\"Aa0fninak6bg1a3FU2WdCSuD7mQGZoS3-4RtAtOxpjfTqQLyNWBmfKs6OKDxgOkU1vKBvsN-DheZ-HELxjTr_xLM\"]},-1],[\"cr:1984081\",[],{\"__rc\":[null,\"Aa1DIRenih853k4wmxwr-1vJ7Y2WQg6WAo1EtbfijaR1u-bO4216CS4srFifcvMn91JuasTRUFKaUcmI188NAkzo4Tvk\"]},-1]],\"require\":[[\"markJSEnabled\"],[\"lowerDomain\"],[\"URLFragmentPrelude\"],[\"Primer\"],[\"BigPipe\"],[\"Bootloader\"],[\"TimeSlice\"],[\"AsyncRequest\"],[\"BanzaiScuba_DEPRECATED\"],[\"VisualCompletionGating\"],[\"FbtLogging\"],[\"IntlQtEventFalcoEvent\"],[\"RequireDeferredReference\",\"unblock\",[],[[\"AsyncRequest\",\"BanzaiScuba_DEPRECATED\",\"VisualCompletionGating\",\"FbtLogging\",\"IntlQtEventFalcoEvent\"],\"sd\"]],[\"RequireDeferredReference\",\"unblock\",[],[[\"AsyncRequest\",\"BanzaiScuba_DEPRECATED\",\"VisualCompletionGating\",\"FbtLogging\",\"IntlQtEventFalcoEvent\"],\"css\"]]]});});</script><link href=\"https://static.xx.fbcdn.net/rsrc.php/v3/yQ/r/Lzp3j65B-Ld.js?_nc_x=Ij3Wp8lg5Kz\" rel=\"preload\" as=\"script\" crossorigin=\"anonymous\"><script src=\"https://static.xx.fbcdn.net/rsrc.php/v3/yQ/r/Lzp3j65B-Ld.js?_nc_x=Ij3Wp8lg5Kz\" async=\"\" crossorigin=\"anonymous\"></script><link href=\"https://static.xx.fbcdn.net/rsrc.php/v3/yh/r/ACBkrPbpony.js?_nc_x=Ij3Wp8lg5Kz\" rel=\"preload\" as=\"script\" crossorigin=\"anonymous\"><script src=\"https://static.xx.fbcdn.net/rsrc.php/v3/yh/r/ACBkrPbpony.js?_nc_x=Ij3Wp8lg5Kz\" async=\"\" crossorigin=\"anonymous\"></script><link href=\"https://static.xx.fbcdn.net/rsrc.php/v3/yp/r/XpFprvKSai6.js?_nc_x=Ij3Wp8lg5Kz\" rel=\"preload\" as=\"script\" crossorigin=\"anonymous\"><script src=\"https://static.xx.fbcdn.net/rsrc.php/v3/yp/r/XpFprvKSai6.js?_nc_x=Ij3Wp8lg5Kz\" async=\"\" crossorigin=\"anonymous\"></script><link href=\"https://static.xx.fbcdn.net/rsrc.php/v3ij9m4/y1/l/en_GB/0rmOvLNFBok.js?_nc_x=Ij3Wp8lg5Kz\" rel=\"preload\" as=\"script\" crossorigin=\"anonymous\"><script src=\"https://static.xx.fbcdn.net/rsrc.php/v3ij9m4/y1/l/en_GB/0rmOvLNFBok.js?_nc_x=Ij3Wp8lg5Kz\" async=\"\" crossorigin=\"anonymous\"></script><link rel=\"stylesheet\" type=\"text/css\" href=\"data:text/css; charset=utf-8,%23bootloader_P_mr5VE{height:42px;}.bootloader_P_mr5VE{display:block!important;}\"><link href=\"https://static.xx.fbcdn.net/rsrc.php/v3iYXl4/y5/l/en_GB/pUsuhqPHnI3.js?_nc_x=Ij3Wp8lg5Kz\" rel=\"preload\" as=\"script\" crossorigin=\"anonymous\"><script src=\"https://static.xx.fbcdn.net/rsrc.php/v3iYXl4/y5/l/en_GB/pUsuhqPHnI3.js?_nc_x=Ij3Wp8lg5Kz\" async=\"\" crossorigin=\"anonymous\"></script><link href=\"https://static.xx.fbcdn.net/rsrc.php/v3igbH4/y1/l/en_GB/WtbKr-lS0PN.js?_nc_x=Ij3Wp8lg5Kz\" rel=\"preload\" as=\"script\" crossorigin=\"anonymous\"><script src=\"https://static.xx.fbcdn.net/rsrc.php/v3igbH4/y1/l/en_GB/WtbKr-lS0PN.js?_nc_x=Ij3Wp8lg5Kz\" async=\"\" crossorigin=\"anonymous\"></script><link href=\"https://static.xx.fbcdn.net/rsrc.php/v3/yg/r/nCT2GoK2I5d.js?_nc_x=Ij3Wp8lg5Kz\" rel=\"preload\" as=\"script\" crossorigin=\"anonymous\"><script src=\"https://static.xx.fbcdn.net/rsrc.php/v3/yg/r/nCT2GoK2I5d.js?_nc_x=Ij3Wp8lg5Kz\" async=\"\" crossorigin=\"anonymous\"></script><link href=\"https://static.xx.fbcdn.net/rsrc.php/v3iCwx4/y_/l/en_GB/I89YSs7dzAT.js?_nc_x=Ij3Wp8lg5Kz\" rel=\"preload\" as=\"script\" crossorigin=\"anonymous\"><script src=\"https://static.xx.fbcdn.net/rsrc.php/v3iCwx4/y_/l/en_GB/I89YSs7dzAT.js?_nc_x=Ij3Wp8lg5Kz\" async=\"\" crossorigin=\"anonymous\"></script><link href=\"https://static.xx.fbcdn.net/rsrc.php/v3/yh/r/Z0VHBQ_rMn3.js?_nc_x=Ij3Wp8lg5Kz\" rel=\"preload\" as=\"script\" crossorigin=\"anonymous\"><script src=\"https://static.xx.fbcdn.net/rsrc.php/v3/yh/r/Z0VHBQ_rMn3.js?_nc_x=Ij3Wp8lg5Kz\" async=\"\" crossorigin=\"anonymous\"></script><link href=\"https://static.xx.fbcdn.net/rsrc.php/v3/yx/r/0B0LYkSyP8r.js?_nc_x=Ij3Wp8lg5Kz\" rel=\"preload\" as=\"script\" crossorigin=\"anonymous\"><script src=\"https://static.xx.fbcdn.net/rsrc.php/v3/yx/r/0B0LYkSyP8r.js?_nc_x=Ij3Wp8lg5Kz\" async=\"\" crossorigin=\"anonymous\"></script><link href=\"https://static.xx.fbcdn.net/rsrc.php/v3/yY/r/wDQnRjvKxkM.js?_nc_x=Ij3Wp8lg5Kz\" rel=\"preload\" as=\"script\" crossorigin=\"anonymous\"><script src=\"https://static.xx.fbcdn.net/rsrc.php/v3/yY/r/wDQnRjvKxkM.js?_nc_x=Ij3Wp8lg5Kz\" async=\"\" crossorigin=\"anonymous\"></script><link href=\"https://static.xx.fbcdn.net/rsrc.php/v3/yg/r/30MwAtuDo-F.js?_nc_x=Ij3Wp8lg5Kz\" rel=\"preload\" as=\"script\" crossorigin=\"anonymous\"><script src=\"https://static.xx.fbcdn.net/rsrc.php/v3/yg/r/30MwAtuDo-F.js?_nc_x=Ij3Wp8lg5Kz\" async=\"\" crossorigin=\"anonymous\"></script><link href=\"https://static.xx.fbcdn.net/rsrc.php/v3/yx/r/2NCbCfjk18z.js?_nc_x=Ij3Wp8lg5Kz\" rel=\"preload\" as=\"script\" crossorigin=\"anonymous\"><script src=\"https://static.xx.fbcdn.net/rsrc.php/v3/yx/r/2NCbCfjk18z.js?_nc_x=Ij3Wp8lg5Kz\" async=\"\" crossorigin=\"anonymous\"></script><link href=\"https://static.xx.fbcdn.net/rsrc.php/v3/yZ/r/x4Eyp9nQ1uk.js?_nc_x=Ij3Wp8lg5Kz\" rel=\"preload\" as=\"script\" crossorigin=\"anonymous\"><script src=\"https://static.xx.fbcdn.net/rsrc.php/v3/yZ/r/x4Eyp9nQ1uk.js?_nc_x=Ij3Wp8lg5Kz\" async=\"\" crossorigin=\"anonymous\"></script><link href=\"https://static.xx.fbcdn.net/rsrc.php/v3/ys/r/LlBt34FiaHg.js?_nc_x=Ij3Wp8lg5Kz\" rel=\"preload\" as=\"script\" crossorigin=\"anonymous\"><script src=\"https://static.xx.fbcdn.net/rsrc.php/v3/ys/r/LlBt34FiaHg.js?_nc_x=Ij3Wp8lg5Kz\" async=\"\" crossorigin=\"anonymous\"></script><link href=\"https://static.xx.fbcdn.net/rsrc.php/v3/yt/r/bpek9EFzHNi.js?_nc_x=Ij3Wp8lg5Kz\" rel=\"preload\" as=\"script\" crossorigin=\"anonymous\"><script src=\"https://static.xx.fbcdn.net/rsrc.php/v3/yt/r/bpek9EFzHNi.js?_nc_x=Ij3Wp8lg5Kz\" async=\"\" crossorigin=\"anonymous\"></script><link href=\"https://static.xx.fbcdn.net/rsrc.php/v3/yt/r/CyNJRkmXvyt.js?_nc_x=Ij3Wp8lg5Kz\" rel=\"preload\" as=\"script\" crossorigin=\"anonymous\"><script src=\"https://static.xx.fbcdn.net/rsrc.php/v3/yt/r/CyNJRkmXvyt.js?_nc_x=Ij3Wp8lg5Kz\" async=\"\" crossorigin=\"anonymous\"></script><link href=\"https://static.xx.fbcdn.net/rsrc.php/v3/yi/r/JB0CVIbgIKw.js?_nc_x=Ij3Wp8lg5Kz\" rel=\"preload\" as=\"script\" crossorigin=\"anonymous\"><script src=\"https://static.xx.fbcdn.net/rsrc.php/v3/yi/r/JB0CVIbgIKw.js?_nc_x=Ij3Wp8lg5Kz\" async=\"\" crossorigin=\"anonymous\"></script><link href=\"https://static.xx.fbcdn.net/rsrc.php/v3/yv/r/cN-N4Eu_deZ.js?_nc_x=Ij3Wp8lg5Kz\" rel=\"preload\" as=\"script\" crossorigin=\"anonymous\"><script src=\"https://static.xx.fbcdn.net/rsrc.php/v3/yv/r/cN-N4Eu_deZ.js?_nc_x=Ij3Wp8lg5Kz\" async=\"\" crossorigin=\"anonymous\"></script><link href=\"https://static.xx.fbcdn.net/rsrc.php/v3iX3c4/yW/l/en_GB/1K7DqLHIfTz.js?_nc_x=Ij3Wp8lg5Kz\" rel=\"preload\" as=\"script\" crossorigin=\"anonymous\"><script src=\"https://static.xx.fbcdn.net/rsrc.php/v3iX3c4/yW/l/en_GB/1K7DqLHIfTz.js?_nc_x=Ij3Wp8lg5Kz\" async=\"\" crossorigin=\"anonymous\"></script></head><body class=\"fbIndex UIPage_LoggedOut _-kb _605a b_c3pyn-ahh chrome webkit win x1 Locale_en_GB cores-gte4 _19_u hasAXNavMenubar\" dir=\"ltr\"><script type=\"text/javascript\" nonce=\"\">requireLazy([\"bootstrapWebSession\"],function(j){j(1639565964)})</script><div class=\"_li\" id=\"u_0_3_4g\"><div class=\"_3_s0 _1toe _3_s1 _3_s1 uiBoxGray noborder\" data-testid=\"ax-navigation-menubar\" id=\"u_0_4_tc\"><div class=\"_608m\"><div class=\"_5aj7 _tb6\"><div class=\"_4bl7\"><span class=\"mrm _3bcv _50f3\">Jump to</span></div><div class=\"_4bl9 _3bcp\"><div class=\"_6a _608n\" aria-label=\"Navigation assistant\" aria-keyshortcuts=\"Alt+/\" role=\"menubar\" id=\"u_0_5_MN\"><div class=\"_6a uiPopover\" id=\"u_0_6_jd\"><a role=\"menuitem\" class=\"_42ft _4jy0 _55pi _2agf _4o_4 _63xb _p _4jy3 _517h _51sy\" href=\"#\" style=\"max-width:200px;\" aria-haspopup=\"true\" aria-expanded=\"false\" rel=\"toggle\" id=\"u_0_7_1C\"><span class=\"_55pe\">Sections of this page</span><span class=\"_4o_3 _3-99\"><i class=\"img sp_33c0faKYrni sx_c5224f\"></i></span></a></div><div class=\"_6a _3bcs\"></div><div class=\"_6a mrm uiPopover\" id=\"u_0_8_6/\"><a role=\"menuitem\" class=\"_42ft _4jy0 _55pi _2agf _4o_4 _3_s2 _63xb _p _4jy3 _4jy1 selected _51sy\" href=\"#\" style=\"max-width:200px;\" aria-haspopup=\"true\" tabindex=\"-1\" aria-expanded=\"false\" rel=\"toggle\" id=\"u_0_9_Uv\"><span class=\"_55pe\">Accessibility help</span><span class=\"_4o_3 _3-99\"><i class=\"img sp_33c0faKYrni sx_31a3f6\"></i></span></a></div></div></div><div class=\"_4bl7 mlm pll _3bct\"><div class=\"_6a _3bcy\">Press <span class=\"_3bcz\">alt</span> + <span class=\"_3bcz\">/</span> to open this menu</div></div></div></div></div><div id=\"globalContainer\" class=\"uiContextualLayerParent\"><div class=\"fb_content clearfix \" id=\"content\" role=\"main\"><div><div class=\"_8esj _95k9 _8esf _8opv _8f3m _8ilg _8icx _8op_ _95ka\"><div class=\"_8esk\"><div class=\"_8esl\"><div class=\"_8ice\"><img class=\"fb_logo _8ilh img\" src=\"https://static.xx.fbcdn.net/rsrc.php/y8/r/dF5SId3UHWd.svg\" alt=\"Facebook\"></div><h2 class=\"_8eso\">Facebook helps you connect and share with the people in your life.</h2></div><div class=\"_8esn\"><div class=\"_8iep _8icy _9ahz _9ah-\"><div class=\"_6luv _52jv\"><form class=\"_9vtf\" data-testid=\"royal_login_form\" action=\"/login/?privacy_mutation_token=eyJ0eXBlIjowLCJjcmVhdGlvbl90aW1lIjoxNjM5NTY1OTY0LCJjYWxsc2l0ZV9pZCI6MzgxMjI5MDc5NTc1OTQ2fQ%3D%3D\" method=\"post\" onsubmit=\"\" id=\"u_0_a_a4\"><input type=\"hidden\" name=\"jazoest\" value=\"2877\" autocomplete=\"off\"><input type=\"hidden\" name=\"lsd\" value=\"AVp3_BD-Uak\" autocomplete=\"off\"><div><div class=\"_6lux\"><input type=\"text\" class=\"inputtext _55r1 _6luy\" name=\"email\" id=\"email\" data-testid=\"royal_email\" placeholder=\"Email address or phone number\" autofocus=\"1\" aria-label=\"Email address or phone number\"></div><div class=\"_6lux\"><div class=\"_6luy _55r1 _1kbt\" id=\"passContainer\"><input type=\"password\" class=\"inputtext _55r1 _6luy _9npi\" name=\"pass\" id=\"pass\" data-testid=\"royal_pass\" placeholder=\"Password\" aria-label=\"Password\"><div class=\"_9ls7 hidden_elem\" id=\"u_0_b_jk\"><a href=\"#\" role=\"button\"><div class=\"_9lsa\"><div class=\"_9lsb\" id=\"u_0_c_Ia\"></div></div></a></div></div></div></div><input type=\"hidden\" autocomplete=\"off\" name=\"login_source\" value=\"comet_headerless_login\"><input type=\"hidden\" autocomplete=\"off\" name=\"next\" value=\"\"><div class=\"_6ltg\"><button value=\"1\" class=\"_42ft _4jy0 _6lth _4jy6 _4jy1 selected _51sy\" name=\"login\" data-testid=\"royal_login_button\" type=\"submit\" id=\"u_0_d_IZ\">Log In</button></div><div class=\"_6ltj\"><a href=\"https://www.facebook.com/recover/initiate/?privacy_mutation_token=eyJ0eXBlIjowLCJjcmVhdGlvbl90aW1lIjoxNjM5NTY1OTY0LCJjYWxsc2l0ZV9pZCI6MzgxMjI5MDc5NTc1OTQ2fQ%3D%3D&amp;ars=facebook_login\">Forgotten password?</a></div><div class=\"_8icz\"></div><div class=\"_6ltg\"><a role=\"button\" class=\"_42ft _4jy0 _6lti _4jy6 _4jy2 selected _51sy\" href=\"#\" ajaxify=\"/reg/spotlight/\" id=\"u_0_2_uG\" data-testid=\"open-registration-form-button\" rel=\"async\">Create New Account</a></div></form></div><div id=\"reg_pages_msg\" class=\"_58mk\"><a href=\"/pages/create/?ref_type=registration_form\" class=\"_8esh\">Create a Page</a> for a celebrity, brand or business.</div></div></div></div></div></div></div><div class=\"\"><div class=\"_95ke _8opy\"><div id=\"pageFooter\" data-referrer=\"page_footer\" data-testid=\"page_footer\"><ul class=\"uiList localeSelectorList _2pid _509- _4ki _6-h _6-j _6-i\" data-nocookies=\"1\"><li>English (UK)</li><li><a class=\"_sv4\" dir=\"ltr\" href=\"https://hi-in.facebook.com/\" onclick=\"require(&quot;IntlUtils&quot;).setCookieLocale(&quot;hi_IN&quot;, &quot;en_GB&quot;, &quot;https:\\/\\/hi-in.facebook.com\\/&quot;, &quot;www_list_selector&quot;, 0); return false;\" title=\"Hindi\">हिन्दी</a></li><li><a class=\"_sv4\" dir=\"ltr\" href=\"https://mr-in.facebook.com/\" onclick=\"require(&quot;IntlUtils&quot;).setCookieLocale(&quot;mr_IN&quot;, &quot;en_GB&quot;, &quot;https:\\/\\/mr-in.facebook.com\\/&quot;, &quot;www_list_selector&quot;, 1); return false;\" title=\"Marathi\">मराठी</a></li><li><a class=\"_sv4\" dir=\"rtl\" href=\"https://ur-pk.facebook.com/\" onclick=\"require(&quot;IntlUtils&quot;).setCookieLocale(&quot;ur_PK&quot;, &quot;en_GB&quot;, &quot;https:\\/\\/ur-pk.facebook.com\\/&quot;, &quot;www_list_selector&quot;, 2); return false;\" title=\"Urdu\">اردو</a></li><li><a class=\"_sv4\" dir=\"ltr\" href=\"https://pa-in.facebook.com/\" onclick=\"require(&quot;IntlUtils&quot;).setCookieLocale(&quot;pa_IN&quot;, &quot;en_GB&quot;, &quot;https:\\/\\/pa-in.facebook.com\\/&quot;, &quot;www_list_selector&quot;, 3); return false;\" title=\"Punjabi\">ਪੰਜਾਬੀ</a></li><li><a class=\"_sv4\" dir=\"ltr\" href=\"https://bn-in.facebook.com/\" onclick=\"require(&quot;IntlUtils&quot;).setCookieLocale(&quot;bn_IN&quot;, &quot;en_GB&quot;, &quot;https:\\/\\/bn-in.facebook.com\\/&quot;, &quot;www_list_selector&quot;, 4); return false;\" title=\"Bengali\">বাংলা</a></li><li><a class=\"_sv4\" dir=\"ltr\" href=\"https://gu-in.facebook.com/\" onclick=\"require(&quot;IntlUtils&quot;).setCookieLocale(&quot;gu_IN&quot;, &quot;en_GB&quot;, &quot;https:\\/\\/gu-in.facebook.com\\/&quot;, &quot;www_list_selector&quot;, 5); return false;\" title=\"Gujarati\">ગુજરાતી</a></li><li><a class=\"_sv4\" dir=\"ltr\" href=\"https://ta-in.facebook.com/\" onclick=\"require(&quot;IntlUtils&quot;).setCookieLocale(&quot;ta_IN&quot;, &quot;en_GB&quot;, &quot;https:\\/\\/ta-in.facebook.com\\/&quot;, &quot;www_list_selector&quot;, 6); return false;\" title=\"Tamil\">தமிழ்</a></li><li><a class=\"_sv4\" dir=\"ltr\" href=\"https://te-in.facebook.com/\" onclick=\"require(&quot;IntlUtils&quot;).setCookieLocale(&quot;te_IN&quot;, &quot;en_GB&quot;, &quot;https:\\/\\/te-in.facebook.com\\/&quot;, &quot;www_list_selector&quot;, 7); return false;\" title=\"Telugu\">తెలుగు</a></li><li><a class=\"_sv4\" dir=\"ltr\" href=\"https://ml-in.facebook.com/\" onclick=\"require(&quot;IntlUtils&quot;).setCookieLocale(&quot;ml_IN&quot;, &quot;en_GB&quot;, &quot;https:\\/\\/ml-in.facebook.com\\/&quot;, &quot;www_list_selector&quot;, 8); return false;\" title=\"Malayalam\">മലയാളം</a></li><li><a class=\"_sv4\" dir=\"ltr\" href=\"https://kn-in.facebook.com/\" onclick=\"require(&quot;IntlUtils&quot;).setCookieLocale(&quot;kn_IN&quot;, &quot;en_GB&quot;, &quot;https:\\/\\/kn-in.facebook.com\\/&quot;, &quot;www_list_selector&quot;, 9); return false;\" title=\"Kannada\">ಕನ್ನಡ</a></li><li><a role=\"button\" class=\"_42ft _4jy0 _517i _517h _51sy\" rel=\"dialog\" ajaxify=\"/settings/language/language/?uri=https%3A%2F%2Fkn-in.facebook.com%2F&amp;source=www_list_selector_more\" href=\"#\" title=\"Show more languages\"><i class=\"img sp_33c0faKYrni sx_b76458\"></i></a></li></ul><div id=\"contentCurve\"></div><div id=\"pageFooterChildren\" role=\"contentinfo\" aria-label=\"Facebook site links\"><ul class=\"uiList pageFooterLinkList _509- _4ki _703 _6-i\"><li><a href=\"/r.php\" title=\"Sign up for Facebook\">Sign Up</a></li><li><a href=\"/login/\" title=\"Log in to Facebook\">Log In</a></li><li><a href=\"https://messenger.com/\" title=\"Take a look at Messenger.\">Messenger</a></li><li><a href=\"/lite/\" title=\"Facebook Lite for Android.\">Facebook Lite</a></li><li><a href=\"https://www.facebook.com/watch/\" title=\"Browse our Watch videos.\">Watch</a></li><li><a href=\"/places/\" title=\"Take a look at popular places on Facebook.\">Places</a></li><li><a href=\"/games/\" title=\"Check out Facebook games.\">Games</a></li><li><a href=\"/marketplace/\" title=\"Buy and sell on Facebook Marketplace.\">Marketplace</a></li><li><a href=\"https://pay.facebook.com/\" title=\"Learn more about Facebook Pay\" target=\"_blank\">Facebook Pay</a></li><li><a href=\"/jobs/\" title=\"Apply for jobs and hire on Facebook.\">Jobs</a></li><li><a href=\"https://www.oculus.com/\" title=\"Learn more about Oculus\" target=\"_blank\">Oculus</a></li><li><a href=\"https://portal.facebook.com/\" title=\"Learn more about Facebook Portal\" target=\"_blank\">Portal</a></li><li><a href=\"https://l.facebook.com/l.php?u=https%3A%2F%2Fwww.instagram.com%2F&amp;h=AT3Y4HWL5fkUfdptyD_2PEV6woABqezwb8zwbBARBTurq4H9NfJRk81EZ6_4WN7nST1vKRMtU4WM_KcPN6WHuVAiMepLvrU64qqYC2kR6SoYeTkRhKmW5_5aoW6eZbyngyv6nDddzq-qwqfuL29gg2PaSi4RzPmvV-Q7RQ\" title=\"Take a look at Instagram\" target=\"_blank\" rel=\"noopener nofollow\" data-lynx-mode=\"asynclazy\">Instagram</a></li><li><a href=\"https://www.bulletin.com/\" title=\"Take a look at Bulletin newsletter\">Bulletin</a></li><li><a href=\"/local/lists/245019872666104/\" title=\"Browse our Local Lists directory.\">Local</a></li><li><a href=\"/fundraisers/\" title=\"Donate to worthy causes.\">Fundraisers</a></li><li><a href=\"/biz/directory/\" title=\"Browse our Facebook Services directory.\">Services</a></li><li><a href=\"/votinginformationcenter/?entry_point=c2l0ZQ%3D%3D\" title=\"See the Voting Information Centre\">Voting Information Centre</a></li><li><a href=\"/groups/explore/\" title=\"Explore our groups.\">Groups</a></li><li><a href=\"https://about.facebook.com/\" accesskey=\"8\" title=\"Read our blog, discover the resource centre and find job opportunities.\">About</a></li><li><a href=\"/ad_campaign/landing.php?placement=pflo&amp;campaign_id=402047449186&amp;nav_source=unknown&amp;extra_1=auto\" title=\"Advertise on Facebook\">Create ad</a></li><li><a href=\"/pages/create/?ref_type=site_footer\" title=\"Create a Page\">Create Page</a></li><li><a href=\"https://developers.facebook.com/?ref=pf\" title=\"Develop on our platform.\">Developers</a></li><li><a href=\"/careers/?ref=pf\" title=\"Make your next career move to our brilliant company.\">Careers</a></li><li><a data-nocookies=\"1\" href=\"/privacy/explanation\" title=\"Learn about your privacy and Facebook.\">Privacy</a></li><li><a href=\"/policies/cookies/\" title=\"Learn about cookies and Facebook.\" data-nocookies=\"1\">Cookies</a></li><li><a class=\"_41ug\" data-nocookies=\"1\" href=\"https://www.facebook.com/help/568137493302217\" title=\"Learn about AdChoices.\">AdChoices<i class=\"img sp_33c0faKYrni sx_19ab5a\"></i></a></li><li><a data-nocookies=\"1\" href=\"/policies?ref=pf\" accesskey=\"9\" title=\"Review our terms and policies.\">Terms</a></li><li><a href=\"/help/?ref=pf\" accesskey=\"0\" title=\"Visit our Help Centre.\">Help</a></li><li><a accesskey=\"6\" class=\"accessible_elem\" href=\"/settings\" title=\"View and edit your Facebook settings.\">Settings</a></li><li><a accesskey=\"7\" class=\"accessible_elem\" href=\"/allactivity?privacy_source=activity_log_top_menu\" title=\"View your activity log\">Activity log</a></li></ul></div><div class=\"mvl copyright\"><div><span> Meta © 2021</span></div></div></div></div></div></div><div></div><span><img src=\"https://facebook.com/security/hsts-pixel.gif\" width=\"0\" height=\"0\" style=\"display:none\"></span></div><div style=\"display:none\"><div></div></div>\n",
      "<script>requireLazy([\"HasteSupportData\"],function(m){m.handle({\"bxData\":{\"875231\":{\"uri\":\"https:\\/\\/static.xx.fbcdn.net\\/rsrc.php\\/yD\\/r\\/d4ZIVX-5C-b.ico\"}},\"clpData\":{\"1838142\":{\"r\":1,\"s\":1}},\"gkxData\":{\"4166\":{\"result\":false,\"hash\":\"AT7yrb5QuQ92736uzus\"},\"677762\":{\"result\":true,\"hash\":\"AT6e9MvRyXpacwOYUfo\"},\"1167394\":{\"result\":false,\"hash\":\"AT7BpN-tlUPwbIIFBUA\"},\"1908135\":{\"result\":false,\"hash\":\"AT6miGypJl3m2Aq4QKU\"},\"3959\":{\"result\":true,\"hash\":\"AT5An4B4pPVNHiK8fz4\"},\"524\":{\"result\":false,\"hash\":\"AT6SLNReg1ijh3bZ8c8\"},\"819236\":{\"result\":false,\"hash\":\"AT66vW86d2uJ-kXPvG4\"},\"12\":{\"result\":false,\"hash\":\"AT7MdxfOMhMQYcz0XAk\"},\"1646\":{\"result\":false,\"hash\":\"AT4QD7x1GFNYajJZ3To\"},\"729631\":{\"result\":false,\"hash\":\"AT7b0tj8AHWG5lTFv1k\"},\"1281505\":{\"result\":false,\"hash\":\"AT4PHZM9gFoypCjQOcY\"},\"1291023\":{\"result\":false,\"hash\":\"AT519LseIG1nwq3oufc\"},\"1294182\":{\"result\":false,\"hash\":\"AT4vd6mwrtAJouEJZsw\"},\"1399218\":{\"result\":true,\"hash\":\"AT6guCW1eyIkOV1EgbM\"},\"1401060\":{\"result\":true,\"hash\":\"AT5aetN5Gb3reIXVrWI\"},\"1485055\":{\"result\":true,\"hash\":\"AT5lkGxmhfrVKlcn03Y\"},\"1596063\":{\"result\":false,\"hash\":\"AT7JHuDWtaOqRuBUqts\"},\"1597642\":{\"result\":true,\"hash\":\"AT78G4fDXhlnMl7ob7c\"},\"1647260\":{\"result\":false,\"hash\":\"AT4WdkrQSGE5dIsEm30\"},\"1695831\":{\"result\":false,\"hash\":\"AT7RA6TJmDFGF-D6Xe8\"},\"1722014\":{\"result\":false,\"hash\":\"AT6_M5gpc6RLrHjcylw\"},\"1742795\":{\"result\":false,\"hash\":\"AT6dbnY5JZm_bTINijk\"},\"1778302\":{\"result\":false,\"hash\":\"AT65fisZhmc2X92E2Jg\"},\"1840809\":{\"result\":false,\"hash\":\"AT5nYctoTsr7alRiPqI\"},\"1848749\":{\"result\":false,\"hash\":\"AT5GsH9Kb-3W-taZwGU\"},\"1906871\":{\"result\":false,\"hash\":\"AT6dIBiVv9bUDXlmfao\"},\"1985945\":{\"result\":true,\"hash\":\"AT66Oo5lY__5wUTpUAA\"},\"1099893\":{\"result\":false,\"hash\":\"AT5kly2LSZV_DKGRfB8\"}},\"qexData\":{\"14\":{\"r\":null},\"1981829\":{\"r\":null},\"623\":{\"r\":null},\"671\":{\"r\":null},\"706\":{\"r\":null},\"707\":{\"r\":null}}})});requireLazy([\"Bootloader\"],function(m){m.handlePayload({\"consistency\":{\"rev\":1004871081},\"rsrcMap\":{\"7Ppuu3X\":{\"type\":\"js\",\"src\":\"https:\\/\\/static.xx.fbcdn.net\\/rsrc.php\\/v3\\/yQ\\/r\\/Lzp3j65B-Ld.js?_nc_x=Ij3Wp8lg5Kz\"},\"KxFzGxH\":{\"type\":\"js\",\"src\":\"https:\\/\\/static.xx.fbcdn.net\\/rsrc.php\\/v3\\/yp\\/r\\/XpFprvKSai6.js?_nc_x=Ij3Wp8lg5Kz\"},\"ydvAKCn\":{\"type\":\"js\",\"src\":\"https:\\/\\/static.xx.fbcdn.net\\/rsrc.php\\/v3\\/yh\\/r\\/ACBkrPbpony.js?_nc_x=Ij3Wp8lg5Kz\"},\"X86ur0T\":{\"type\":\"js\",\"src\":\"https:\\/\\/static.xx.fbcdn.net\\/rsrc.php\\/v3igbH4\\/y1\\/l\\/en_GB\\/WtbKr-lS0PN.js?_nc_x=Ij3Wp8lg5Kz\"},\"DlEpGQL\":{\"type\":\"js\",\"src\":\"https:\\/\\/static.xx.fbcdn.net\\/rsrc.php\\/v3\\/yh\\/r\\/Z0VHBQ_rMn3.js?_nc_x=Ij3Wp8lg5Kz\"},\"ftfSAIK\":{\"type\":\"js\",\"src\":\"https:\\/\\/static.xx.fbcdn.net\\/rsrc.php\\/v3ij9m4\\/y1\\/l\\/en_GB\\/0rmOvLNFBok.js?_nc_x=Ij3Wp8lg5Kz\"},\"EnmOVJI\":{\"type\":\"js\",\"src\":\"https:\\/\\/static.xx.fbcdn.net\\/rsrc.php\\/v3\\/yx\\/r\\/0B0LYkSyP8r.js?_nc_x=Ij3Wp8lg5Kz\"},\"TUxV68S\":{\"type\":\"js\",\"src\":\"https:\\/\\/static.xx.fbcdn.net\\/rsrc.php\\/v3\\/ys\\/r\\/AEurEMwqHIo.js?_nc_x=Ij3Wp8lg5Kz\"},\"D\\/QNz5R\":{\"type\":\"js\",\"src\":\"https:\\/\\/static.xx.fbcdn.net\\/rsrc.php\\/v3\\/ys\\/r\\/LlBt34FiaHg.js?_nc_x=Ij3Wp8lg5Kz\"},\"5FK8oef\":{\"type\":\"js\",\"src\":\"https:\\/\\/static.xx.fbcdn.net\\/rsrc.php\\/v3\\/yx\\/r\\/2NCbCfjk18z.js?_nc_x=Ij3Wp8lg5Kz\"},\"kaT8xHV\":{\"type\":\"js\",\"src\":\"https:\\/\\/static.xx.fbcdn.net\\/rsrc.php\\/v3\\/yI\\/r\\/8Bwpg8Ng_tA.js?_nc_x=Ij3Wp8lg5Kz\"},\"mqoIwdS\":{\"type\":\"js\",\"src\":\"https:\\/\\/static.xx.fbcdn.net\\/rsrc.php\\/v3\\/yA\\/r\\/ChVWD_2NeJl.js?_nc_x=Ij3Wp8lg5Kz\"},\"w3Wk9lz\":{\"type\":\"js\",\"src\":\"https:\\/\\/static.xx.fbcdn.net\\/rsrc.php\\/v3iX3c4\\/yW\\/l\\/en_GB\\/1K7DqLHIfTz.js?_nc_x=Ij3Wp8lg5Kz\"},\"2\\/maQ\\/Q\":{\"type\":\"js\",\"src\":\"https:\\/\\/static.xx.fbcdn.net\\/rsrc.php\\/v3\\/yk\\/r\\/R9lc5DaDrGJ.js?_nc_x=Ij3Wp8lg5Kz\"},\"N5\\/NESn\":{\"type\":\"js\",\"src\":\"https:\\/\\/static.xx.fbcdn.net\\/rsrc.php\\/v3iSHx4\\/yZ\\/l\\/en_GB\\/mK3ok5IKetS.js?_nc_x=Ij3Wp8lg5Kz\"},\"81EcBFr\":{\"type\":\"css\",\"src\":\"https:\\/\\/static.xx.fbcdn.net\\/rsrc.php\\/v3\\/y7\\/l\\/0,cross\\/nFTNVI0edNx.css?_nc_x=Ij3Wp8lg5Kz\"},\"CGkH4FY\":{\"type\":\"js\",\"src\":\"https:\\/\\/static.xx.fbcdn.net\\/rsrc.php\\/v3\\/yZ\\/r\\/x4Eyp9nQ1uk.js?_nc_x=Ij3Wp8lg5Kz\"},\"FikYrOF\":{\"type\":\"js\",\"src\":\"https:\\/\\/static.xx.fbcdn.net\\/rsrc.php\\/v3iCwx4\\/y_\\/l\\/en_GB\\/I89YSs7dzAT.js?_nc_x=Ij3Wp8lg5Kz\"},\"7nYDu3S\":{\"type\":\"js\",\"src\":\"https:\\/\\/static.xx.fbcdn.net\\/rsrc.php\\/v3\\/yY\\/r\\/wDQnRjvKxkM.js?_nc_x=Ij3Wp8lg5Kz\"},\"On0E5N\\/\":{\"type\":\"js\",\"src\":\"https:\\/\\/static.xx.fbcdn.net\\/rsrc.php\\/v3\\/yt\\/r\\/bpek9EFzHNi.js?_nc_x=Ij3Wp8lg5Kz\"},\"ltr6kwu\":{\"type\":\"js\",\"src\":\"https:\\/\\/static.xx.fbcdn.net\\/rsrc.php\\/v3\\/yg\\/r\\/30MwAtuDo-F.js?_nc_x=Ij3Wp8lg5Kz\"},\"lCiWnqM\":{\"type\":\"js\",\"src\":\"https:\\/\\/static.xx.fbcdn.net\\/rsrc.php\\/v3ihVb4\\/ya\\/l\\/en_GB\\/s8eFlD-BORr.js?_nc_x=Ij3Wp8lg5Kz\"},\"jFE2rmn\":{\"type\":\"js\",\"src\":\"https:\\/\\/static.xx.fbcdn.net\\/rsrc.php\\/v3iFJJ4\\/yF\\/l\\/en_GB\\/2L8OAnNH1FA.js?_nc_x=Ij3Wp8lg5Kz\"},\"+WLO04n\":{\"type\":\"js\",\"src\":\"https:\\/\\/static.xx.fbcdn.net\\/rsrc.php\\/v3\\/yY\\/r\\/He02E3XQ6Aj.js?_nc_x=Ij3Wp8lg5Kz\"},\"5wZB\\/rk\":{\"type\":\"js\",\"src\":\"https:\\/\\/static.xx.fbcdn.net\\/rsrc.php\\/v3ib-B4\\/yn\\/l\\/en_GB\\/IbQWBg-sLyK.js?_nc_x=Ij3Wp8lg5Kz\"},\"eDgCh5r\":{\"type\":\"js\",\"src\":\"https:\\/\\/static.xx.fbcdn.net\\/rsrc.php\\/v3iAuE4\\/yq\\/l\\/en_GB\\/7Nxwz1THGcY.js?_nc_x=Ij3Wp8lg5Kz\"},\"xMcX9Fq\":{\"type\":\"js\",\"src\":\"https:\\/\\/static.xx.fbcdn.net\\/rsrc.php\\/v3i44x4\\/yh\\/l\\/en_GB\\/VUMRGj2tOuq.js?_nc_x=Ij3Wp8lg5Kz\"},\"IHLOHfy\":{\"type\":\"js\",\"src\":\"https:\\/\\/static.xx.fbcdn.net\\/rsrc.php\\/v3\\/yK\\/r\\/x2Q5sjFaYIm.js?_nc_x=Ij3Wp8lg5Kz\"},\"JS1bJqf\":{\"type\":\"js\",\"src\":\"https:\\/\\/static.xx.fbcdn.net\\/rsrc.php\\/v3iWjr4\\/yf\\/l\\/en_GB\\/wPexQFH8voD.js?_nc_x=Ij3Wp8lg5Kz\"},\"8oyYcKr\":{\"type\":\"js\",\"src\":\"https:\\/\\/static.xx.fbcdn.net\\/rsrc.php\\/v3iNig4\\/yn\\/l\\/en_GB\\/FgGKcpF5nHM.js?_nc_x=Ij3Wp8lg5Kz\"},\"kjY1YpM\":{\"type\":\"js\",\"src\":\"https:\\/\\/static.xx.fbcdn.net\\/rsrc.php\\/v3if4E4\\/yv\\/l\\/en_GB\\/cgDiUjTVTnq.js?_nc_x=Ij3Wp8lg5Kz\"},\"CzWOMJ0\":{\"type\":\"js\",\"src\":\"https:\\/\\/static.xx.fbcdn.net\\/rsrc.php\\/v3\\/yJ\\/r\\/4eT7nD9PLpQ.js?_nc_x=Ij3Wp8lg5Kz\"},\"ZhpG\\/kO\":{\"type\":\"js\",\"src\":\"https:\\/\\/static.xx.fbcdn.net\\/rsrc.php\\/v3\\/yO\\/r\\/pWPB2M6WWxy.js?_nc_x=Ij3Wp8lg5Kz\"},\"HPvw0kq\":{\"type\":\"js\",\"src\":\"https:\\/\\/static.xx.fbcdn.net\\/rsrc.php\\/v3iLl54\\/yP\\/l\\/en_GB\\/_hWSQGIjRF0.js?_nc_x=Ij3Wp8lg5Kz\"},\"TZKEwGU\":{\"type\":\"js\",\"src\":\"https:\\/\\/static.xx.fbcdn.net\\/rsrc.php\\/v3\\/y9\\/r\\/LLXlrPb0pBO.js?_nc_x=Ij3Wp8lg5Kz\"},\"v8wXiKv\":{\"type\":\"js\",\"src\":\"https:\\/\\/static.xx.fbcdn.net\\/rsrc.php\\/v3\\/yu\\/r\\/Y-dRSOOyq0W.js?_nc_x=Ij3Wp8lg5Kz\"},\"lI6DrwD\":{\"type\":\"js\",\"src\":\"https:\\/\\/static.xx.fbcdn.net\\/rsrc.php\\/v3iH_P4\\/yY\\/l\\/en_GB\\/kbHIriswFws.js?_nc_x=Ij3Wp8lg5Kz\"},\"iHxpw\\/m\":{\"type\":\"js\",\"src\":\"https:\\/\\/static.xx.fbcdn.net\\/rsrc.php\\/v3\\/y3\\/r\\/2mEmN_eRuAN.js?_nc_x=Ij3Wp8lg5Kz\"},\"QlPt4rb\":{\"type\":\"js\",\"src\":\"https:\\/\\/static.xx.fbcdn.net\\/rsrc.php\\/v3iART4\\/yn\\/l\\/en_GB\\/BQkMrvzr53E.js?_nc_x=Ij3Wp8lg5Kz\"},\"KbgaGxk\":{\"type\":\"js\",\"src\":\"https:\\/\\/static.xx.fbcdn.net\\/rsrc.php\\/v3\\/yw\\/r\\/GUAehc-XiM3.js?_nc_x=Ij3Wp8lg5Kz\"},\"opLOFUy\":{\"type\":\"js\",\"src\":\"https:\\/\\/static.xx.fbcdn.net\\/rsrc.php\\/v3iTQy4\\/yf\\/l\\/en_GB\\/pqmcKZPTYOy.js?_nc_x=Ij3Wp8lg5Kz\"},\"GXjwB1j\":{\"type\":\"css\",\"src\":\"https:\\/\\/static.xx.fbcdn.net\\/rsrc.php\\/v3\\/yA\\/l\\/0,cross\\/gqoEMSMEMzK.css?_nc_x=Ij3Wp8lg5Kz\"},\"luUkCBg\":{\"type\":\"js\",\"src\":\"https:\\/\\/static.xx.fbcdn.net\\/rsrc.php\\/v3\\/yr\\/r\\/dk3Ntn416OR.js?_nc_x=Ij3Wp8lg5Kz\"},\"vZqAmRB\":{\"type\":\"js\",\"src\":\"https:\\/\\/static.xx.fbcdn.net\\/rsrc.php\\/v3\\/yI\\/r\\/MAgNXRBGIDP.js?_nc_x=Ij3Wp8lg5Kz\"},\"popcTSQ\":{\"type\":\"js\",\"src\":\"https:\\/\\/static.xx.fbcdn.net\\/rsrc.php\\/v3\\/y5\\/r\\/H9J1qJ8Jv0M.js?_nc_x=Ij3Wp8lg5Kz\"},\"XDcZG5I\":{\"type\":\"js\",\"src\":\"https:\\/\\/static.xx.fbcdn.net\\/rsrc.php\\/v3ikpZ4\\/yi\\/l\\/en_GB\\/ON8OXRk1HB-.js?_nc_x=Ij3Wp8lg5Kz\"},\"yKwQzfj\":{\"type\":\"css\",\"src\":\"https:\\/\\/static.xx.fbcdn.net\\/rsrc.php\\/v3\\/y4\\/l\\/0,cross\\/80MjSCj0c_X.css?_nc_x=Ij3Wp8lg5Kz\"},\"6C4uc9G\":{\"type\":\"js\",\"src\":\"https:\\/\\/static.xx.fbcdn.net\\/rsrc.php\\/v3iwdk4\\/yU\\/l\\/en_GB\\/K0eDMDIqwll.js?_nc_x=Ij3Wp8lg5Kz\"},\"9Ycu5v\\/\":{\"type\":\"js\",\"src\":\"https:\\/\\/static.xx.fbcdn.net\\/rsrc.php\\/v3i3oG4\\/yK\\/l\\/en_GB\\/S-rgQjSiRUT.js?_nc_x=Ij3Wp8lg5Kz\"},\"ZRFZ2Yg\":{\"type\":\"js\",\"src\":\"https:\\/\\/static.xx.fbcdn.net\\/rsrc.php\\/v3\\/yI\\/r\\/Kengf5Z1rQk.js?_nc_x=Ij3Wp8lg5Kz\"},\"tAU9y45\":{\"type\":\"js\",\"src\":\"https:\\/\\/static.xx.fbcdn.net\\/rsrc.php\\/v3\\/yM\\/r\\/m4jq67ALntw.js?_nc_x=Ij3Wp8lg5Kz\"},\"QiFWxeZ\":{\"type\":\"js\",\"src\":\"https:\\/\\/static.xx.fbcdn.net\\/rsrc.php\\/v3iaO64\\/y7\\/l\\/en_GB\\/uz_fTnGslKw.js?_nc_x=Ij3Wp8lg5Kz\"},\"R0IT23T\":{\"type\":\"js\",\"src\":\"https:\\/\\/static.xx.fbcdn.net\\/rsrc.php\\/v3\\/yg\\/r\\/nCT2GoK2I5d.js?_nc_x=Ij3Wp8lg5Kz\"},\"LAhoxYJ\":{\"type\":\"js\",\"src\":\"https:\\/\\/static.xx.fbcdn.net\\/rsrc.php\\/v3i20w4\\/yE\\/l\\/en_GB\\/nsGUVjZx63j.js?_nc_x=Ij3Wp8lg5Kz\"},\"V59hpir\":{\"type\":\"js\",\"src\":\"https:\\/\\/static.xx.fbcdn.net\\/rsrc.php\\/v3\\/y4\\/r\\/b1HqW2SH9uE.js?_nc_x=Ij3Wp8lg5Kz\"},\"2L+JBfQ\":{\"type\":\"js\",\"src\":\"https:\\/\\/static.xx.fbcdn.net\\/rsrc.php\\/v3\\/y7\\/r\\/TLuZDPuzIaF.js?_nc_x=Ij3Wp8lg5Kz\"},\"fcjwRKc\":{\"type\":\"css\",\"src\":\"https:\\/\\/static.xx.fbcdn.net\\/rsrc.php\\/v3\\/yV\\/l\\/0,cross\\/aiZybJM7h9Y.css?_nc_x=Ij3Wp8lg5Kz\"},\"+zjFlQn\":{\"type\":\"css\",\"src\":\"https:\\/\\/static.xx.fbcdn.net\\/rsrc.php\\/v3\\/yg\\/l\\/0,cross\\/SNV_UHXZ1mV.css?_nc_x=Ij3Wp8lg5Kz\"},\"5C30peu\":{\"type\":\"js\",\"src\":\"https:\\/\\/static.xx.fbcdn.net\\/rsrc.php\\/v3\\/yi\\/r\\/JB0CVIbgIKw.js?_nc_x=Ij3Wp8lg5Kz\"},\"XsUOVHB\":{\"type\":\"js\",\"src\":\"https:\\/\\/static.xx.fbcdn.net\\/rsrc.php\\/v3iAgG4\\/yC\\/l\\/en_GB\\/lG1lqCheDiQ.js?_nc_x=Ij3Wp8lg5Kz\"},\"1yILIbs\":{\"type\":\"css\",\"src\":\"https:\\/\\/static.xx.fbcdn.net\\/rsrc.php\\/v3\\/yO\\/l\\/0,cross\\/cx5WXlX4ofJ.css?_nc_x=Ij3Wp8lg5Kz\"},\"DVmr3om\":{\"type\":\"js\",\"src\":\"https:\\/\\/static.xx.fbcdn.net\\/rsrc.php\\/v3iztO4\\/yQ\\/l\\/en_GB\\/HpRGQAvhPvT.js?_nc_x=Ij3Wp8lg5Kz\"},\"vT8wDPt\":{\"type\":\"js\",\"src\":\"https:\\/\\/static.xx.fbcdn.net\\/rsrc.php\\/v3ipaT4\\/y_\\/l\\/en_GB\\/FcJdeS9tIyn.js?_nc_x=Ij3Wp8lg5Kz\"},\"61rzmJP\":{\"type\":\"css\",\"src\":\"https:\\/\\/static.xx.fbcdn.net\\/rsrc.php\\/v3\\/yy\\/l\\/0,cross\\/K8XUSgurLnl.css?_nc_x=Ij3Wp8lg5Kz\"},\"ttHdcMW\":{\"type\":\"js\",\"src\":\"https:\\/\\/static.xx.fbcdn.net\\/rsrc.php\\/v3\\/yT\\/r\\/M_LnZXm1hOs.js?_nc_x=Ij3Wp8lg5Kz\"},\"smjSNtN\":{\"type\":\"js\",\"src\":\"https:\\/\\/static.xx.fbcdn.net\\/rsrc.php\\/v3i9Zn4\\/yZ\\/l\\/en_GB\\/XktkXmImwX9.js?_nc_x=Ij3Wp8lg5Kz\"},\"I80lbJ4\":{\"type\":\"js\",\"src\":\"https:\\/\\/static.xx.fbcdn.net\\/rsrc.php\\/v3\\/yK\\/r\\/UwPsdXT0bJF.js?_nc_x=Ij3Wp8lg5Kz\"},\"vMMmGCX\":{\"type\":\"js\",\"src\":\"https:\\/\\/static.xx.fbcdn.net\\/rsrc.php\\/v3iApU4\\/ys\\/l\\/en_GB\\/nVnCRWrtjLn.js?_nc_x=Ij3Wp8lg5Kz\"},\"f0L76Fb\":{\"type\":\"css\",\"src\":\"https:\\/\\/static.xx.fbcdn.net\\/rsrc.php\\/v3\\/yB\\/l\\/0,cross\\/wHwXuuknWz3.css?_nc_x=Ij3Wp8lg5Kz\"},\"ztMgarc\":{\"type\":\"js\",\"src\":\"https:\\/\\/static.xx.fbcdn.net\\/rsrc.php\\/v3iYXl4\\/y5\\/l\\/en_GB\\/pUsuhqPHnI3.js?_nc_x=Ij3Wp8lg5Kz\"},\"C\\/P5rF6\":{\"type\":\"js\",\"src\":\"https:\\/\\/static.xx.fbcdn.net\\/rsrc.php\\/v3i8NL4\\/yu\\/l\\/en_GB\\/XiQKppKz_jJ.js?_nc_x=Ij3Wp8lg5Kz\"},\"IKahTlU\":{\"type\":\"js\",\"src\":\"https:\\/\\/static.xx.fbcdn.net\\/rsrc.php\\/v3iO-_4\\/y9\\/l\\/en_GB\\/Db-HfxvuG6_.js?_nc_x=Ij3Wp8lg5Kz\"},\"inBvZEB\":{\"type\":\"css\",\"src\":\"https:\\/\\/static.xx.fbcdn.net\\/rsrc.php\\/v3\\/y-\\/l\\/0,cross\\/r2PH43bt2h8.css?_nc_x=Ij3Wp8lg5Kz\"},\"FFOWpg7\":{\"type\":\"js\",\"src\":\"https:\\/\\/static.xx.fbcdn.net\\/rsrc.php\\/v3itIQ4\\/y2\\/l\\/en_GB\\/RGoTtEOAvjr.js?_nc_x=Ij3Wp8lg5Kz\"},\"WwB\\/J0U\":{\"type\":\"js\",\"src\":\"https:\\/\\/static.xx.fbcdn.net\\/rsrc.php\\/v3iCjd4\\/y6\\/l\\/en_GB\\/X2ArkVfpn6C.js?_nc_x=Ij3Wp8lg5Kz\"},\"fgyNz6H\":{\"type\":\"css\",\"src\":\"https:\\/\\/static.xx.fbcdn.net\\/rsrc.php\\/v3\\/yb\\/l\\/0,cross\\/MrD5U-tVe57.css?_nc_x=Ij3Wp8lg5Kz\"},\"Lv2l\\/rR\":{\"type\":\"css\",\"src\":\"https:\\/\\/static.xx.fbcdn.net\\/rsrc.php\\/v3\\/yM\\/l\\/0,cross\\/Ylj8bvbYgi_.css?_nc_x=Ij3Wp8lg5Kz\"},\"KHIseu8\":{\"type\":\"js\",\"src\":\"https:\\/\\/static.xx.fbcdn.net\\/rsrc.php\\/v3\\/yQ\\/r\\/Ag3BMd5plo6.js?_nc_x=Ij3Wp8lg5Kz\"},\"EZeFG9z\":{\"type\":\"css\",\"src\":\"https:\\/\\/static.xx.fbcdn.net\\/rsrc.php\\/v3\\/ya\\/l\\/0,cross\\/hhwDRJtyODP.css?_nc_x=Ij3Wp8lg5Kz\"},\"9wdWKkJ\":{\"type\":\"js\",\"src\":\"https:\\/\\/static.xx.fbcdn.net\\/rsrc.php\\/v3i9Dw4\\/yt\\/l\\/en_GB\\/bgErOBP04cD.js?_nc_x=Ij3Wp8lg5Kz\"},\"wcBXRJz\":{\"type\":\"css\",\"src\":\"https:\\/\\/static.xx.fbcdn.net\\/rsrc.php\\/v3\\/yj\\/l\\/0,cross\\/s_LHJBxix2r.css?_nc_x=Ij3Wp8lg5Kz\"},\"TuiPcIO\":{\"type\":\"css\",\"src\":\"https:\\/\\/static.xx.fbcdn.net\\/rsrc.php\\/v3\\/yy\\/l\\/0,cross\\/LGDyZunwWO3.css?_nc_x=Ij3Wp8lg5Kz\"},\"ye7v6rk\":{\"type\":\"js\",\"src\":\"https:\\/\\/static.xx.fbcdn.net\\/rsrc.php\\/v3\\/y6\\/r\\/o8vMwkmflUH.js?_nc_x=Ij3Wp8lg5Kz\"},\"v9eY0ns\":{\"type\":\"css\",\"src\":\"https:\\/\\/static.xx.fbcdn.net\\/rsrc.php\\/v3\\/yu\\/l\\/0,cross\\/xg96C3Xo8Qy.css?_nc_x=Ij3Wp8lg5Kz\"},\"npROeLX\":{\"type\":\"css\",\"src\":\"https:\\/\\/static.xx.fbcdn.net\\/rsrc.php\\/v3\\/yJ\\/l\\/0,cross\\/XkyVDkrmIsn.css?_nc_x=Ij3Wp8lg5Kz\"},\"e7oli2o\":{\"type\":\"js\",\"src\":\"https:\\/\\/static.xx.fbcdn.net\\/rsrc.php\\/v3\\/y1\\/r\\/87fET5_xsaN.js?_nc_x=Ij3Wp8lg5Kz\"},\"gcDYlM2\":{\"type\":\"js\",\"src\":\"https:\\/\\/static.xx.fbcdn.net\\/rsrc.php\\/v3\\/ym\\/r\\/HLBoQQWMP5x.js?_nc_x=Ij3Wp8lg5Kz\"},\"hFeShQM\":{\"type\":\"js\",\"src\":\"https:\\/\\/static.xx.fbcdn.net\\/rsrc.php\\/v3iLl54\\/yQ\\/l\\/en_GB\\/QjGL4oWvNiV.js?_nc_x=Ij3Wp8lg5Kz\"},\"LP\\/Y1SY\":{\"type\":\"js\",\"src\":\"https:\\/\\/static.xx.fbcdn.net\\/rsrc.php\\/v3\\/yS\\/r\\/Oayj55MrqrQ.js?_nc_x=Ij3Wp8lg5Kz\"},\"CmZu9Sr\":{\"type\":\"js\",\"src\":\"https:\\/\\/static.xx.fbcdn.net\\/rsrc.php\\/v3\\/y5\\/r\\/Phl-HUfEGSW.js?_nc_x=Ij3Wp8lg5Kz\"},\"8Eh\\/7gd\":{\"type\":\"js\",\"src\":\"https:\\/\\/static.xx.fbcdn.net\\/rsrc.php\\/v3ihp64\\/yS\\/l\\/en_GB\\/KmvYTCVqX05.js?_nc_x=Ij3Wp8lg5Kz\"},\"ulqJr1I\":{\"type\":\"js\",\"src\":\"https:\\/\\/static.xx.fbcdn.net\\/rsrc.php\\/v3iord4\\/yy\\/l\\/en_GB\\/U8xXXTpwtUs.js?_nc_x=Ij3Wp8lg5Kz\"},\"dR3YOg5\":{\"type\":\"css\",\"src\":\"https:\\/\\/static.xx.fbcdn.net\\/rsrc.php\\/v3\\/y4\\/l\\/0,cross\\/TnAaMR33Zon.css?_nc_x=Ij3Wp8lg5Kz\"},\"UpmQA6j\":{\"type\":\"js\",\"src\":\"https:\\/\\/static.xx.fbcdn.net\\/rsrc.php\\/v3\\/y1\\/r\\/tSShxa0HA7B.js?_nc_x=Ij3Wp8lg5Kz\"},\"0CxJQUX\":{\"type\":\"css\",\"src\":\"https:\\/\\/static.xx.fbcdn.net\\/rsrc.php\\/v3\\/yF\\/l\\/0,cross\\/ditVVvt3W5Q.css?_nc_x=Ij3Wp8lg5Kz\"},\"tiCjzsK\":{\"type\":\"css\",\"src\":\"https:\\/\\/static.xx.fbcdn.net\\/rsrc.php\\/v3\\/yv\\/l\\/0,cross\\/RxtMyVRFOil.css?_nc_x=Ij3Wp8lg5Kz\"},\"mm4ez1z\":{\"type\":\"js\",\"src\":\"https:\\/\\/static.xx.fbcdn.net\\/rsrc.php\\/v3iQbs4\\/yu\\/l\\/en_GB\\/0G4c1x6EHIF.js?_nc_x=Ij3Wp8lg5Kz\"},\"JcJMiIF\":{\"type\":\"js\",\"src\":\"https:\\/\\/static.xx.fbcdn.net\\/rsrc.php\\/v3ievZ4\\/yC\\/l\\/en_GB\\/-_JtPq21jPd.js?_nc_x=Ij3Wp8lg5Kz\"},\"Y6ui4pU\":{\"type\":\"css\",\"src\":\"https:\\/\\/static.xx.fbcdn.net\\/rsrc.php\\/v3\\/yF\\/l\\/0,cross\\/jDejBntNOkJ.css?_nc_x=Ij3Wp8lg5Kz\"},\"PogKv1z\":{\"type\":\"js\",\"src\":\"https:\\/\\/static.xx.fbcdn.net\\/rsrc.php\\/v3\\/yU\\/r\\/IB7Ce3Vxnr4.js?_nc_x=Ij3Wp8lg5Kz\"},\"eJ73JV2\":{\"type\":\"js\",\"src\":\"https:\\/\\/static.xx.fbcdn.net\\/rsrc.php\\/v3iwxD4\\/yX\\/l\\/en_GB\\/_tfRg2P-1zQ.js?_nc_x=Ij3Wp8lg5Kz\"},\"SXGv0CX\":{\"type\":\"js\",\"src\":\"https:\\/\\/static.xx.fbcdn.net\\/rsrc.php\\/v3ifOV4\\/yC\\/l\\/en_GB\\/ULBNzznlnPg.js?_nc_x=Ij3Wp8lg5Kz\"},\"hMGDL9a\":{\"type\":\"js\",\"src\":\"https:\\/\\/static.xx.fbcdn.net\\/rsrc.php\\/v3\\/y6\\/r\\/6MIjJE9l6bz.js?_nc_x=Ij3Wp8lg5Kz\"},\"NaRov2Z\":{\"type\":\"js\",\"src\":\"https:\\/\\/static.xx.fbcdn.net\\/rsrc.php\\/v3i7xv4\\/yH\\/l\\/en_GB\\/iecet726DmQ.js?_nc_x=Ij3Wp8lg5Kz\"},\"CasmBFl\":{\"type\":\"js\",\"src\":\"https:\\/\\/static.xx.fbcdn.net\\/rsrc.php\\/v3i4EL4\\/y2\\/l\\/en_GB\\/5i8bUE9kYmb.js?_nc_x=Ij3Wp8lg5Kz\"},\"MShROPU\":{\"type\":\"js\",\"src\":\"https:\\/\\/static.xx.fbcdn.net\\/rsrc.php\\/v3\\/yR\\/r\\/6zWfLYER1_0.js?_nc_x=Ij3Wp8lg5Kz\"},\"IkLbNmY\":{\"type\":\"js\",\"src\":\"https:\\/\\/static.xx.fbcdn.net\\/rsrc.php\\/v3i1MJ4\\/yp\\/l\\/en_GB\\/7BAG8XpnL0O.js?_nc_x=Ij3Wp8lg5Kz\"},\"N1IG6uo\":{\"type\":\"js\",\"src\":\"https:\\/\\/static.xx.fbcdn.net\\/rsrc.php\\/v3ifTj4\\/yV\\/l\\/en_GB\\/GZlriwh0mle.js?_nc_x=Ij3Wp8lg5Kz\"},\"AjSkuDi\":{\"type\":\"js\",\"src\":\"https:\\/\\/static.xx.fbcdn.net\\/rsrc.php\\/v3\\/yt\\/r\\/5BD9QBwoqoU.js?_nc_x=Ij3Wp8lg5Kz\"},\"g8Z5jXX\":{\"type\":\"js\",\"src\":\"https:\\/\\/static.xx.fbcdn.net\\/rsrc.php\\/v3\\/ys\\/r\\/3cqBODiIMG1.js?_nc_x=Ij3Wp8lg5Kz\"},\"ro3RvnG\":{\"type\":\"js\",\"src\":\"https:\\/\\/static.xx.fbcdn.net\\/rsrc.php\\/v3iLKP4\\/yv\\/l\\/en_GB\\/KienydbI6mu.js?_nc_x=Ij3Wp8lg5Kz\"},\"\\/q8T5Dn\":{\"type\":\"js\",\"src\":\"https:\\/\\/static.xx.fbcdn.net\\/rsrc.php\\/v3iI0L4\\/yb\\/l\\/en_GB\\/BZ9BEkoLDX5.js?_nc_x=Ij3Wp8lg5Kz\"},\"XPmkS1d\":{\"type\":\"js\",\"src\":\"https:\\/\\/static.xx.fbcdn.net\\/rsrc.php\\/v3\\/yL\\/r\\/p5NgRw8GRGr.js?_nc_x=Ij3Wp8lg5Kz\"},\"0Sa+Uei\":{\"type\":\"js\",\"src\":\"https:\\/\\/static.xx.fbcdn.net\\/rsrc.php\\/v3\\/yx\\/r\\/xzbpnnVg-2l.js?_nc_x=Ij3Wp8lg5Kz\"},\"qE9x\\/sV\":{\"type\":\"js\",\"src\":\"https:\\/\\/static.xx.fbcdn.net\\/rsrc.php\\/v3\\/yr\\/r\\/shM4XC7KeSQ.js?_nc_x=Ij3Wp8lg5Kz\"},\"GAIoftA\":{\"type\":\"js\",\"src\":\"https:\\/\\/static.xx.fbcdn.net\\/rsrc.php\\/v3iz8e4\\/yc\\/l\\/en_GB\\/nUUlKEUhkbx.js?_nc_x=Ij3Wp8lg5Kz\"},\"MyV8CUN\":{\"type\":\"css\",\"src\":\"https:\\/\\/static.xx.fbcdn.net\\/rsrc.php\\/v3\\/yM\\/l\\/0,cross\\/OPEurAx9sw1.css?_nc_x=Ij3Wp8lg5Kz\"},\"gWMJgTe\":{\"type\":\"js\",\"src\":\"https:\\/\\/static.xx.fbcdn.net\\/rsrc.php\\/v3\\/yH\\/r\\/iGksp69foR_.js?_nc_x=Ij3Wp8lg5Kz\"},\"hIek+bG\":{\"type\":\"js\",\"src\":\"https:\\/\\/static.xx.fbcdn.net\\/rsrc.php\\/v3\\/yY\\/r\\/DZ_VBlsy-dC.js?_nc_x=Ij3Wp8lg5Kz\"},\"Gj8v9L4\":{\"type\":\"js\",\"src\":\"https:\\/\\/static.xx.fbcdn.net\\/rsrc.php\\/v3\\/yW\\/r\\/ah4jcC-CgjO.js?_nc_x=Ij3Wp8lg5Kz\"},\"r63zdLY\":{\"type\":\"js\",\"src\":\"https:\\/\\/static.xx.fbcdn.net\\/rsrc.php\\/v3iTfb4\\/yM\\/l\\/en_GB\\/tD1FrUF0Qii.js?_nc_x=Ij3Wp8lg5Kz\"},\"n7Wb58V\":{\"type\":\"css\",\"src\":\"https:\\/\\/static.xx.fbcdn.net\\/rsrc.php\\/v3\\/yB\\/l\\/0,cross\\/KqdQLuDvsma.css?_nc_x=Ij3Wp8lg5Kz\"},\"8ELCBwH\":{\"type\":\"js\",\"src\":\"https:\\/\\/static.xx.fbcdn.net\\/rsrc.php\\/v3\\/ye\\/r\\/VRzSVH5iU-V.js?_nc_x=Ij3Wp8lg5Kz\"},\"y78uRpD\":{\"type\":\"js\",\"src\":\"https:\\/\\/static.xx.fbcdn.net\\/rsrc.php\\/v3iIGi4\\/y-\\/l\\/en_GB\\/u3KACGs6Xp1.js?_nc_x=Ij3Wp8lg5Kz\"},\"+ClWygH\":{\"type\":\"js\",\"src\":\"https:\\/\\/static.xx.fbcdn.net\\/rsrc.php\\/v3\\/yU\\/r\\/UJOxW2IHm1a.js?_nc_x=Ij3Wp8lg5Kz\"},\"oE4DofT\":{\"type\":\"js\",\"src\":\"https:\\/\\/static.xx.fbcdn.net\\/rsrc.php\\/v3\\/yJ\\/r\\/EejAgnHUad4.js?_nc_x=Ij3Wp8lg5Kz\"},\"VvVFw8n\":{\"type\":\"js\",\"src\":\"https:\\/\\/static.xx.fbcdn.net\\/rsrc.php\\/v3\\/yn\\/r\\/AWepvf-vdZG.js?_nc_x=Ij3Wp8lg5Kz\"},\"P\\/mr5VE\":{\"type\":\"css\",\"src\":\"data:text\\/css; charset=utf-8,\\u002523bootloader_P_mr5VE{height:42px;}.bootloader_P_mr5VE{display:block!important;}\",\"nc\":1,\"d\":1}},\"compMap\":{\"ODS\":{\"r\":[\"7Ppuu3X\",\"KxFzGxH\"],\"be\":1},\"Dock\":{\"r\":[\"T+M\\/J5P\",\"7Ppuu3X\",\"ydvAKCn\",\"X86ur0T\",\"DlEpGQL\",\"KxFzGxH\",\"IY+hOi5\",\"ftfSAIK\",\"EnmOVJI\"],\"be\":1},\"WebSpeedInteractionsTypedLogger\":{\"r\":[\"7Ppuu3X\",\"TUxV68S\",\"D\\/QNz5R\"],\"rds\":{\"m\":[\"BanzaiScuba_DEPRECATED\"]},\"be\":1},\"AsyncRequest\":{\"r\":[\"7Ppuu3X\",\"ydvAKCn\",\"KxFzGxH\",\"ftfSAIK\",\"IY+hOi5\"],\"rds\":{\"m\":[\"FbtLogging\",\"IntlQtEventFalcoEvent\"],\"r\":[\"X86ur0T\"]},\"be\":1},\"DOM\":{\"r\":[\"KxFzGxH\",\"IY+hOi5\"],\"be\":1},\"Form\":{\"r\":[\"5FK8oef\",\"KxFzGxH\",\"IY+hOi5\"],\"be\":1},\"FormSubmit\":{\"r\":[\"7Ppuu3X\",\"5FK8oef\",\"ydvAKCn\",\"kaT8xHV\",\"KxFzGxH\",\"ftfSAIK\",\"IY+hOi5\"],\"rds\":{\"m\":[\"FbtLogging\",\"IntlQtEventFalcoEvent\",\"BanzaiScuba_DEPRECATED\"],\"r\":[\"X86ur0T\"]},\"be\":1},\"Input\":{\"r\":[\"5FK8oef\"],\"be\":1},\"Live\":{\"r\":[\"7Ppuu3X\",\"mqoIwdS\",\"KxFzGxH\",\"ftfSAIK\",\"w3Wk9lz\",\"2\\/maQ\\/Q\",\"IY+hOi5\"],\"be\":1},\"Toggler\":{\"r\":[\"T+M\\/J5P\",\"7Ppuu3X\",\"ydvAKCn\",\"X86ur0T\",\"DlEpGQL\",\"KxFzGxH\",\"IY+hOi5\",\"ftfSAIK\",\"EnmOVJI\"],\"be\":1},\"Tooltip\":{\"r\":[\"7Ppuu3X\",\"N5\\/NESn\",\"81EcBFr\",\"ydvAKCn\",\"DcLQ9Pg\",\"CGkH4FY\",\"X86ur0T\",\"DlEpGQL\",\"FikYrOF\",\"KxFzGxH\",\"IY+hOi5\",\"ftfSAIK\",\"EnmOVJI\",\"7nYDu3S\",\"On0E5N\\/\",\"5FK8oef\",\"ltr6kwu\",\"D\\/QNz5R\"],\"rds\":{\"m\":[\"FbtLogging\",\"IntlQtEventFalcoEvent\",\"PageTransitions\",\"BanzaiScuba_DEPRECATED\",\"Animation\"]},\"be\":1},\"URI\":{\"r\":[],\"be\":1},\"trackReferrer\":{\"r\":[],\"rds\":{\"m\":[\"BanzaiScuba_DEPRECATED\"],\"r\":[\"7Ppuu3X\"]},\"be\":1},\"PhotoTagApproval\":{\"r\":[\"lCiWnqM\",\"KxFzGxH\",\"jFE2rmn\",\"IY+hOi5\"],\"be\":1},\"PhotoSnowlift\":{\"r\":[\"+WLO04n\",\"5wZB\\/rk\",\"T+M\\/J5P\",\"eDgCh5r\",\"7Ppuu3X\",\"xMcX9Fq\",\"5FK8oef\",\"IHLOHfy\",\"JS1bJqf\",\"8oyYcKr\",\"kjY1YpM\",\"CzWOMJ0\",\"ZhpG\\/kO\",\"HPvw0kq\",\"TZKEwGU\",\"N5\\/NESn\",\"v8wXiKv\",\"lI6DrwD\",\"81EcBFr\",\"ydvAKCn\",\"DcLQ9Pg\",\"iHxpw\\/m\",\"QlPt4rb\",\"CGkH4FY\",\"KbgaGxk\",\"X86ur0T\",\"opLOFUy\",\"GXjwB1j\",\"luUkCBg\",\"DlEpGQL\",\"vZqAmRB\",\"popcTSQ\",\"T4Gvcer\",\"lCiWnqM\",\"mqoIwdS\",\"XDcZG5I\",\"yKwQzfj\",\"6C4uc9G\",\"9Ycu5v\\/\",\"ZRFZ2Yg\",\"tAU9y45\",\"QiFWxeZ\",\"R0IT23T\",\"LAhoxYJ\",\"V59hpir\",\"kTi6Sha\",\"FikYrOF\",\"2L+JBfQ\",\"fcjwRKc\",\"KxFzGxH\",\"+zjFlQn\",\"5C30peu\",\"XsUOVHB\",\"1yILIbs\",\"ltr6kwu\",\"IY+hOi5\",\"DVmr3om\",\"vT8wDPt\",\"ftfSAIK\",\"61rzmJP\",\"EnmOVJI\",\"7nYDu3S\",\"ttHdcMW\",\"smjSNtN\",\"I80lbJ4\",\"vMMmGCX\",\"f0L76Fb\",\"On0E5N\\/\",\"D\\/QNz5R\"],\"rds\":{\"m\":[\"Animation\",\"VisualCompletionGating\",\"FbtLogging\",\"IntlQtEventFalcoEvent\",\"BanzaiScuba_DEPRECATED\",\"PageTransitions\"],\"r\":[\"ztMgarc\"]},\"be\":1},\"PhotoTagger\":{\"r\":[\"C\\/P5rF6\",\"5wZB\\/rk\",\"T+M\\/J5P\",\"7Ppuu3X\",\"xMcX9Fq\",\"IKahTlU\",\"5FK8oef\",\"JS1bJqf\",\"inBvZEB\",\"FFOWpg7\",\"8oyYcKr\",\"WwB\\/J0U\",\"kjY1YpM\",\"CzWOMJ0\",\"fgyNz6H\",\"Lv2l\\/rR\",\"HPvw0kq\",\"KHIseu8\",\"EZeFG9z\",\"N5\\/NESn\",\"v8wXiKv\",\"9wdWKkJ\",\"lI6DrwD\",\"wcBXRJz\",\"TuiPcIO\",\"ye7v6rk\",\"ydvAKCn\",\"DcLQ9Pg\",\"iHxpw\\/m\",\"v9eY0ns\",\"QlPt4rb\",\"CGkH4FY\",\"KbgaGxk\",\"X86ur0T\",\"opLOFUy\",\"GXjwB1j\",\"luUkCBg\",\"npROeLX\",\"DlEpGQL\",\"e7oli2o\",\"gcDYlM2\",\"popcTSQ\",\"hFeShQM\",\"LP\\/Y1SY\",\"CmZu9Sr\",\"8Eh\\/7gd\",\"T4Gvcer\",\"lCiWnqM\",\"mqoIwdS\",\"XDcZG5I\",\"yKwQzfj\",\"6C4uc9G\",\"ulqJr1I\",\"dR3YOg5\",\"UpmQA6j\",\"ZRFZ2Yg\",\"tAU9y45\",\"QiFWxeZ\",\"R0IT23T\",\"V59hpir\",\"kTi6Sha\",\"FikYrOF\",\"2L+JBfQ\",\"0CxJQUX\",\"KxFzGxH\",\"tiCjzsK\",\"5C30peu\",\"mm4ez1z\",\"XsUOVHB\",\"1yILIbs\",\"ltr6kwu\",\"JcJMiIF\",\"IY+hOi5\",\"vT8wDPt\",\"ftfSAIK\",\"Y6ui4pU\",\"61rzmJP\",\"EnmOVJI\",\"w3Wk9lz\",\"7nYDu3S\",\"ttHdcMW\",\"PogKv1z\",\"smjSNtN\",\"jFE2rmn\",\"eJ73JV2\",\"SXGv0CX\",\"I80lbJ4\",\"vMMmGCX\",\"f0L76Fb\",\"hMGDL9a\",\"On0E5N\\/\",\"NaRov2Z\",\"LAhoxYJ\",\"CasmBFl\",\"MShROPU\",\"D\\/QNz5R\"],\"rdfds\":{\"m\":[\"GamesVideoModerationRulesNux.react\",\"GamesVideoDeleteCommentDialog.react\",\"GamesVideoCommentRemovedDialog.react\",\"CometTooltipDeferredImpl.react\"],\"r\":[\"IkLbNmY\",\"N1IG6uo\",\"fcjwRKc\",\"AjSkuDi\",\"g8Z5jXX\",\"ro3RvnG\",\"\\/q8T5Dn\",\"XPmkS1d\",\"0Sa+Uei\",\"qE9x\\/sV\"]},\"rds\":{\"m\":[\"PresenceStatus\",\"FbtLogging\",\"IntlQtEventFalcoEvent\",\"BanzaiScuba_DEPRECATED\",\"Animation\",\"PageTransitions\",\"LynxAsyncCallbackFalcoEvent\",\"CometSuspenseFalcoEvent\"]},\"be\":1},\"PhotoTags\":{\"r\":[\"lCiWnqM\",\"KxFzGxH\",\"EnmOVJI\",\"jFE2rmn\",\"IY+hOi5\"],\"be\":1},\"TagTokenizer\":{\"r\":[\"7Ppuu3X\",\"5FK8oef\",\"fgyNz6H\",\"N5\\/NESn\",\"ydvAKCn\",\"GAIoftA\",\"luUkCBg\",\"T4Gvcer\",\"LAhoxYJ\",\"MyV8CUN\",\"KxFzGxH\",\"IY+hOi5\",\"EnmOVJI\",\"jFE2rmn\"],\"rds\":{\"m\":[\"FbtLogging\",\"IntlQtEventFalcoEvent\"],\"r\":[\"X86ur0T\"]},\"be\":1},\"AsyncDialog\":{\"r\":[\"T+M\\/J5P\",\"7Ppuu3X\",\"5FK8oef\",\"HPvw0kq\",\"ydvAKCn\",\"QlPt4rb\",\"X86ur0T\",\"DlEpGQL\",\"T4Gvcer\",\"tAU9y45\",\"KxFzGxH\",\"1yILIbs\",\"ltr6kwu\",\"IY+hOi5\",\"ftfSAIK\",\"61rzmJP\",\"EnmOVJI\",\"7nYDu3S\",\"I80lbJ4\",\"On0E5N\\/\",\"D\\/QNz5R\"],\"rds\":{\"m\":[\"FbtLogging\",\"IntlQtEventFalcoEvent\"]},\"be\":1},\"Hovercard\":{\"r\":[\"T+M\\/J5P\",\"7Ppuu3X\",\"5FK8oef\",\"Lv2l\\/rR\",\"N5\\/NESn\",\"ydvAKCn\",\"DcLQ9Pg\",\"QlPt4rb\",\"CGkH4FY\",\"X86ur0T\",\"DlEpGQL\",\"hFeShQM\",\"XDcZG5I\",\"kTi6Sha\",\"FikYrOF\",\"0CxJQUX\",\"KxFzGxH\",\"IY+hOi5\",\"ftfSAIK\",\"EnmOVJI\",\"7nYDu3S\",\"On0E5N\\/\",\"ltr6kwu\",\"D\\/QNz5R\"],\"rds\":{\"m\":[\"FbtLogging\",\"IntlQtEventFalcoEvent\",\"BanzaiScuba_DEPRECATED\",\"PageTransitions\",\"Animation\"]},\"be\":1},\"XSalesPromoWWWDetailsDialogAsyncController\":{\"r\":[\"gWMJgTe\"],\"be\":1},\"XOfferController\":{\"r\":[\"hIek+bG\"],\"be\":1},\"PerfXSharedFields\":{\"r\":[\"ydvAKCn\",\"KxFzGxH\"],\"be\":1},\"KeyEventTypedLogger\":{\"r\":[\"7Ppuu3X\",\"Gj8v9L4\",\"D\\/QNz5R\"],\"rds\":{\"m\":[\"BanzaiScuba_DEPRECATED\"]},\"be\":1},\"Dialog\":{\"r\":[\"T+M\\/J5P\",\"7Ppuu3X\",\"5FK8oef\",\"ydvAKCn\",\"X86ur0T\",\"opLOFUy\",\"GXjwB1j\",\"DlEpGQL\",\"KxFzGxH\",\"IY+hOi5\",\"ftfSAIK\",\"EnmOVJI\",\"FikYrOF\",\"ltr6kwu\",\"7nYDu3S\",\"D\\/QNz5R\"],\"rds\":{\"m\":[\"FbtLogging\",\"IntlQtEventFalcoEvent\",\"Animation\",\"PageTransitions\",\"BanzaiScuba_DEPRECATED\"]},\"be\":1},\"ExceptionDialog\":{\"r\":[\"T+M\\/J5P\",\"7Ppuu3X\",\"5FK8oef\",\"kjY1YpM\",\"HPvw0kq\",\"r63zdLY\",\"ydvAKCn\",\"QlPt4rb\",\"n7Wb58V\",\"X86ur0T\",\"luUkCBg\",\"DlEpGQL\",\"tAU9y45\",\"QiFWxeZ\",\"kTi6Sha\",\"FikYrOF\",\"2L+JBfQ\",\"KxFzGxH\",\"1yILIbs\",\"IY+hOi5\",\"ftfSAIK\",\"61rzmJP\",\"EnmOVJI\",\"7nYDu3S\",\"SXGv0CX\",\"I80lbJ4\",\"On0E5N\\/\",\"D\\/QNz5R\"],\"rds\":{\"m\":[\"FbtLogging\",\"IntlQtEventFalcoEvent\"]},\"be\":1},\"QuickSandSolver\":{\"r\":[\"7Ppuu3X\",\"5FK8oef\",\"CzWOMJ0\",\"ydvAKCn\",\"8ELCBwH\",\"KxFzGxH\",\"y78uRpD\",\"+ClWygH\",\"ftfSAIK\",\"IY+hOi5\"],\"rds\":{\"m\":[\"FbtLogging\",\"IntlQtEventFalcoEvent\"],\"r\":[\"X86ur0T\"]},\"be\":1},\"ConfirmationDialog\":{\"r\":[\"oE4DofT\",\"5FK8oef\",\"KxFzGxH\",\"EnmOVJI\",\"IY+hOi5\"],\"be\":1},\"QPLInspector\":{\"r\":[\"VvVFw8n\"],\"be\":1},\"ReactDOM\":{\"r\":[\"ltr6kwu\",\"7nYDu3S\",\"On0E5N\\/\",\"D\\/QNz5R\",\"KxFzGxH\",\"IY+hOi5\"],\"be\":1},\"ContextualLayerInlineTabOrder\":{\"r\":[\"ydvAKCn\",\"X86ur0T\",\"hFeShQM\",\"R0IT23T\",\"KxFzGxH\",\"IY+hOi5\",\"EnmOVJI\"],\"be\":1},\"XUIDialogButton.react\":{\"r\":[\"T+M\\/J5P\",\"7Ppuu3X\",\"kjY1YpM\",\"HPvw0kq\",\"ydvAKCn\",\"DlEpGQL\",\"tAU9y45\",\"QiFWxeZ\",\"kTi6Sha\",\"KxFzGxH\",\"1yILIbs\",\"ftfSAIK\",\"EnmOVJI\",\"7nYDu3S\",\"I80lbJ4\",\"IY+hOi5\",\"On0E5N\\/\",\"D\\/QNz5R\"],\"rds\":{\"m\":[\"FbtLogging\",\"IntlQtEventFalcoEvent\"],\"r\":[\"X86ur0T\"]},\"be\":1},\"XUIDialogBody.react\":{\"r\":[\"T+M\\/J5P\",\"DlEpGQL\",\"QiFWxeZ\",\"2L+JBfQ\",\"KxFzGxH\",\"IY+hOi5\",\"EnmOVJI\",\"7nYDu3S\",\"7Ppuu3X\",\"On0E5N\\/\",\"D\\/QNz5R\"],\"be\":1},\"XUIDialogFooter.react\":{\"r\":[\"T+M\\/J5P\",\"QlPt4rb\",\"n7Wb58V\",\"DlEpGQL\",\"QiFWxeZ\",\"2L+JBfQ\",\"KxFzGxH\",\"IY+hOi5\",\"61rzmJP\",\"EnmOVJI\",\"7nYDu3S\",\"7Ppuu3X\",\"On0E5N\\/\",\"D\\/QNz5R\"],\"be\":1},\"XUIDialogTitle.react\":{\"r\":[\"T+M\\/J5P\",\"7Ppuu3X\",\"HPvw0kq\",\"ydvAKCn\",\"QlPt4rb\",\"DlEpGQL\",\"KxFzGxH\",\"ftfSAIK\",\"61rzmJP\",\"EnmOVJI\",\"7nYDu3S\",\"I80lbJ4\",\"IY+hOi5\",\"On0E5N\\/\",\"D\\/QNz5R\"],\"rds\":{\"m\":[\"FbtLogging\",\"IntlQtEventFalcoEvent\"],\"r\":[\"X86ur0T\"]},\"be\":1},\"XUIGrayText.react\":{\"r\":[\"DlEpGQL\",\"2L+JBfQ\",\"KxFzGxH\",\"IY+hOi5\",\"EnmOVJI\",\"7nYDu3S\",\"SXGv0CX\",\"7Ppuu3X\",\"On0E5N\\/\",\"D\\/QNz5R\"],\"be\":1},\"DialogX\":{\"r\":[\"T+M\\/J5P\",\"7Ppuu3X\",\"5FK8oef\",\"ydvAKCn\",\"QlPt4rb\",\"X86ur0T\",\"DlEpGQL\",\"KxFzGxH\",\"IY+hOi5\",\"ftfSAIK\",\"EnmOVJI\"],\"rds\":{\"m\":[\"FbtLogging\",\"IntlQtEventFalcoEvent\"]},\"be\":1},\"React\":{\"r\":[\"7nYDu3S\",\"D\\/QNz5R\"],\"be\":1}}})});</script>\n",
      "<script>requireLazy([\"InitialJSLoader\"], function(InitialJSLoader) {InitialJSLoader.loadOnDOMContentReady([\"ztMgarc\",\"ftfSAIK\",\"X86ur0T\",\"R0IT23T\",\"FikYrOF\",\"7Ppuu3X\",\"ydvAKCn\",\"DlEpGQL\",\"KxFzGxH\",\"EnmOVJI\",\"7nYDu3S\",\"ltr6kwu\",\"5FK8oef\",\"CGkH4FY\",\"D\\/QNz5R\",\"On0E5N\\/\",\"P\\/mr5VE\"]);});</script>\n",
      "<script>requireLazy([\"TimeSliceImpl\",\"ServerJS\"],function(TimeSlice,ServerJS){var s=(new ServerJS());s.handle({\"define\":[[\"LinkshimHandlerConfig\",[],{\"supports_meta_referrer\":true,\"default_meta_referrer_policy\":\"origin-when-crossorigin\",\"switched_meta_referrer_policy\":\"origin\",\"non_linkshim_lnfb_mode\":null,\"link_react_default_hash\":\"AT2C76BIcv5rMOs5zEYUBMvuzVoUGuKGrOs2aZav4sXOmVvhayOlwLNxyz4JaHSUE6s_UPkeAk9klE0cdIVkGGO_rCrOdXwUNMWKxx4GMOH4TcXOPK9gtMSQFJjuNfDQfmTucnaikCzuKqKSz_tif3xRM2oscwahPCDKGw\",\"untrusted_link_default_hash\":\"AT26tVQ3k4QBzJzw15CtrK-pOhGU9kMr0MVnmL3juWxm1hyIC-VkzrqSSECIYDcwbl-CF-NwGR8Tz9joCEuxqTTVWQ7oi6MmUuIZcwBToeQyQBeqduhZ01bHZxwH-CJRys-3JVWQq3tGN4U2VDG7IYS47oLj0wQqQPvWtQ\",\"linkshim_host\":\"l.facebook.com\",\"linkshim_path\":\"\\/l.php\",\"linkshim_enc_param\":\"h\",\"linkshim_url_param\":\"u\",\"use_rel_no_opener\":true,\"always_use_https\":true,\"onion_always_shim\":true,\"middle_click_requires_event\":true,\"www_safe_js_mode\":\"asynclazy\",\"m_safe_js_mode\":\"MLynx_asynclazy\",\"ghl_param_link_shim\":false,\"click_ids\":[],\"is_linkshim_supported\":true,\"current_domain\":\"facebook.com\",\"blocklisted_domains\":[\"ad.doubleclick.net\",\"ads-encryption-url-example.com\",\"bs.serving-sys.com\",\"ad.atdmt.com\",\"adform.net\",\"ad13.adfarm1.adition.com\",\"ilovemyfreedoms.com\",\"secure.adnxs.com\"],\"is_mobile_device\":false},27]],\"instances\":[[\"__inst_5b4d0c00_0_0_Ja\",[\"Menu\",\"XUIMenuWithSquareCorner\",\"XUIMenuTheme\"],[[],{\"id\":\"u_0_0_fJ\",\"behaviors\":[{\"__m\":\"XUIMenuWithSquareCorner\"}],\"theme\":{\"__m\":\"XUIMenuTheme\"}}],2],[\"__inst_5b4d0c00_0_1_ej\",[\"Menu\",\"MenuItem\",\"__markup_3310c079_0_0_GG\",\"HTML\",\"__markup_3310c079_0_1_vY\",\"__markup_3310c079_0_2_SA\",\"__markup_3310c079_0_3_0B\",\"XUIMenuWithSquareCorner\",\"XUIMenuTheme\"],[[{\"value\":\"key_shortcuts\",\"ctor\":{\"__m\":\"MenuItem\"},\"markup\":{\"__m\":\"__markup_3310c079_0_0_GG\"},\"label\":\"Keyboard shortcut help...\",\"title\":\"\",\"className\":null},{\"href\":\"\\/help\\/accessibility\",\"target\":\"_blank\",\"value\":\"help_center\",\"ctor\":{\"__m\":\"MenuItem\"},\"markup\":{\"__m\":\"__markup_3310c079_0_1_vY\"},\"label\":\"Accessibility Help Centre\",\"title\":\"\",\"className\":null},{\"href\":\"\\/help\\/contact\\/accessibility\",\"target\":\"_blank\",\"value\":\"submit_feedback\",\"ctor\":{\"__m\":\"MenuItem\"},\"markup\":{\"__m\":\"__markup_3310c079_0_2_SA\"},\"label\":\"Submit feedback\",\"title\":\"\",\"className\":null},{\"href\":\"\\/accessibility\",\"target\":\"_blank\",\"value\":\"facebook_page\",\"ctor\":{\"__m\":\"MenuItem\"},\"markup\":{\"__m\":\"__markup_3310c079_0_3_0B\"},\"label\":\"Updates from Facebook Accessibility\",\"title\":\"\",\"className\":null}],{\"id\":\"u_0_1_Nq\",\"behaviors\":[{\"__m\":\"XUIMenuWithSquareCorner\"}],\"theme\":{\"__m\":\"XUIMenuTheme\"}}],2],[\"__inst_e5ad243d_0_0_TL\",[\"PopoverMenu\",\"__inst_1de146dc_0_1_YA\",\"__elem_ec77afbd_0_1_3\\/\",\"__inst_5b4d0c00_0_1_ej\"],[{\"__m\":\"__inst_1de146dc_0_1_YA\"},{\"__m\":\"__elem_ec77afbd_0_1_3\\/\"},{\"__m\":\"__inst_5b4d0c00_0_1_ej\"},[]],2],[\"__inst_e5ad243d_0_1_mU\",[\"PopoverMenu\",\"__inst_1de146dc_0_0_6g\",\"__elem_ec77afbd_0_0_8f\",\"__inst_5b4d0c00_0_0_Ja\"],[{\"__m\":\"__inst_1de146dc_0_0_6g\"},{\"__m\":\"__elem_ec77afbd_0_0_8f\"},{\"__m\":\"__inst_5b4d0c00_0_0_Ja\"},[]],2],[\"__inst_1de146dc_0_0_6g\",[\"Popover\",\"__elem_1de146dc_0_0_GB\",\"__elem_ec77afbd_0_0_8f\",\"ContextualLayerAutoFlip\",\"ContextualDialogArrow\"],[{\"__m\":\"__elem_1de146dc_0_0_GB\"},{\"__m\":\"__elem_ec77afbd_0_0_8f\"},[{\"__m\":\"ContextualLayerAutoFlip\"},{\"__m\":\"ContextualDialogArrow\"}],{\"alignh\":\"left\",\"position\":\"below\"}],2],[\"__inst_1de146dc_0_1_YA\",[\"Popover\",\"__elem_1de146dc_0_1_jm\",\"__elem_ec77afbd_0_1_3\\/\",\"ContextualLayerAutoFlip\",\"ContextualDialogArrow\"],[{\"__m\":\"__elem_1de146dc_0_1_jm\"},{\"__m\":\"__elem_ec77afbd_0_1_3\\/\"},[{\"__m\":\"ContextualLayerAutoFlip\"},{\"__m\":\"ContextualDialogArrow\"}],{\"alignh\":\"right\",\"position\":\"below\"}],2]],\"markup\":[[\"__markup_3310c079_0_0_GG\",{\"__html\":\"Keyboard shortcut help...\"},1],[\"__markup_3310c079_0_1_vY\",{\"__html\":\"Accessibility Help Centre\"},1],[\"__markup_3310c079_0_2_SA\",{\"__html\":\"Submit feedback\"},1],[\"__markup_3310c079_0_3_0B\",{\"__html\":\"Updates from Facebook Accessibility\"},1]],\"elements\":[[\"__elem_a588f507_0_1_+s\",\"u_0_3_4g\",1],[\"__elem_3fc3da18_0_0_6l\",\"u_0_4_tc\",1],[\"__elem_51be6cb7_0_0_lj\",\"u_0_5_MN\",1],[\"__elem_1de146dc_0_0_GB\",\"u_0_6_jd\",1],[\"__elem_ec77afbd_0_0_8f\",\"u_0_7_1C\",2],[\"__elem_1de146dc_0_1_jm\",\"u_0_8_6\\/\",1],[\"__elem_ec77afbd_0_1_3\\/\",\"u_0_9_Uv\",2],[\"__elem_a588f507_0_0_Pt\",\"globalContainer\",2],[\"__elem_a588f507_0_2_rP\",\"content\",1],[\"__elem_835c633a_0_0_r8\",\"u_0_a_a4\",1],[\"__elem_9f5fac15_0_0_JY\",\"passContainer\",1],[\"__elem_558608f3_0_0_u1\",\"pass\",1],[\"__elem_a588f507_0_3_Q9\",\"u_0_b_jk\",1],[\"__elem_a588f507_0_4_1l\",\"u_0_c_Ia\",1],[\"__elem_45d73b5d_0_0_S+\",\"u_0_d_IZ\",1]],\"require\":[[\"ServiceWorkerLoginAndLogout\",\"login\",[],[]],[\"WebPixelRatioDetector\",\"startDetecting\",[],[false]],[\"ScriptPath\",\"set\",[],[\"XIndexReduxController\",\"a1f3c513\",{\"imp_id\":\"1qBZMnzDPpWPmTcZN\",\"ef_page\":null,\"uri\":\"https:\\/\\/www.facebook.com\\/\"}]],[\"UITinyViewportAction\",\"init\",[],[]],[\"ResetScrollOnUnload\",\"init\",[\"__elem_a588f507_0_0_Pt\"],[{\"__m\":\"__elem_a588f507_0_0_Pt\"}]],[\"AccessibilityWebVirtualCursorClickLogger\",\"init\",[\"__elem_a588f507_0_0_Pt\"],[[{\"__m\":\"__elem_a588f507_0_0_Pt\"}]]],[\"KeyboardActivityLogger\",\"init\",[],[]],[\"FocusRing\",\"init\",[],[]],[\"ErrorMessageConsole\",\"listenForUncaughtErrors\",[],[]],[\"HardwareCSS\",\"init\",[],[]],[\"NavigationAssistantController\",\"init\",[\"__elem_3fc3da18_0_0_6l\",\"__elem_51be6cb7_0_0_lj\",\"__inst_5b4d0c00_0_0_Ja\",\"__inst_5b4d0c00_0_1_ej\",\"__inst_e5ad243d_0_0_TL\",\"__inst_e5ad243d_0_1_mU\"],[{\"__m\":\"__elem_3fc3da18_0_0_6l\"},{\"__m\":\"__elem_51be6cb7_0_0_lj\"},{\"__m\":\"__inst_5b4d0c00_0_0_Ja\"},{\"__m\":\"__inst_5b4d0c00_0_1_ej\"},null,{\"accessibilityPopoverMenu\":{\"__m\":\"__inst_e5ad243d_0_0_TL\"},\"globalPopoverMenu\":null,\"sectionsPopoverMenu\":{\"__m\":\"__inst_e5ad243d_0_1_mU\"}}]],[\"__inst_e5ad243d_0_1_mU\"],[\"__inst_1de146dc_0_0_6g\"],[\"__inst_e5ad243d_0_0_TL\"],[\"__inst_1de146dc_0_1_YA\"],[\"LoginFormController\",\"init\",[\"__elem_835c633a_0_0_r8\",\"__elem_45d73b5d_0_0_S+\"],[{\"__m\":\"__elem_835c633a_0_0_r8\"},{\"__m\":\"__elem_45d73b5d_0_0_S+\"},null,true,{\"pubKey\":{\"publicKey\":\"c83286916f599169de0cd2d3da94762627f0a2464e447b4b275fbf685ecc1e62\",\"keyId\":251}}]],[\"BrowserPrefillLogging\",\"initContactpointFieldLogging\",[],[{\"contactpointFieldID\":\"email\",\"serverPrefill\":\"\"}]],[\"BrowserPrefillLogging\",\"initPasswordFieldLogging\",[],[{\"passwordFieldID\":\"pass\"}]],[\"LoginFormToggle\",\"initToggle\",[\"__elem_a588f507_0_3_Q9\",\"__elem_a588f507_0_4_1l\",\"__elem_558608f3_0_0_u1\",\"__elem_9f5fac15_0_0_JY\"],[{\"__m\":\"__elem_a588f507_0_3_Q9\"},{\"__m\":\"__elem_a588f507_0_4_1l\"},{\"__m\":\"__elem_558608f3_0_0_u1\"},{\"__m\":\"__elem_9f5fac15_0_0_JY\"}]],[\"FocusListener\"],[\"FlipDirectionOnKeypress\"],[\"IntlUtils\"],[\"FBLynx\",\"setupDelegation\",[],[]],[\"Animation\"],[\"PageTransitions\"],[\"RequireDeferredReference\",\"unblock\",[],[[\"BanzaiScuba_DEPRECATED\",\"Animation\",\"FbtLogging\",\"IntlQtEventFalcoEvent\",\"PageTransitions\"],\"sd\"]],[\"RequireDeferredReference\",\"unblock\",[],[[\"BanzaiScuba_DEPRECATED\",\"Animation\",\"FbtLogging\",\"IntlQtEventFalcoEvent\",\"PageTransitions\"],\"css\"]],[\"TimeSliceImpl\"],[\"HasteSupportData\"],[\"ServerJS\"],[\"Run\"],[\"InitialJSLoader\"]],\"contexts\":[[{\"__m\":\"__elem_a588f507_0_1_+s\"},true],[{\"__m\":\"__elem_a588f507_0_2_rP\"},true]]});requireLazy([\"Run\"],function(Run){Run.onAfterLoad(function(){s.cleanup(TimeSlice)})});});</script>\n",
      "<script>now_inl=(function(){var p=window.performance;return p&&p.now&&p.timing&&p.timing.navigationStart?function(){return p.now()+p.timing.navigationStart}:function(){return new Date().getTime()};})();window.__bigPipeFR=now_inl();</script>\n",
      "<link rel=\"preload\" href=\"https://static.xx.fbcdn.net/rsrc.php/v3/y-/l/0,cross/BNdSVw6cAaf.css?_nc_x=Ij3Wp8lg5Kz\" as=\"style\" crossorigin=\"anonymous\">\n",
      "<link rel=\"preload\" href=\"https://static.xx.fbcdn.net/rsrc.php/v3/yH/l/0,cross/7ctM7qB2Qqx.css?_nc_x=Ij3Wp8lg5Kz\" as=\"style\" crossorigin=\"anonymous\">\n",
      "<link rel=\"preload\" href=\"https://static.xx.fbcdn.net/rsrc.php/v3/yu/l/0,cross/B5rwBOec2l8.css?_nc_x=Ij3Wp8lg5Kz\" as=\"style\" crossorigin=\"anonymous\">\n",
      "<link rel=\"preload\" href=\"https://static.xx.fbcdn.net/rsrc.php/v3/yy/l/0,cross/KmFtD00nMq3.css?_nc_x=Ij3Wp8lg5Kz\" as=\"style\" crossorigin=\"anonymous\">\n",
      "<link rel=\"preload\" href=\"https://static.xx.fbcdn.net/rsrc.php/v3/yv/l/0,cross/PR5f5cH44oq.css?_nc_x=Ij3Wp8lg5Kz\" as=\"style\" crossorigin=\"anonymous\">\n",
      "<link rel=\"preload\" href=\"https://static.xx.fbcdn.net/rsrc.php/v3/y3/l/0,cross/fbWj5dcnmIq.css?_nc_x=Ij3Wp8lg5Kz\" as=\"style\" crossorigin=\"anonymous\">\n",
      "<link rel=\"preload\" href=\"https://static.xx.fbcdn.net/rsrc.php/v3/yQ/r/Lzp3j65B-Ld.js?_nc_x=Ij3Wp8lg5Kz\" as=\"script\" crossorigin=\"anonymous\" nonce=\"\">\n",
      "<link rel=\"preload\" href=\"https://static.xx.fbcdn.net/rsrc.php/v3/yh/r/ACBkrPbpony.js?_nc_x=Ij3Wp8lg5Kz\" as=\"script\" crossorigin=\"anonymous\" nonce=\"\">\n",
      "<link rel=\"preload\" href=\"https://static.xx.fbcdn.net/rsrc.php/v3/yp/r/XpFprvKSai6.js?_nc_x=Ij3Wp8lg5Kz\" as=\"script\" crossorigin=\"anonymous\" nonce=\"\">\n",
      "<link rel=\"preload\" href=\"https://static.xx.fbcdn.net/rsrc.php/v3ij9m4/y1/l/en_GB/0rmOvLNFBok.js?_nc_x=Ij3Wp8lg5Kz\" as=\"script\" crossorigin=\"anonymous\" nonce=\"\">\n",
      "<script>window.__bigPipeCtor=now_inl();requireLazy([\"BigPipe\"],function(BigPipe){define(\"__bigPipe\",[],window.bigPipe=new BigPipe({\"forceFinish\":true,\"config\":{\"flush_pagelets_asap\":true,\"dispatch_pagelet_replayable_actions\":false}}));});</script>\n",
      "<script nonce=\"\">(function(){var n=now_inl();requireLazy([\"__bigPipe\"],function(bigPipe){bigPipe.beforePageletArrive(\"first_response\",n);})})();</script>\n",
      "<script nonce=\"\">requireLazy([\"__bigPipe\"],(function(bigPipe){bigPipe.onPageletArrive({displayResources:[\"Ouygn02\",\"kTi6Sha\",\"IY+hOi5\",\"T4Gvcer\",\"DcLQ9Pg\",\"T+M/J5P\",\"7Ppuu3X\",\"ydvAKCn\",\"KxFzGxH\",\"ftfSAIK\",\"P/mr5VE\"],id:\"first_response\",phase:0,last_in_phase:true,tti_phase:0,all_phases:[63],hsrp:{hblp:{consistency:{rev:1004871081}}},allResources:[\"ztMgarc\",\"ftfSAIK\",\"X86ur0T\",\"R0IT23T\",\"FikYrOF\",\"7Ppuu3X\",\"ydvAKCn\",\"DlEpGQL\",\"KxFzGxH\",\"EnmOVJI\",\"7nYDu3S\",\"Ouygn02\",\"kTi6Sha\",\"IY+hOi5\",\"T4Gvcer\",\"DcLQ9Pg\",\"T+M/J5P\",\"ltr6kwu\",\"5FK8oef\",\"P/mr5VE\",\"CGkH4FY\",\"D/QNz5R\",\"On0E5N/\"]});}));</script>\n",
      "<script>requireLazy([\"__bigPipe\"],function(bigPipe){bigPipe.setPageID(\"7041882195059319931-0\")});CavalryLogger.setPageID(\"7041882195059319931-0\");</script><script nonce=\"\">(function(){var n=now_inl();requireLazy([\"__bigPipe\"],function(bigPipe){bigPipe.beforePageletArrive(\"last_response\",n);})})();</script>\n",
      "<script nonce=\"\">requireLazy([\"__bigPipe\"],(function(bigPipe){bigPipe.onPageletArrive({displayResources:[\"7Ppuu3X\"],id:\"last_response\",phase:63,last_in_phase:true,the_end:true,jsmods:{define:[[\"TimeSliceInteractionSV\",[],{on_demand_reference_counting:true,on_demand_profiling_counters:true,default_rate:1000,lite_default_rate:100,interaction_to_lite_coinflip:{ADS_INTERFACES_INTERACTION:0,ads_perf_scenario:0,ads_wait_time:0,Event:1},interaction_to_coinflip:{ADS_INTERFACES_INTERACTION:1,ads_perf_scenario:1,ads_wait_time:1,Event:100},enable_heartbeat:true,maxBlockMergeDuration:0,maxBlockMergeDistance:0,enable_banzai_stream:true,user_timing_coinflip:50,banzai_stream_coinflip:0,compression_enabled:true,ref_counting_fix:false,ref_counting_cont_fix:false,also_record_new_timeslice_format:false,force_async_request_tracing_on:false},2609],[\"WebDriverConfig\",[],{isTestRunning:false,isJestE2ETestRun:false,auxiliaryServiceInfo:{},testPath:null,originHost:null},5332],[\"cr:1642797\",[\"BanzaiBase\"],{__rc:[\"BanzaiBase\",\"Aa2tRUvq24Ew2Eo1WSdeNmASh_KES-EI44Dl4F4NzVzKhUm8hmDkU8cDP-fH7KkSsYWsD4UAEVT2NjiVr4QgRCCsBJ8\"]},-1],[\"cr:1458113\",[],{__rc:[null,\"Aa0Fw3TJNH6Ye9KR7r03i1v1U0hwY4pNyfzEKcMo591OkV1lrtwY60QRqai7yhTthk0bipWlkyLcwHwKsshLvzaXvdlNkZw\"]},-1],[\"cr:1039\",[],{__rc:[null,\"Aa1H-N87dT_wqDji-DHwAQTYsMLf8Vk-JrO0HHhhemnXSNHJGqiEKiwpxBQfjb0DG4-OSLXPSrc\"]},-1],[\"cr:1041\",[],{__rc:[null,\"Aa1H-N87dT_wqDji-DHwAQTYsMLf8Vk-JrO0HHhhemnXSNHJGqiEKiwpxBQfjb0DG4-OSLXPSrc\"]},-1],[\"cr:1048\",[],{__rc:[null,\"Aa1H-N87dT_wqDji-DHwAQTYsMLf8Vk-JrO0HHhhemnXSNHJGqiEKiwpxBQfjb0DG4-OSLXPSrc\"]},-1],[\"cr:917439\",[\"PageTransitionsBlue\"],{__rc:[\"PageTransitionsBlue\",\"Aa2tRUvq24Ew2Eo1WSdeNmASh_KES-EI44Dl4F4NzVzKhUm8hmDkU8cDP-fH7KkSsYWsD4UAEVT2NjiVr4QgRCCsBJ8\"]},-1],[\"cr:1108857\",[],{__rc:[null,\"Aa0diSiVsXuu1tEMBnmfOCLERdkSj3nOEwTC3XYprN3LEjMSHmrCysYgpAQ3eYrSgANozkGDJjQNC3F2Cg\"]},-1],[\"cr:1294158\",[\"React.classic\"],{__rc:[\"React.classic\",\"Aa14btwEacbYA0lHdp2tGKNNFX19Xl7f7rpK7aYppSAhK7iZRvMX7rJIhbmcVcWa6o1bNnUjH2-coVHabMmPTI9bBgR4\"]},-1],[\"cr:1294246\",[\"ReactDOM.classic\"],{__rc:[\"ReactDOM.classic\",\"Aa14btwEacbYA0lHdp2tGKNNFX19Xl7f7rpK7aYppSAhK7iZRvMX7rJIhbmcVcWa6o1bNnUjH2-coVHabMmPTI9bBgR4\"]},-1],[\"cr:1069930\",[],{__rc:[null,\"Aa2tRUvq24Ew2Eo1WSdeNmASh_KES-EI44Dl4F4NzVzKhUm8hmDkU8cDP-fH7KkSsYWsD4UAEVT2NjiVr4QgRCCsBJ8\"]},-1],[\"cr:1083116\",[\"XAsyncRequest\"],{__rc:[\"XAsyncRequest\",\"Aa2tRUvq24Ew2Eo1WSdeNmASh_KES-EI44Dl4F4NzVzKhUm8hmDkU8cDP-fH7KkSsYWsD4UAEVT2NjiVr4QgRCCsBJ8\"]},-1],[\"cr:1083117\",[],{__rc:[null,\"Aa2tRUvq24Ew2Eo1WSdeNmASh_KES-EI44Dl4F4NzVzKhUm8hmDkU8cDP-fH7KkSsYWsD4UAEVT2NjiVr4QgRCCsBJ8\"]},-1],[\"cr:11202\",[],{__rc:[null,\"Aa0diSiVsXuu1tEMBnmfOCLERdkSj3nOEwTC3XYprN3LEjMSHmrCysYgpAQ3eYrSgANozkGDJjQNC3F2Cg\"]},-1],[\"cr:888908\",[\"warningBlue\"],{__rc:[\"warningBlue\",\"Aa2tRUvq24Ew2Eo1WSdeNmASh_KES-EI44Dl4F4NzVzKhUm8hmDkU8cDP-fH7KkSsYWsD4UAEVT2NjiVr4QgRCCsBJ8\"]},-1],[\"cr:971473\",[\"LayerHideOnTransition\"],{__rc:[\"LayerHideOnTransition\",\"Aa2tRUvq24Ew2Eo1WSdeNmASh_KES-EI44Dl4F4NzVzKhUm8hmDkU8cDP-fH7KkSsYWsD4UAEVT2NjiVr4QgRCCsBJ8\"]},-1],[\"cr:1105154\",[],{__rc:[null,\"Aa0diSiVsXuu1tEMBnmfOCLERdkSj3nOEwTC3XYprN3LEjMSHmrCysYgpAQ3eYrSgANozkGDJjQNC3F2Cg\"]},-1],[\"BanzaiConfig\",[],{MAX_SIZE:10000,MAX_WAIT:150000,MIN_WAIT:null,RESTORE_WAIT:150000,blacklist:[\"time_spent\"],disabled:false,gks:{boosted_pagelikes:true,mercury_send_error_logging:true,platform_oauth_client_events:true,visibility_tracking:true,graphexplorer:true,sticker_search_ranking:true},known_routes:[\"artillery_javascript_actions\",\"artillery_javascript_trace\",\"artillery_logger_data\",\"logger\",\"falco\",\"gk2_exposure\",\"js_error_logging\",\"loom_trace\",\"marauder\",\"perfx_custom_logger_endpoint\",\"qex\",\"require_cond_exposure_logging\",\"sri_logger_data\"],should_drop_unknown_routes:true,should_log_unknown_routes:false},7],[\"PageTransitionsConfig\",[],{reloadOnBootloadError:true},1067],[\"CoreWarningGK\",[],{forceWarning:false},725],[\"cr:692209\",[\"cancelIdleCallbackBlue\"],{__rc:[\"cancelIdleCallbackBlue\",\"Aa2tRUvq24Ew2Eo1WSdeNmASh_KES-EI44Dl4F4NzVzKhUm8hmDkU8cDP-fH7KkSsYWsD4UAEVT2NjiVr4QgRCCsBJ8\"]},-1],[\"cr:1292365\",[\"React-prod.classic\"],{__rc:[\"React-prod.classic\",\"Aa0diSiVsXuu1tEMBnmfOCLERdkSj3nOEwTC3XYprN3LEjMSHmrCysYgpAQ3eYrSgANozkGDJjQNC3F2Cg\"]},-1],[\"cr:1344485\",[\"ReactDOM.classic.prod-or-profiling\"],{__rc:[\"ReactDOM.classic.prod-or-profiling\",\"Aa0diSiVsXuu1tEMBnmfOCLERdkSj3nOEwTC3XYprN3LEjMSHmrCysYgpAQ3eYrSgANozkGDJjQNC3F2Cg\"]},-1],[\"cr:983844\",[],{__rc:[null,\"Aa0diSiVsXuu1tEMBnmfOCLERdkSj3nOEwTC3XYprN3LEjMSHmrCysYgpAQ3eYrSgANozkGDJjQNC3F2Cg\"]},-1],[\"cr:1344486\",[\"ReactDOM.classic.prod\"],{__rc:[\"ReactDOM.classic.prod\",\"Aa3aN92VLZee3ncH38MK9Rq9o7jITk4sNV7ncnlpZk4AzQmmRUbX9QpT7Qu9CfoqtbjL82CELl-uDxVFlCEjc0zIJml2EOInvw\"]},-1],[\"cr:1344487\",[\"ReactDOM-prod.classic\"],{__rc:[\"ReactDOM-prod.classic\",\"Aa0i6vSkG67xoHxdOZFMq1ouNiFA-dmq1sfCAaBDb_243HOoWyukpn8tjegf9CNf29rL0vNjEPRslwaVxdFTTFFOY8n2YDuKUCHEho7n\"]},-1],[\"cr:1353359\",[\"EventListenerImplForBlue\"],{__rc:[\"EventListenerImplForBlue\",\"Aa1BWHqrKWKB6wERSeufY4zl6xFwJWFgNfKZcWKtIgaKxU1azEEq804Zgztxx3ViZUFG2qTw_IPeSHJ1bMYJlZJE9r1J-QEANw\"]},-1],[\"KillabyteProfilerConfig\",[],{htmlProfilerModule:null,profilerModule:null,depTypes:{BL:\"bl\",NON_BL:\"non-bl\"}},1145],[\"QuicklingConfig\",[],{version:\"1004871081;0;\",sessionLength:30,inactivePageRegex:\"^/(fr/u\\\\.php|ads/|advertising|ac\\\\.php|ae\\\\.php|a\\\\.php|ajax/emu/(end|f|h)\\\\.php|badges/|comments\\\\.php|connect/uiserver\\\\.php|editalbum\\\\.php.+add=1|ext/|feeds/|help([/?]|$)|identity_switch\\\\.php|isconnectivityahumanright/|intern/|login\\\\.php|logout\\\\.php|sitetour/homepage_tour\\\\.php|sorry\\\\.php|syndication\\\\.php|webmessenger|/plugins/subscribe|lookback|brandpermissions|gameday|pxlcld|comet|worldcup/map|livemap|work/reseller|([^/]+/)?dialog|legal|.+\\\\.pdf$|.+/settings/)\",badRequestKeys:[\"nonce\",\"access_token\",\"oauth_token\",\"xs\",\"checkpoint_data\",\"code\"],logRefreshOverhead:false},60],[\"WebDevicePerfInfoData\",[],{needsFullUpdate:true,needsPartialUpdate:false,shouldLogResourcePerf:false},3977],[\"WebStorageMonsterLoggingURI\",[],{uri:\"/ajax/webstorage/process_keys/?state=1\"},3032],[\"TrackingConfig\",[],{domain:\"https://pixel.facebook.com\"},325],[\"BrowserPaymentHandlerConfig\",[],{enabled:false},3904],[\"TimeSpentConfig\",[],{\"0_delay\":0,\"0_timeout\":8,delay:1000,timeout:64},142],[\"cr:1351741\",[\"CometEventListener\"],{__rc:[\"CometEventListener\",\"Aa06JbKm7fRSU_Jx2Sy7p2E5QAKnYNVwZYB_iAi0c01RPhcdoenXVMbnjfscGksGDCUJ6L01LlbFLeWTJ_MA-pz55CxEpq4EhLpA2jBUQn_B5sr3mSA2\"]},-1],[\"cr:1634616\",[\"UserActivityBlue\"],{__rc:[\"UserActivityBlue\",\"Aa2tRUvq24Ew2Eo1WSdeNmASh_KES-EI44Dl4F4NzVzKhUm8hmDkU8cDP-fH7KkSsYWsD4UAEVT2NjiVr4QgRCCsBJ8\"]},-1],[\"cr:844180\",[\"TimeSpentImmediateActiveSecondsLoggerBlue\"],{__rc:[\"TimeSpentImmediateActiveSecondsLoggerBlue\",\"Aa2tRUvq24Ew2Eo1WSdeNmASh_KES-EI44Dl4F4NzVzKhUm8hmDkU8cDP-fH7KkSsYWsD4UAEVT2NjiVr4QgRCCsBJ8\"]},-1],[\"cr:1187159\",[\"BlueCompatBroker\"],{__rc:[\"BlueCompatBroker\",\"Aa2tRUvq24Ew2Eo1WSdeNmASh_KES-EI44Dl4F4NzVzKhUm8hmDkU8cDP-fH7KkSsYWsD4UAEVT2NjiVr4QgRCCsBJ8\"]},-1],[\"ImmediateActiveSecondsConfig\",[],{sampling_rate:0},423]],require:[[\"BDClientSignalCollectionTrigger\",\"startSignalCollection\",[],[{sc:\"{\\\"t\\\":1637128278,\\\"c\\\":[[30000,838801],[30001,838801],[30002,838801],[30003,838801],[30004,838801],[30005,838801],[30006,573585],[30007,838801],[30008,838801],[30012,838801],[30013,838801],[30015,806033],[30018,806033],[30040,806033],[30093,806033],[30094,806033],[30095,806033],[30101,541591],[30102,541591],[30103,541591],[30104,541591],[30106,806039],[30107,806039],[38000,541427],[38001,806643]]}\",fds:60,fda:60,i:60,sbs:1,dbs:100,bbs:100,hbi:60,rt:262144,hbcbc:2,hbvbc:0,hbbi:30,sid:-1,hbv:\"2419394257314609904\"}]],[\"CavalryLoggerImpl\",\"startInstrumentation\",[],[]],[\"NavigationMetrics\",\"setPage\",[],[{page:\"XIndexReduxController\",page_type:\"normal\",page_uri:\"https://www.facebook.com/\",serverLID:\"7041882195059319931-0\"}]],[\"FalcoLoggerTransports\",\"attach\",[],[]],[\"Chromedome\",\"start\",[],[{}]],[\"DimensionTracking\"],[\"NavigationClickPointHandler\"],[\"ServiceWorkerURLCleaner\",\"removeRedirectID\",[],[]],[\"WebDevicePerfInfoLogging\",\"doLog\",[],[]],[\"WebStorageMonster\",\"schedule\",[],[]],[\"CookieCore\",\"setWithoutChecksIfFirstPartyContext\",[],[\"_js_datr\",\"jMq5YYXLj8xrI_7LvavwuS40\",63072000000,\"/\",true]],[\"ClickRefLogger\"],[\"DetectBrokenProxyCache\",\"run\",[],[0,\"c_user\"]],[\"Artillery\",\"disable\",[],[]],[\"ScriptPathLogger\",\"startLogging\",[],[]],[\"TimeSpentBitArrayLogger\",\"init\",[],[]],[\"RequireDeferredReference\",\"unblock\",[],[[\"VisualCompletionGating\"],\"sd\"]],[\"RequireDeferredReference\",\"unblock\",[],[[\"VisualCompletionGating\"],\"css\"]]]},hsrp:{hsdp:{clpData:{\"1743095\":{r:1,s:1},\"1871697\":{r:1,s:1},\"1829319\":{r:1},\"1829320\":{r:1},\"1843988\":{r:1}},gkxData:{\"1652843\":{result:false,hash:\"AT6uh9NWRY4QEQoYaEo\"}},qexData:{\"715\":{r:null}}},hblp:{consistency:{rev:1004871081},rsrcMap:{CBQ4zUl:{type:\"js\",src:\"https://static.xx.fbcdn.net/rsrc.php/v3/yt/r/CyNJRkmXvyt.js?_nc_x=Ij3Wp8lg5Kz\"},FEt5GzN:{type:\"js\",src:\"https://static.xx.fbcdn.net/rsrc.php/v3/yv/r/cN-N4Eu_deZ.js?_nc_x=Ij3Wp8lg5Kz\"}},compMap:{TransportSelectingClientSingleton:{r:[\"5wZB/rk\",\"7Ppuu3X\",\"CzWOMJ0\"],rds:{m:[\"ContextualConfig\",\"BladeRunnerClient\",\"DGWRequestStreamClient\",\"MqttLongPollingRunner\",\"BanzaiScuba_DEPRECATED\"],r:[\"5C30peu\",\"smjSNtN\",\"vMMmGCX\",\"ydvAKCn\",\"mqoIwdS\",\"KxFzGxH\",\"ftfSAIK\",\"7nYDu3S\",\"D/QNz5R\"]},be:1},RequestStreamCommonRequestStreamCommonTypes:{r:[\"5wZB/rk\"],be:1}}}},allResources:[\"7Ppuu3X\",\"CBQ4zUl\",\"ydvAKCn\",\"KxFzGxH\",\"5C30peu\",\"FEt5GzN\",\"ftfSAIK\",\"w3Wk9lz\",\"X86ur0T\",\"ztMgarc\",\"EnmOVJI\"],onload:[\"CavalryLogger.getInstance(\\\"7041882195059319931-0\\\").setTTIEvent(\\\"t_domcontent\\\");\"],onafterload:[\"CavalryLogger.getInstance(\\\"7041882195059319931-0\\\").collectBrowserTiming(window)\",\"window.CavalryLogger&&CavalryLogger.getInstance().setTimeStamp(\\\"t_paint\\\");\",\"if (window.ExitTime){CavalryLogger.getInstance(\\\"7041882195059319931-0\\\").setValue(\\\"t_exit\\\", window.ExitTime);};\"]});}));</script></body></html>\n"
     ]
    }
   ],
   "source": [
    "page_source = driver.page_source             # html page source\n",
    "print(page_source)   "
   ]
  },
  {
   "cell_type": "markdown",
   "id": "82b293c9",
   "metadata": {},
   "source": [
    "g. driver.quit()                 # WebDriver session will  be closed properly and the files will not be cleared off memory."
   ]
  },
  {
   "cell_type": "code",
   "execution_count": 36,
   "id": "a1f5dcbe",
   "metadata": {},
   "outputs": [],
   "source": [
    "driver.quit()                    # for closing WebDriver session "
   ]
  },
  {
   "cell_type": "markdown",
   "id": "cbda23ae",
   "metadata": {},
   "source": [
    "# Commands for operation on elements\n",
    "###### a.  click()                             # for clicking on link, button, etc\n"
   ]
  },
  {
   "cell_type": "code",
   "execution_count": 42,
   "id": "db12c809",
   "metadata": {},
   "outputs": [
    {
     "name": "stderr",
     "output_type": "stream",
     "text": [
      "<ipython-input-42-c8b02727ab8f>:1: DeprecationWarning: find_element_by_* commands are deprecated. Please use find_element() instead\n",
      "  for_click = driver.find_element_by_xpath(\"//button[@name='websubmit']\")\n"
     ]
    }
   ],
   "source": [
    "for_click = driver.find_element_by_xpath(\"//button[@name='websubmit']\")\n",
    "for_click.click()"
   ]
  },
  {
   "cell_type": "markdown",
   "id": "660708cf",
   "metadata": {},
   "source": [
    "###### b.   get_attribute()       # To get the attribut of the web element\n",
    "\n",
    "                         "
   ]
  },
  {
   "cell_type": "code",
   "execution_count": 48,
   "id": "b224f3f3",
   "metadata": {},
   "outputs": [
    {
     "name": "stdout",
     "output_type": "stream",
     "text": [
      "https://www.facebook.com/recover/initiate/?privacy_mutation_token=eyJ0eXBlIjowLCJjcmVhdGlvbl90aW1lIjoxNjM5NTY4OTc4LCJjYWxsc2l0ZV9pZCI6MzgxMjI5MDc5NTc1OTQ2fQ%3D%3D&ars=facebook_login\n"
     ]
    },
    {
     "name": "stderr",
     "output_type": "stream",
     "text": [
      "<ipython-input-48-7bdfe6ef27c9>:2: DeprecationWarning: find_element_by_* commands are deprecated. Please use find_element() instead\n",
      "  get_attribute = driver.find_element_by_xpath(\"//a[text()='Forgotten password?']\").get_attribute(\"href\")\n"
     ]
    }
   ],
   "source": [
    "# I want to get the href attribute of the same link\n",
    "get_attribute = driver.find_element_by_xpath(\"//a[text()='Forgotten password?']\").get_attribute(\"href\")\n",
    "print(get_attribute)\n",
    "\n",
    "# giving the links that are present"
   ]
  },
  {
   "cell_type": "markdown",
   "id": "d388c006",
   "metadata": {},
   "source": [
    "###### c.   send_keys()                            # Sending data to text box"
   ]
  },
  {
   "cell_type": "code",
   "execution_count": 54,
   "id": "93336767",
   "metadata": {},
   "outputs": [
    {
     "name": "stderr",
     "output_type": "stream",
     "text": [
      "<ipython-input-54-d462a55083bd>:1: DeprecationWarning: find_element_by_* commands are deprecated. Please use find_element() instead\n",
      "  send_data = driver.find_element_by_xpath(\"//input[@id='email']\")\n"
     ]
    }
   ],
   "source": [
    "send_data = driver.find_element_by_xpath(\"//input[@id='email']\")\n",
    "send_data.send_keys(\"vishi@gmail.com\")\n"
   ]
  },
  {
   "cell_type": "markdown",
   "id": "dfee97d1",
   "metadata": {},
   "source": [
    "###### d. clear()                     # for clearning the text, it is only used with text box"
   ]
  },
  {
   "cell_type": "code",
   "execution_count": 55,
   "id": "2532fdaa",
   "metadata": {},
   "outputs": [
    {
     "name": "stderr",
     "output_type": "stream",
     "text": [
      "<ipython-input-55-2bee7cede14b>:1: DeprecationWarning: find_element_by_* commands are deprecated. Please use find_element() instead\n",
      "  send_data = driver.find_element_by_xpath(\"//input[@id='email']\")\n"
     ]
    }
   ],
   "source": [
    "send_data = driver.find_element_by_xpath(\"//input[@id='email']\")\n",
    "send_data.clear()"
   ]
  },
  {
   "cell_type": "markdown",
   "id": "e1f22cbf",
   "metadata": {},
   "source": [
    "# Conditional Commands\n",
    "\n",
    "This commands use as boolean, basically use with check boxes, text boxes, radio button , etc\n",
    "\n",
    "###### is_displayed()\n",
    "###### is_enabled()\n",
    "###### is_selected()\n"
   ]
  },
  {
   "cell_type": "code",
   "execution_count": 58,
   "id": "b65ae650",
   "metadata": {},
   "outputs": [
    {
     "name": "stderr",
     "output_type": "stream",
     "text": [
      "<ipython-input-58-58cabe0c78ae>:1: DeprecationWarning: find_element_by_* commands are deprecated. Please use find_element() instead\n",
      "  click_on_create_account = driver.find_element_by_xpath(\"//a[@role='button'and @class= '_42ft _4jy0 _6lti _4jy6 _4jy2 selected _51sy']\")\n"
     ]
    }
   ],
   "source": [
    "click_on_create_account = driver.find_element_by_xpath(\"//a[@role='button'and @class= '_42ft _4jy0 _6lti _4jy6 _4jy2 selected _51sy']\")\n",
    "click_on_create_account.click()"
   ]
  },
  {
   "cell_type": "code",
   "execution_count": 68,
   "id": "4200809d",
   "metadata": {},
   "outputs": [
    {
     "name": "stdout",
     "output_type": "stream",
     "text": [
      "True\n",
      "\n",
      "True\n",
      "\n",
      "False\n"
     ]
    },
    {
     "name": "stderr",
     "output_type": "stream",
     "text": [
      "<ipython-input-68-52db15df2cf2>:3: DeprecationWarning: find_element_by_* commands are deprecated. Please use find_element() instead\n",
      "  radio_button = driver.find_element_by_xpath(\"//input[@class='_8esa' and @type = 'radio' and @value='1']\")\n"
     ]
    }
   ],
   "source": [
    "# We are working on radio button, I want to apply the conditional command on radio button\n",
    "\n",
    "radio_button = driver.find_element_by_xpath(\"//input[@class='_8esa' and @type = 'radio' and @value='1']\")\n",
    "print(radio_button.is_displayed())\n",
    "print()\n",
    "print(radio_button.is_enabled())\n",
    "print()\n",
    "print(radio_button.is_selected())     # It will give false, because at initial it is not selected\n",
    "\n"
   ]
  },
  {
   "cell_type": "code",
   "execution_count": 69,
   "id": "e5c6739e",
   "metadata": {},
   "outputs": [
    {
     "name": "stdout",
     "output_type": "stream",
     "text": [
      "True\n"
     ]
    }
   ],
   "source": [
    "# Clicking on button first\n",
    "\n",
    "radio_button.click()\n",
    "print(radio_button.is_selected())    # after selecting, it is showing true"
   ]
  },
  {
   "cell_type": "markdown",
   "id": "865dc939",
   "metadata": {},
   "source": [
    "# Navigational Commands\n",
    "###### driver.back()\n",
    "###### driver.forward()\n",
    "###### driver.refresh()"
   ]
  },
  {
   "cell_type": "code",
   "execution_count": 73,
   "id": "57ecbd7e",
   "metadata": {},
   "outputs": [
    {
     "name": "stdout",
     "output_type": "stream",
     "text": [
      "India Cricket Team, India team and players, captain, fixtures, schedules, Scores\n"
     ]
    }
   ],
   "source": [
    "driver.get(\"https://www.espncricinfo.com/team/india-6\")  # Currently I'm on India page\n",
    "print(driver.title)"
   ]
  },
  {
   "cell_type": "code",
   "execution_count": 74,
   "id": "97a02253",
   "metadata": {},
   "outputs": [
    {
     "name": "stderr",
     "output_type": "stream",
     "text": [
      "<ipython-input-74-18172b82d2b7>:1: DeprecationWarning: find_element_by_* commands are deprecated. Please use find_element() instead\n",
      "  click_fr_link = driver.find_element_by_xpath(\"//a[@data-hover='Fixtures and Results']\")\n"
     ]
    }
   ],
   "source": [
    "click_fr_link = driver.find_element_by_xpath(\"//a[@data-hover='Fixtures and Results']\")\n",
    "click_fr_link.click()"
   ]
  },
  {
   "cell_type": "code",
   "execution_count": null,
   "id": "7c95f0ec",
   "metadata": {},
   "outputs": [],
   "source": [
    "driver.back()       # for getting back to previous page\n",
    "time.sleep(5)\n",
    "\n",
    "driver.forward()    # for getting into forward page\n",
    "time.sleep(5)\n",
    "\n",
    "driver.refresh()    # for refreshing the current page"
   ]
  },
  {
   "cell_type": "code",
   "execution_count": null,
   "id": "08cac2b8",
   "metadata": {},
   "outputs": [],
   "source": []
  },
  {
   "cell_type": "code",
   "execution_count": null,
   "id": "588666e0",
   "metadata": {},
   "outputs": [],
   "source": []
  },
  {
   "cell_type": "code",
   "execution_count": null,
   "id": "d6eca793",
   "metadata": {},
   "outputs": [],
   "source": []
  },
  {
   "cell_type": "code",
   "execution_count": null,
   "id": "54031eab",
   "metadata": {},
   "outputs": [],
   "source": []
  },
  {
   "cell_type": "code",
   "execution_count": null,
   "id": "dbf7561f",
   "metadata": {},
   "outputs": [],
   "source": []
  }
 ],
 "metadata": {
  "kernelspec": {
   "display_name": "Python 3",
   "language": "python",
   "name": "python3"
  },
  "language_info": {
   "codemirror_mode": {
    "name": "ipython",
    "version": 3
   },
   "file_extension": ".py",
   "mimetype": "text/x-python",
   "name": "python",
   "nbconvert_exporter": "python",
   "pygments_lexer": "ipython3",
   "version": "3.8.8"
  }
 },
 "nbformat": 4,
 "nbformat_minor": 5
}
